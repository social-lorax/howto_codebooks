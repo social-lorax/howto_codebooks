{
    "nbformat_minor": 2, 
    "cells": [
        {
            "source": "<a id='top'></a>\n![alt text](https://www.python.org/static/community_logos/python-logo-master-v3-TM.png)", 
            "cell_type": "markdown", 
            "metadata": {}
        }, 
        {
            "execution_count": 1, 
            "cell_type": "code", 
            "metadata": {}, 
            "outputs": [], 
            "source": "# The code was removed by Watson Studio for sharing."
        }, 
        {
            "source": "## [Super Basic](#Super_Basic)  \n\n## [Mathematical Functions](#Math_Func)  \n\n## [Variables](#Variables)  \n\n## [Data Types](#Data_Types)\n* [Basics](#DT_Basics)\n\n* [Boolean Operators](#DT_Bool)\n\n* [Functions and Methods](#Func_Meth)\n\n## [Lists](#Lists)  \n* [Creating](#Create_Lists)\n\n* [Indexing](#Index_Lists)\n\n* [Editing](#Edit_Lists)\n\n* [Checking for Duplicates](#Dup_Lists)\n\n* [Sorting](#Sort_Lists)\n\n* [Zipping](#Zip_Lists)\n\n* [Counting Occurance of Item](#Count_Lists)\n\n## [Dictionaries](#Dicts)\n* [Creating](#Create_Dicts)\n\n* [Using](#Using_Dicts)\n\n* [Editing](#Edit_Dicts)\n\n## [Sets](#Sets)\n* [Creating](#Create_Sets)\n\n* [Editing](#Edit_Sets)\n\n* [Exploring](#Explore_Sets)\n\n## [Loops](#Loops)\n* [While](#While_Loops)\n\n* [For](#For_Loops)\n\n## [Functions](#Functions)\n* [Basic](#Basic_Func)\n\n* [If/Elif/Else](#If_Func)\n\n* [Default Parameterss](#Def_Func)\n\n* [Infinite Parameters](#Inf_Func)\n\n* [Lambda Functions](#Lamb_Func)\n\n* [Packages](#Packages)\n\n## [Classes and Objects](#Class_Obj)  \n\n## [DateTime](#Date_Time)\n* [Basic](#Simple_DT)\n\n* [DataFrames](#DF_DT)\n\n* [Codes](#Codes_DT)\n\n* [Selecting](#Selecting_DT)\n\n* [Indexing by Date](#Index_DT)\n\n## [Files](#Files)\n* [Text](#Text_Files)\n\n* [Pickled Files](#Pickled_Files)", 
            "cell_type": "markdown", 
            "metadata": {}
        }, 
        {
            "source": "# $Resources$ \n\n[Python Tutorial](https://www.python.org/about/gettingstarted/)", 
            "cell_type": "markdown", 
            "metadata": {}
        }, 
        {
            "source": "![alt text](http://heienv.com/wp-content/uploads/2017/03/fancy-line-break.png)", 
            "cell_type": "markdown", 
            "metadata": {}
        }, 
        {
            "source": "<a id='Super_Basic'></a>\n# <p style='text-align: center;'> $Super$ $Basic$ </p>", 
            "cell_type": "markdown", 
            "metadata": {}
        }, 
        {
            "execution_count": 2, 
            "cell_type": "code", 
            "metadata": {}, 
            "outputs": [], 
            "source": "# This is a comment, it won't do anything"
        }, 
        {
            "execution_count": 3, 
            "cell_type": "code", 
            "metadata": {
                "scrolled": true
            }, 
            "outputs": [
                {
                    "output_type": "stream", 
                    "name": "stdout", 
                    "text": "Help on built-in function round in module builtins:\n\nround(...)\n    round(number[, ndigits]) -> number\n    \n    Round a number to a given precision in decimal digits (default 0 digits).\n    This returns an int when called with one argument, otherwise the\n    same type as the number. ndigits may be negative.\n\n"
                }
            ], 
            "source": "# Help defines a function\nhelp(round)"
        }, 
        {
            "source": "### <p style='text-align: center;'> [Back to Top](#top)</p>\n![alt text](http://heienv.com/wp-content/uploads/2017/03/fancy-line-break.png)", 
            "cell_type": "markdown", 
            "metadata": {}
        }, 
        {
            "source": "<a id='Math_Func'></a>\n# <p style='text-align: center;'> $Mathematical$ $Functions$ </p>", 
            "cell_type": "markdown", 
            "metadata": {}
        }, 
        {
            "execution_count": 4, 
            "cell_type": "code", 
            "metadata": {}, 
            "outputs": [
                {
                    "output_type": "stream", 
                    "name": "stdout", 
                    "text": "3\n1\n30\n3.0\n"
                }
            ], 
            "source": "# Basic arithmatic symbols are the same\nprint(1+2)\nprint(4-3)\nprint(5*6)\nprint(9/3)"
        }, 
        {
            "execution_count": 5, 
            "cell_type": "code", 
            "metadata": {}, 
            "outputs": [
                {
                    "output_type": "stream", 
                    "name": "stdout", 
                    "text": "8\n"
                }
            ], 
            "source": "# Exponents are **\nprint(2**3)"
        }, 
        {
            "execution_count": 6, 
            "cell_type": "code", 
            "metadata": {}, 
            "outputs": [
                {
                    "output_type": "stream", 
                    "name": "stdout", 
                    "text": "2.3333333333333335\n1\n"
                }
            ], 
            "source": "# Remainder is %\nprint(7/3)\nprint(7%3)"
        }, 
        {
            "source": "x % 2 = 0 is a quick reference for even  \nx % 2 = 1 is a quick reference for odd", 
            "cell_type": "markdown", 
            "metadata": {}
        }, 
        {
            "execution_count": 7, 
            "cell_type": "code", 
            "metadata": {}, 
            "outputs": [
                {
                    "output_type": "stream", 
                    "name": "stdout", 
                    "text": "11\n10.6\n"
                }
            ], 
            "source": "# Rounding can be accomplished through a function\nprint(round(10.567))\nprint(round(10.567,1))"
        }, 
        {
            "execution_count": 8, 
            "cell_type": "code", 
            "metadata": {}, 
            "outputs": [
                {
                    "output_type": "stream", 
                    "name": "stdout", 
                    "text": "9\n2\n"
                }
            ], 
            "source": "# Max and min\neg_list = [2, 5, 9]\nprint(max(eg_list))\nprint(min(eg_list))"
        }, 
        {
            "source": "### <p style='text-align: center;'> [Back to Top](#top)</p>\n![alt text](http://heienv.com/wp-content/uploads/2017/03/fancy-line-break.png)", 
            "cell_type": "markdown", 
            "metadata": {}
        }, 
        {
            "source": "<a id='Variables'></a>\n# <p style='text-align: center;'> $Variables$ </p>", 
            "cell_type": "markdown", 
            "metadata": {}
        }, 
        {
            "execution_count": 9, 
            "cell_type": "code", 
            "metadata": {}, 
            "outputs": [], 
            "source": "variable = \"whatever you want\""
        }, 
        {
            "source": "Setting a variable to a variable copies the value; it is NOT a link", 
            "cell_type": "markdown", 
            "metadata": {
                "collapsed": true
            }
        }, 
        {
            "execution_count": 10, 
            "cell_type": "code", 
            "metadata": {}, 
            "outputs": [
                {
                    "output_type": "stream", 
                    "name": "stdout", 
                    "text": "see!\n1\n"
                }
            ], 
            "source": "a = 1\nb = a\n\na = 'see!'\n\nprint(a)\nprint(b)"
        }, 
        {
            "source": "### <p style='text-align: center;'> [Back to Top](#top)</p>\n![alt text](http://heienv.com/wp-content/uploads/2017/03/fancy-line-break.png)", 
            "cell_type": "markdown", 
            "metadata": {}
        }, 
        {
            "source": "<a id='Data_Types'></a>\n# <p style='text-align: center;'> $Data$ $Types$ </p>", 
            "cell_type": "markdown", 
            "metadata": {}
        }, 
        {
            "source": "<a id='DT_Basics'></a>\n### $Basics$\n***", 
            "cell_type": "markdown", 
            "metadata": {}
        }, 
        {
            "execution_count": 11, 
            "cell_type": "code", 
            "metadata": {}, 
            "outputs": [
                {
                    "output_type": "stream", 
                    "name": "stdout", 
                    "text": "<class 'int'> is an integer; no decimal\n<class 'float'> is a float; decimals\n<class 'str'> is a string; value-less characters\n<class 'bool'> is a Boolean; True/False 1/0 value\n"
                }
            ], 
            "source": "# Types\nprint(type(100),'is an integer; no decimal')\nprint(type(100.0),'is a float; decimals')\nprint(type('100'),'is a string; value-less characters') \nprint(type(100==100),'is a Boolean; True/False 1/0 value')"
        }, 
        {
            "execution_count": 12, 
            "cell_type": "code", 
            "metadata": {}, 
            "outputs": [
                {
                    "output_type": "stream", 
                    "name": "stdout", 
                    "text": "<class 'float'>\n"
                }
            ], 
            "source": "# Using a float in an operation will return a float \nprint(type(1.0 + 1))"
        }, 
        {
            "execution_count": 13, 
            "cell_type": "code", 
            "metadata": {}, 
            "outputs": [
                {
                    "output_type": "stream", 
                    "name": "stdout", 
                    "text": "<class 'int'>\n<class 'float'>\n"
                }
            ], 
            "source": "# Using just integers will result in integers unless it is division\nprint(type(1+1))\nprint(type(1/1))"
        }, 
        {
            "execution_count": 14, 
            "cell_type": "code", 
            "metadata": {}, 
            "outputs": [
                {
                    "output_type": "stream", 
                    "name": "stdout", 
                    "text": "<class 'int'>\n<class 'float'>\n<class 'str'>\n"
                }
            ], 
            "source": "# Converting \nprint(type(int(100.0))) #int() changes to an integer\nprint(type(float(100))) #float() changes to a float\nprint(type(str(100))) #str() changes to a string"
        }, 
        {
            "source": "<a id='DT_Bool'></a>\n### $Boolean$ $Operators$\n***\n\n|Function |Symbol|\n|:---------:|:------:|\n|Equal    |==    |\n|Not Equal|!=    |  \n|Greater|>|  \n|Greater or Equal|>=|  \n|Less| <|\n|Less or Equal|<=|", 
            "cell_type": "markdown", 
            "metadata": {}
        }, 
        {
            "source": "<a id='Func_Meth'></a>\n### $Functions$ $and$ $Methods$\n***", 
            "cell_type": "markdown", 
            "metadata": {}
        }, 
        {
            "source": "function(object)  \nobject.method()", 
            "cell_type": "markdown", 
            "metadata": {}
        }, 
        {
            "execution_count": 15, 
            "cell_type": "code", 
            "metadata": {}, 
            "outputs": [
                {
                    "output_type": "stream", 
                    "name": "stdout", 
                    "text": "Help on class str in module builtins:\n\nclass str(object)\n |  str(object='') -> str\n |  str(bytes_or_buffer[, encoding[, errors]]) -> str\n |  \n |  Create a new string object from the given object. If encoding or\n |  errors is specified, then the object must expose a data buffer\n |  that will be decoded using the given encoding and error handler.\n |  Otherwise, returns the result of object.__str__() (if defined)\n |  or repr(object).\n |  encoding defaults to sys.getdefaultencoding().\n |  errors defaults to 'strict'.\n |  \n |  Methods defined here:\n |  \n |  __add__(self, value, /)\n |      Return self+value.\n |  \n |  __contains__(self, key, /)\n |      Return key in self.\n |  \n |  __eq__(self, value, /)\n |      Return self==value.\n |  \n |  __format__(...)\n |      S.__format__(format_spec) -> str\n |      \n |      Return a formatted version of S as described by format_spec.\n |  \n |  __ge__(self, value, /)\n |      Return self>=value.\n |  \n |  __getattribute__(self, name, /)\n |      Return getattr(self, name).\n |  \n |  __getitem__(self, key, /)\n |      Return self[key].\n |  \n |  __getnewargs__(...)\n |  \n |  __gt__(self, value, /)\n |      Return self>value.\n |  \n |  __hash__(self, /)\n |      Return hash(self).\n |  \n |  __iter__(self, /)\n |      Implement iter(self).\n |  \n |  __le__(self, value, /)\n |      Return self<=value.\n |  \n |  __len__(self, /)\n |      Return len(self).\n |  \n |  __lt__(self, value, /)\n |      Return self<value.\n |  \n |  __mod__(self, value, /)\n |      Return self%value.\n |  \n |  __mul__(self, value, /)\n |      Return self*value.n\n |  \n |  __ne__(self, value, /)\n |      Return self!=value.\n |  \n |  __new__(*args, **kwargs) from builtins.type\n |      Create and return a new object.  See help(type) for accurate signature.\n |  \n |  __repr__(self, /)\n |      Return repr(self).\n |  \n |  __rmod__(self, value, /)\n |      Return value%self.\n |  \n |  __rmul__(self, value, /)\n |      Return self*value.\n |  \n |  __sizeof__(...)\n |      S.__sizeof__() -> size of S in memory, in bytes\n |  \n |  __str__(self, /)\n |      Return str(self).\n |  \n |  capitalize(...)\n |      S.capitalize() -> str\n |      \n |      Return a capitalized version of S, i.e. make the first character\n |      have upper case and the rest lower case.\n |  \n |  casefold(...)\n |      S.casefold() -> str\n |      \n |      Return a version of S suitable for caseless comparisons.\n |  \n |  center(...)\n |      S.center(width[, fillchar]) -> str\n |      \n |      Return S centered in a string of length width. Padding is\n |      done using the specified fill character (default is a space)\n |  \n |  count(...)\n |      S.count(sub[, start[, end]]) -> int\n |      \n |      Return the number of non-overlapping occurrences of substring sub in\n |      string S[start:end].  Optional arguments start and end are\n |      interpreted as in slice notation.\n |  \n |  encode(...)\n |      S.encode(encoding='utf-8', errors='strict') -> bytes\n |      \n |      Encode S using the codec registered for encoding. Default encoding\n |      is 'utf-8'. errors may be given to set a different error\n |      handling scheme. Default is 'strict' meaning that encoding errors raise\n |      a UnicodeEncodeError. Other possible values are 'ignore', 'replace' and\n |      'xmlcharrefreplace' as well as any other name registered with\n |      codecs.register_error that can handle UnicodeEncodeErrors.\n |  \n |  endswith(...)\n |      S.endswith(suffix[, start[, end]]) -> bool\n |      \n |      Return True if S ends with the specified suffix, False otherwise.\n |      With optional start, test S beginning at that position.\n |      With optional end, stop comparing S at that position.\n |      suffix can also be a tuple of strings to try.\n |  \n |  expandtabs(...)\n |      S.expandtabs(tabsize=8) -> str\n |      \n |      Return a copy of S where all tab characters are expanded using spaces.\n |      If tabsize is not given, a tab size of 8 characters is assumed.\n |  \n |  find(...)\n |      S.find(sub[, start[, end]]) -> int\n |      \n |      Return the lowest index in S where substring sub is found,\n |      such that sub is contained within S[start:end].  Optional\n |      arguments start and end are interpreted as in slice notation.\n |      \n |      Return -1 on failure.\n |  \n |  format(...)\n |      S.format(*args, **kwargs) -> str\n |      \n |      Return a formatted version of S, using substitutions from args and kwargs.\n |      The substitutions are identified by braces ('{' and '}').\n |  \n |  format_map(...)\n |      S.format_map(mapping) -> str\n |      \n |      Return a formatted version of S, using substitutions from mapping.\n |      The substitutions are identified by braces ('{' and '}').\n |  \n |  index(...)\n |      S.index(sub[, start[, end]]) -> int\n |      \n |      Like S.find() but raise ValueError when the substring is not found.\n |  \n |  isalnum(...)\n |      S.isalnum() -> bool\n |      \n |      Return True if all characters in S are alphanumeric\n |      and there is at least one character in S, False otherwise.\n |  \n |  isalpha(...)\n |      S.isalpha() -> bool\n |      \n |      Return True if all characters in S are alphabetic\n |      and there is at least one character in S, False otherwise.\n |  \n |  isdecimal(...)\n |      S.isdecimal() -> bool\n |      \n |      Return True if there are only decimal characters in S,\n |      False otherwise.\n |  \n |  isdigit(...)\n |      S.isdigit() -> bool\n |      \n |      Return True if all characters in S are digits\n |      and there is at least one character in S, False otherwise.\n |  \n |  isidentifier(...)\n |      S.isidentifier() -> bool\n |      \n |      Return True if S is a valid identifier according\n |      to the language definition.\n |      \n |      Use keyword.iskeyword() to test for reserved identifiers\n |      such as \"def\" and \"class\".\n |  \n |  islower(...)\n |      S.islower() -> bool\n |      \n |      Return True if all cased characters in S are lowercase and there is\n |      at least one cased character in S, False otherwise.\n |  \n |  isnumeric(...)\n |      S.isnumeric() -> bool\n |      \n |      Return True if there are only numeric characters in S,\n |      False otherwise.\n |  \n |  isprintable(...)\n |      S.isprintable() -> bool\n |      \n |      Return True if all characters in S are considered\n |      printable in repr() or S is empty, False otherwise.\n |  \n |  isspace(...)\n |      S.isspace() -> bool\n |      \n |      Return True if all characters in S are whitespace\n |      and there is at least one character in S, False otherwise.\n |  \n |  istitle(...)\n |      S.istitle() -> bool\n |      \n |      Return True if S is a titlecased string and there is at least one\n |      character in S, i.e. upper- and titlecase characters may only\n |      follow uncased characters and lowercase characters only cased ones.\n |      Return False otherwise.\n |  \n |  isupper(...)\n |      S.isupper() -> bool\n |      \n |      Return True if all cased characters in S are uppercase and there is\n |      at least one cased character in S, False otherwise.\n |  \n |  join(...)\n |      S.join(iterable) -> str\n |      \n |      Return a string which is the concatenation of the strings in the\n |      iterable.  The separator between elements is S.\n |  \n |  ljust(...)\n |      S.ljust(width[, fillchar]) -> str\n |      \n |      Return S left-justified in a Unicode string of length width. Padding is\n |      done using the specified fill character (default is a space).\n |  \n |  lower(...)\n |      S.lower() -> str\n |      \n |      Return a copy of the string S converted to lowercase.\n |  \n |  lstrip(...)\n |      S.lstrip([chars]) -> str\n |      \n |      Return a copy of the string S with leading whitespace removed.\n |      If chars is given and not None, remove characters in chars instead.\n |  \n |  partition(...)\n |      S.partition(sep) -> (head, sep, tail)\n |      \n |      Search for the separator sep in S, and return the part before it,\n |      the separator itself, and the part after it.  If the separator is not\n |      found, return S and two empty strings.\n |  \n |  replace(...)\n |      S.replace(old, new[, count]) -> str\n |      \n |      Return a copy of S with all occurrences of substring\n |      old replaced by new.  If the optional argument count is\n |      given, only the first count occurrences are replaced.\n |  \n |  rfind(...)\n |      S.rfind(sub[, start[, end]]) -> int\n |      \n |      Return the highest index in S where substring sub is found,\n |      such that sub is contained within S[start:end].  Optional\n |      arguments start and end are interpreted as in slice notation.\n |      \n |      Return -1 on failure.\n |  \n |  rindex(...)\n |      S.rindex(sub[, start[, end]]) -> int\n |      \n |      Like S.rfind() but raise ValueError when the substring is not found.\n |  \n |  rjust(...)\n |      S.rjust(width[, fillchar]) -> str\n |      \n |      Return S right-justified in a string of length width. Padding is\n |      done using the specified fill character (default is a space).\n |  \n |  rpartition(...)\n |      S.rpartition(sep) -> (head, sep, tail)\n |      \n |      Search for the separator sep in S, starting at the end of S, and return\n |      the part before it, the separator itself, and the part after it.  If the\n |      separator is not found, return two empty strings and S.\n |  \n |  rsplit(...)\n |      S.rsplit(sep=None, maxsplit=-1) -> list of strings\n |      \n |      Return a list of the words in S, using sep as the\n |      delimiter string, starting at the end of the string and\n |      working to the front.  If maxsplit is given, at most maxsplit\n |      splits are done. If sep is not specified, any whitespace string\n |      is a separator.\n |  \n |  rstrip(...)\n |      S.rstrip([chars]) -> str\n |      \n |      Return a copy of the string S with trailing whitespace removed.\n |      If chars is given and not None, remove characters in chars instead.\n |  \n |  split(...)\n |      S.split(sep=None, maxsplit=-1) -> list of strings\n |      \n |      Return a list of the words in S, using sep as the\n |      delimiter string.  If maxsplit is given, at most maxsplit\n |      splits are done. If sep is not specified or is None, any\n |      whitespace string is a separator and empty strings are\n |      removed from the result.\n |  \n |  splitlines(...)\n |      S.splitlines([keepends]) -> list of strings\n |      \n |      Return a list of the lines in S, breaking at line boundaries.\n |      Line breaks are not included in the resulting list unless keepends\n |      is given and true.\n |  \n |  startswith(...)\n |      S.startswith(prefix[, start[, end]]) -> bool\n |      \n |      Return True if S starts with the specified prefix, False otherwise.\n |      With optional start, test S beginning at that position.\n |      With optional end, stop comparing S at that position.\n |      prefix can also be a tuple of strings to try.\n |  \n |  strip(...)\n |      S.strip([chars]) -> str\n |      \n |      Return a copy of the string S with leading and trailing\n |      whitespace removed.\n |      If chars is given and not None, remove characters in chars instead.\n |  \n |  swapcase(...)\n |      S.swapcase() -> str\n |      \n |      Return a copy of S with uppercase characters converted to lowercase\n |      and vice versa.\n |  \n |  title(...)\n |      S.title() -> str\n |      \n |      Return a titlecased version of S, i.e. words start with title case\n |      characters, all remaining cased characters have lower case.\n |  \n |  translate(...)\n |      S.translate(table) -> str\n |      \n |      Return a copy of the string S in which each character has been mapped\n |      through the given translation table. The table must implement\n |      lookup/indexing via __getitem__, for instance a dictionary or list,\n |      mapping Unicode ordinals to Unicode ordinals, strings, or None. If\n |      this operation raises LookupError, the character is left untouched.\n |      Characters mapped to None are deleted.\n |  \n |  upper(...)\n |      S.upper() -> str\n |      \n |      Return a copy of S converted to uppercase.\n |  \n |  zfill(...)\n |      S.zfill(width) -> str\n |      \n |      Pad a numeric string S with zeros on the left, to fill a field\n |      of the specified width. The string S is never truncated.\n |  \n |  ----------------------------------------------------------------------\n |  Static methods defined here:\n |  \n |  maketrans(x, y=None, z=None, /)\n |      Return a translation table usable for str.translate().\n |      \n |      If there is only one argument, it must be a dictionary mapping Unicode\n |      ordinals (integers) or characters to Unicode ordinals, strings or None.\n |      Character keys will be then converted to ordinals.\n |      If there are two arguments, they must be strings of equal length, and\n |      in the resulting dictionary, each character in x will be mapped to the\n |      character at the same position in y. If there is a third argument, it\n |      must be a string, whose characters will be mapped to None in the result.\n\n"
                }
            ], 
            "source": "help(str)"
        }, 
        {
            "execution_count": 16, 
            "cell_type": "code", 
            "metadata": {}, 
            "outputs": [
                {
                    "output_type": "stream", 
                    "name": "stdout", 
                    "text": "Help on class int in module builtins:\n\nclass int(object)\n |  int(x=0) -> integer\n |  int(x, base=10) -> integer\n |  \n |  Convert a number or string to an integer, or return 0 if no arguments\n |  are given.  If x is a number, return x.__int__().  For floating point\n |  numbers, this truncates towards zero.\n |  \n |  If x is not a number or if base is given, then x must be a string,\n |  bytes, or bytearray instance representing an integer literal in the\n |  given base.  The literal can be preceded by '+' or '-' and be surrounded\n |  by whitespace.  The base defaults to 10.  Valid bases are 0 and 2-36.\n |  Base 0 means to interpret the base from the string as an integer literal.\n |  >>> int('0b100', base=0)\n |  4\n |  \n |  Methods defined here:\n |  \n |  __abs__(self, /)\n |      abs(self)\n |  \n |  __add__(self, value, /)\n |      Return self+value.\n |  \n |  __and__(self, value, /)\n |      Return self&value.\n |  \n |  __bool__(self, /)\n |      self != 0\n |  \n |  __ceil__(...)\n |      Ceiling of an Integral returns itself.\n |  \n |  __divmod__(self, value, /)\n |      Return divmod(self, value).\n |  \n |  __eq__(self, value, /)\n |      Return self==value.\n |  \n |  __float__(self, /)\n |      float(self)\n |  \n |  __floor__(...)\n |      Flooring an Integral returns itself.\n |  \n |  __floordiv__(self, value, /)\n |      Return self//value.\n |  \n |  __format__(...)\n |      default object formatter\n |  \n |  __ge__(self, value, /)\n |      Return self>=value.\n |  \n |  __getattribute__(self, name, /)\n |      Return getattr(self, name).\n |  \n |  __getnewargs__(...)\n |  \n |  __gt__(self, value, /)\n |      Return self>value.\n |  \n |  __hash__(self, /)\n |      Return hash(self).\n |  \n |  __index__(self, /)\n |      Return self converted to an integer, if self is suitable for use as an index into a list.\n |  \n |  __int__(self, /)\n |      int(self)\n |  \n |  __invert__(self, /)\n |      ~self\n |  \n |  __le__(self, value, /)\n |      Return self<=value.\n |  \n |  __lshift__(self, value, /)\n |      Return self<<value.\n |  \n |  __lt__(self, value, /)\n |      Return self<value.\n |  \n |  __mod__(self, value, /)\n |      Return self%value.\n |  \n |  __mul__(self, value, /)\n |      Return self*value.\n |  \n |  __ne__(self, value, /)\n |      Return self!=value.\n |  \n |  __neg__(self, /)\n |      -self\n |  \n |  __new__(*args, **kwargs) from builtins.type\n |      Create and return a new object.  See help(type) for accurate signature.\n |  \n |  __or__(self, value, /)\n |      Return self|value.\n |  \n |  __pos__(self, /)\n |      +self\n |  \n |  __pow__(self, value, mod=None, /)\n |      Return pow(self, value, mod).\n |  \n |  __radd__(self, value, /)\n |      Return value+self.\n |  \n |  __rand__(self, value, /)\n |      Return value&self.\n |  \n |  __rdivmod__(self, value, /)\n |      Return divmod(value, self).\n |  \n |  __repr__(self, /)\n |      Return repr(self).\n |  \n |  __rfloordiv__(self, value, /)\n |      Return value//self.\n |  \n |  __rlshift__(self, value, /)\n |      Return value<<self.\n |  \n |  __rmod__(self, value, /)\n |      Return value%self.\n |  \n |  __rmul__(self, value, /)\n |      Return value*self.\n |  \n |  __ror__(self, value, /)\n |      Return value|self.\n |  \n |  __round__(...)\n |      Rounding an Integral returns itself.\n |      Rounding with an ndigits argument also returns an integer.\n |  \n |  __rpow__(self, value, mod=None, /)\n |      Return pow(value, self, mod).\n |  \n |  __rrshift__(self, value, /)\n |      Return value>>self.\n |  \n |  __rshift__(self, value, /)\n |      Return self>>value.\n |  \n |  __rsub__(self, value, /)\n |      Return value-self.\n |  \n |  __rtruediv__(self, value, /)\n |      Return value/self.\n |  \n |  __rxor__(self, value, /)\n |      Return value^self.\n |  \n |  __sizeof__(...)\n |      Returns size in memory, in bytes\n |  \n |  __str__(self, /)\n |      Return str(self).\n |  \n |  __sub__(self, value, /)\n |      Return self-value.\n |  \n |  __truediv__(self, value, /)\n |      Return self/value.\n |  \n |  __trunc__(...)\n |      Truncating an Integral returns itself.\n |  \n |  __xor__(self, value, /)\n |      Return self^value.\n |  \n |  bit_length(...)\n |      int.bit_length() -> int\n |      \n |      Number of bits necessary to represent self in binary.\n |      >>> bin(37)\n |      '0b100101'\n |      >>> (37).bit_length()\n |      6\n |  \n |  conjugate(...)\n |      Returns self, the complex conjugate of any int.\n |  \n |  from_bytes(...) from builtins.type\n |      int.from_bytes(bytes, byteorder, *, signed=False) -> int\n |      \n |      Return the integer represented by the given array of bytes.\n |      \n |      The bytes argument must be a bytes-like object (e.g. bytes or bytearray).\n |      \n |      The byteorder argument determines the byte order used to represent the\n |      integer.  If byteorder is 'big', the most significant byte is at the\n |      beginning of the byte array.  If byteorder is 'little', the most\n |      significant byte is at the end of the byte array.  To request the native\n |      byte order of the host system, use `sys.byteorder' as the byte order value.\n |      \n |      The signed keyword-only argument indicates whether two's complement is\n |      used to represent the integer.\n |  \n |  to_bytes(...)\n |      int.to_bytes(length, byteorder, *, signed=False) -> bytes\n |      \n |      Return an array of bytes representing an integer.\n |      \n |      The integer is represented using length bytes.  An OverflowError is\n |      raised if the integer is not representable with the given number of\n |      bytes.\n |      \n |      The byteorder argument determines the byte order used to represent the\n |      integer.  If byteorder is 'big', the most significant byte is at the\n |      beginning of the byte array.  If byteorder is 'little', the most\n |      significant byte is at the end of the byte array.  To request the native\n |      byte order of the host system, use `sys.byteorder' as the byte order value.\n |      \n |      The signed keyword-only argument determines whether two's complement is\n |      used to represent the integer.  If signed is False and a negative integer\n |      is given, an OverflowError is raised.\n |  \n |  ----------------------------------------------------------------------\n |  Data descriptors defined here:\n |  \n |  denominator\n |      the denominator of a rational number in lowest terms\n |  \n |  imag\n |      the imaginary part of a complex number\n |  \n |  numerator\n |      the numerator of a rational number in lowest terms\n |  \n |  real\n |      the real part of a complex number\n\n"
                }
            ], 
            "source": "help(int)"
        }, 
        {
            "execution_count": 17, 
            "cell_type": "code", 
            "metadata": {}, 
            "outputs": [
                {
                    "output_type": "stream", 
                    "name": "stdout", 
                    "text": "Help on class float in module builtins:\n\nclass float(object)\n |  float(x) -> floating point number\n |  \n |  Convert a string or number to a floating point number, if possible.\n |  \n |  Methods defined here:\n |  \n |  __abs__(self, /)\n |      abs(self)\n |  \n |  __add__(self, value, /)\n |      Return self+value.\n |  \n |  __bool__(self, /)\n |      self != 0\n |  \n |  __divmod__(self, value, /)\n |      Return divmod(self, value).\n |  \n |  __eq__(self, value, /)\n |      Return self==value.\n |  \n |  __float__(self, /)\n |      float(self)\n |  \n |  __floordiv__(self, value, /)\n |      Return self//value.\n |  \n |  __format__(...)\n |      float.__format__(format_spec) -> string\n |      \n |      Formats the float according to format_spec.\n |  \n |  __ge__(self, value, /)\n |      Return self>=value.\n |  \n |  __getattribute__(self, name, /)\n |      Return getattr(self, name).\n |  \n |  __getformat__(...) from builtins.type\n |      float.__getformat__(typestr) -> string\n |      \n |      You probably don't want to use this function.  It exists mainly to be\n |      used in Python's test suite.\n |      \n |      typestr must be 'double' or 'float'.  This function returns whichever of\n |      'unknown', 'IEEE, big-endian' or 'IEEE, little-endian' best describes the\n |      format of floating point numbers used by the C type named by typestr.\n |  \n |  __getnewargs__(...)\n |  \n |  __gt__(self, value, /)\n |      Return self>value.\n |  \n |  __hash__(self, /)\n |      Return hash(self).\n |  \n |  __int__(self, /)\n |      int(self)\n |  \n |  __le__(self, value, /)\n |      Return self<=value.\n |  \n |  __lt__(self, value, /)\n |      Return self<value.\n |  \n |  __mod__(self, value, /)\n |      Return self%value.\n |  \n |  __mul__(self, value, /)\n |      Return self*value.\n |  \n |  __ne__(self, value, /)\n |      Return self!=value.\n |  \n |  __neg__(self, /)\n |      -self\n |  \n |  __new__(*args, **kwargs) from builtins.type\n |      Create and return a new object.  See help(type) for accurate signature.\n |  \n |  __pos__(self, /)\n |      +self\n |  \n |  __pow__(self, value, mod=None, /)\n |      Return pow(self, value, mod).\n |  \n |  __radd__(self, value, /)\n |      Return value+self.\n |  \n |  __rdivmod__(self, value, /)\n |      Return divmod(value, self).\n |  \n |  __repr__(self, /)\n |      Return repr(self).\n |  \n |  __rfloordiv__(self, value, /)\n |      Return value//self.\n |  \n |  __rmod__(self, value, /)\n |      Return value%self.\n |  \n |  __rmul__(self, value, /)\n |      Return value*self.\n |  \n |  __round__(...)\n |      Return the Integral closest to x, rounding half toward even.\n |      When an argument is passed, work like built-in round(x, ndigits).\n |  \n |  __rpow__(self, value, mod=None, /)\n |      Return pow(value, self, mod).\n |  \n |  __rsub__(self, value, /)\n |      Return value-self.\n |  \n |  __rtruediv__(self, value, /)\n |      Return value/self.\n |  \n |  __setformat__(...) from builtins.type\n |      float.__setformat__(typestr, fmt) -> None\n |      \n |      You probably don't want to use this function.  It exists mainly to be\n |      used in Python's test suite.\n |      \n |      typestr must be 'double' or 'float'.  fmt must be one of 'unknown',\n |      'IEEE, big-endian' or 'IEEE, little-endian', and in addition can only be\n |      one of the latter two if it appears to match the underlying C reality.\n |      \n |      Override the automatic determination of C-level floating point type.\n |      This affects how floats are converted to and from binary strings.\n |  \n |  __str__(self, /)\n |      Return str(self).\n |  \n |  __sub__(self, value, /)\n |      Return self-value.\n |  \n |  __truediv__(self, value, /)\n |      Return self/value.\n |  \n |  __trunc__(...)\n |      Return the Integral closest to x between 0 and x.\n |  \n |  as_integer_ratio(...)\n |      float.as_integer_ratio() -> (int, int)\n |      \n |      Return a pair of integers, whose ratio is exactly equal to the original\n |      float and with a positive denominator.\n |      Raise OverflowError on infinities and a ValueError on NaNs.\n |      \n |      >>> (10.0).as_integer_ratio()\n |      (10, 1)\n |      >>> (0.0).as_integer_ratio()\n |      (0, 1)\n |      >>> (-.25).as_integer_ratio()\n |      (-1, 4)\n |  \n |  conjugate(...)\n |      Return self, the complex conjugate of any float.\n |  \n |  fromhex(...) from builtins.type\n |      float.fromhex(string) -> float\n |      \n |      Create a floating-point number from a hexadecimal string.\n |      >>> float.fromhex('0x1.ffffp10')\n |      2047.984375\n |      >>> float.fromhex('-0x1p-1074')\n |      -5e-324\n |  \n |  hex(...)\n |      float.hex() -> string\n |      \n |      Return a hexadecimal representation of a floating-point number.\n |      >>> (-0.1).hex()\n |      '-0x1.999999999999ap-4'\n |      >>> 3.14159.hex()\n |      '0x1.921f9f01b866ep+1'\n |  \n |  is_integer(...)\n |      Return True if the float is an integer.\n |  \n |  ----------------------------------------------------------------------\n |  Data descriptors defined here:\n |  \n |  imag\n |      the imaginary part of a complex number\n |  \n |  real\n |      the real part of a complex number\n\n"
                }
            ], 
            "source": "help(float)"
        }, 
        {
            "execution_count": 18, 
            "cell_type": "code", 
            "metadata": {}, 
            "outputs": [
                {
                    "output_type": "stream", 
                    "name": "stdout", 
                    "text": "Help on class bool in module builtins:\n\nclass bool(int)\n |  bool(x) -> bool\n |  \n |  Returns True when the argument x is true, False otherwise.\n |  The builtins True and False are the only two instances of the class bool.\n |  The class bool is a subclass of the class int, and cannot be subclassed.\n |  \n |  Method resolution order:\n |      bool\n |      int\n |      object\n |  \n |  Methods defined here:\n |  \n |  __and__(self, value, /)\n |      Return self&value.\n |  \n |  __new__(*args, **kwargs) from builtins.type\n |      Create and return a new object.  See help(type) for accurate signature.\n |  \n |  __or__(self, value, /)\n |      Return self|value.\n |  \n |  __rand__(self, value, /)\n |      Return value&self.\n |  \n |  __repr__(self, /)\n |      Return repr(self).\n |  \n |  __ror__(self, value, /)\n |      Return value|self.\n |  \n |  __rxor__(self, value, /)\n |      Return value^self.\n |  \n |  __str__(self, /)\n |      Return str(self).\n |  \n |  __xor__(self, value, /)\n |      Return self^value.\n |  \n |  ----------------------------------------------------------------------\n |  Methods inherited from int:\n |  \n |  __abs__(self, /)\n |      abs(self)\n |  \n |  __add__(self, value, /)\n |      Return self+value.\n |  \n |  __bool__(self, /)\n |      self != 0\n |  \n |  __ceil__(...)\n |      Ceiling of an Integral returns itself.\n |  \n |  __divmod__(self, value, /)\n |      Return divmod(self, value).\n |  \n |  __eq__(self, value, /)\n |      Return self==value.\n |  \n |  __float__(self, /)\n |      float(self)\n |  \n |  __floor__(...)\n |      Flooring an Integral returns itself.\n |  \n |  __floordiv__(self, value, /)\n |      Return self//value.\n |  \n |  __format__(...)\n |      default object formatter\n |  \n |  __ge__(self, value, /)\n |      Return self>=value.\n |  \n |  __getattribute__(self, name, /)\n |      Return getattr(self, name).\n |  \n |  __getnewargs__(...)\n |  \n |  __gt__(self, value, /)\n |      Return self>value.\n |  \n |  __hash__(self, /)\n |      Return hash(self).\n |  \n |  __index__(self, /)\n |      Return self converted to an integer, if self is suitable for use as an index into a list.\n |  \n |  __int__(self, /)\n |      int(self)\n |  \n |  __invert__(self, /)\n |      ~self\n |  \n |  __le__(self, value, /)\n |      Return self<=value.\n |  \n |  __lshift__(self, value, /)\n |      Return self<<value.\n |  \n |  __lt__(self, value, /)\n |      Return self<value.\n |  \n |  __mod__(self, value, /)\n |      Return self%value.\n |  \n |  __mul__(self, value, /)\n |      Return self*value.\n |  \n |  __ne__(self, value, /)\n |      Return self!=value.\n |  \n |  __neg__(self, /)\n |      -self\n |  \n |  __pos__(self, /)\n |      +self\n |  \n |  __pow__(self, value, mod=None, /)\n |      Return pow(self, value, mod).\n |  \n |  __radd__(self, value, /)\n |      Return value+self.\n |  \n |  __rdivmod__(self, value, /)\n |      Return divmod(value, self).\n |  \n |  __rfloordiv__(self, value, /)\n |      Return value//self.\n |  \n |  __rlshift__(self, value, /)\n |      Return value<<self.\n |  \n |  __rmod__(self, value, /)\n |      Return value%self.\n |  \n |  __rmul__(self, value, /)\n |      Return value*self.\n |  \n |  __round__(...)\n |      Rounding an Integral returns itself.\n |      Rounding with an ndigits argument also returns an integer.\n |  \n |  __rpow__(self, value, mod=None, /)\n |      Return pow(value, self, mod).\n |  \n |  __rrshift__(self, value, /)\n |      Return value>>self.\n |  \n |  __rshift__(self, value, /)\n |      Return self>>value.\n |  \n |  __rsub__(self, value, /)\n |      Return value-self.\n |  \n |  __rtruediv__(self, value, /)\n |      Return value/self.\n |  \n |  __sizeof__(...)\n |      Returns size in memory, in bytes\n |  \n |  __sub__(self, value, /)\n |      Return self-value.\n |  \n |  __truediv__(self, value, /)\n |      Return self/value.\n |  \n |  __trunc__(...)\n |      Truncating an Integral returns itself.\n |  \n |  bit_length(...)\n |      int.bit_length() -> int\n |      \n |      Number of bits necessary to represent self in binary.\n |      >>> bin(37)\n |      '0b100101'\n |      >>> (37).bit_length()\n |      6\n |  \n |  conjugate(...)\n |      Returns self, the complex conjugate of any int.\n |  \n |  from_bytes(...) from builtins.type\n |      int.from_bytes(bytes, byteorder, *, signed=False) -> int\n |      \n |      Return the integer represented by the given array of bytes.\n |      \n |      The bytes argument must be a bytes-like object (e.g. bytes or bytearray).\n |      \n |      The byteorder argument determines the byte order used to represent the\n |      integer.  If byteorder is 'big', the most significant byte is at the\n |      beginning of the byte array.  If byteorder is 'little', the most\n |      significant byte is at the end of the byte array.  To request the native\n |      byte order of the host system, use `sys.byteorder' as the byte order value.\n |      \n |      The signed keyword-only argument indicates whether two's complement is\n |      used to represent the integer.\n |  \n |  to_bytes(...)\n |      int.to_bytes(length, byteorder, *, signed=False) -> bytes\n |      \n |      Return an array of bytes representing an integer.\n |      \n |      The integer is represented using length bytes.  An OverflowError is\n |      raised if the integer is not representable with the given number of\n |      bytes.\n |      \n |      The byteorder argument determines the byte order used to represent the\n |      integer.  If byteorder is 'big', the most significant byte is at the\n |      beginning of the byte array.  If byteorder is 'little', the most\n |      significant byte is at the end of the byte array.  To request the native\n |      byte order of the host system, use `sys.byteorder' as the byte order value.\n |      \n |      The signed keyword-only argument determines whether two's complement is\n |      used to represent the integer.  If signed is False and a negative integer\n |      is given, an OverflowError is raised.\n |  \n |  ----------------------------------------------------------------------\n |  Data descriptors inherited from int:\n |  \n |  denominator\n |      the denominator of a rational number in lowest terms\n |  \n |  imag\n |      the imaginary part of a complex number\n |  \n |  numerator\n |      the numerator of a rational number in lowest terms\n |  \n |  real\n |      the real part of a complex number\n\n"
                }
            ], 
            "source": "help(bool)"
        }, 
        {
            "source": "### <p style='text-align: center;'> [Back to Top](#top)</p>\n![alt text](http://heienv.com/wp-content/uploads/2017/03/fancy-line-break.png)", 
            "cell_type": "markdown", 
            "metadata": {}
        }, 
        {
            "source": "<a id='Lists'></a>\n# <p style='text-align: center;'> $Lists$ </p>", 
            "cell_type": "markdown", 
            "metadata": {
                "collapsed": true
            }
        }, 
        {
            "source": "<a id='Create_Lists'></a>\n### $Creating$\n***", 
            "cell_type": "markdown", 
            "metadata": {}
        }, 
        {
            "execution_count": 19, 
            "cell_type": "code", 
            "metadata": {}, 
            "outputs": [
                {
                    "execution_count": 19, 
                    "metadata": {}, 
                    "data": {
                        "text/plain": "['whatever', 'you', 'want', 'separated', 'by', 'comas', 4]"
                    }, 
                    "output_type": "execute_result"
                }
            ], 
            "source": "# By hand\neg_list = ['whatever', 'you', 'want', 'separated', 'by', 'comas', 4]\neg_list"
        }, 
        {
            "execution_count": 20, 
            "cell_type": "code", 
            "metadata": {}, 
            "outputs": [
                {
                    "execution_count": 20, 
                    "metadata": {}, 
                    "data": {
                        "text/plain": "['Hello', 'my', 'name', 'is', 'Ryan']"
                    }, 
                    "output_type": "execute_result"
                }
            ], 
            "source": "# Splitting a string on spaces\neg_string = 'Hello my name is Ryan'\nsplit_list = eg_string.split()\nsplit_list"
        }, 
        {
            "execution_count": 21, 
            "cell_type": "code", 
            "metadata": {}, 
            "outputs": [
                {
                    "execution_count": 21, 
                    "metadata": {}, 
                    "data": {
                        "text/plain": "['This', 'can', 'also', 'work']"
                    }, 
                    "output_type": "execute_result"
                }
            ], 
            "source": "# Splitting a string on commas\neg_csv = 'This,can,also,work'\ncsv_list = eg_csv.split(',')\ncsv_list"
        }, 
        {
            "source": "Setting a variable equal to a list DOES link to the list", 
            "cell_type": "markdown", 
            "metadata": {}
        }, 
        {
            "execution_count": 22, 
            "cell_type": "code", 
            "metadata": {}, 
            "outputs": [
                {
                    "output_type": "stream", 
                    "name": "stdout", 
                    "text": "[1, 'see!', 3]\n[1, 'see!', 3]\n"
                }
            ], 
            "source": "a = [1, 2, 3]\nb = a\n\na[1] = 'see!'\n\nprint(a)\nprint(b)"
        }, 
        {
            "execution_count": 23, 
            "cell_type": "code", 
            "metadata": {}, 
            "outputs": [
                {
                    "output_type": "stream", 
                    "name": "stdout", 
                    "text": "[1, 'what!?', 3]\n"
                }
            ], 
            "source": "a = [1, 2, 3]\nb = a\n\nb[1] = 'what!?'\n\nprint(a)"
        }, 
        {
            "source": "Slicing overrides this", 
            "cell_type": "markdown", 
            "metadata": {}
        }, 
        {
            "execution_count": 24, 
            "cell_type": "code", 
            "metadata": {}, 
            "outputs": [
                {
                    "output_type": "stream", 
                    "name": "stdout", 
                    "text": "[1, 'see!', 3]\n[1, 2, 3]\n"
                }
            ], 
            "source": "a = [1, 2, 3]\nb = a[:]\n\na[1] = 'see!'\n\nprint(a)\nprint(b)"
        }, 
        {
            "source": "<a id='Index_Lists'></a>\n### $Indexing$\n***\n\n![Alt text](https://i.stack.imgur.com/vIKaD.png)", 
            "cell_type": "markdown", 
            "metadata": {}
        }, 
        {
            "execution_count": 25, 
            "cell_type": "code", 
            "metadata": {}, 
            "outputs": [
                {
                    "output_type": "stream", 
                    "name": "stdout", 
                    "text": "2\n"
                }
            ], 
            "source": "# Left to right index starts at zero and is positive\neg_list = [1, 2, 3, 4, 5, 6, 7, 8, 9, 10]\nprint(eg_list[1])"
        }, 
        {
            "execution_count": 26, 
            "cell_type": "code", 
            "metadata": {}, 
            "outputs": [
                {
                    "output_type": "stream", 
                    "name": "stdout", 
                    "text": "10\n"
                }
            ], 
            "source": "# Right to left index starts at -1 and is negative\nprint(eg_list[-1])"
        }, 
        {
            "execution_count": 27, 
            "cell_type": "code", 
            "metadata": {}, 
            "outputs": [
                {
                    "output_type": "stream", 
                    "name": "stdout", 
                    "text": "[2, 3]\n"
                }
            ], 
            "source": "# ':' is used to indicate a range that is inclusive of first and exclusive of second\nprint(eg_list[1:3])"
        }, 
        {
            "execution_count": 28, 
            "cell_type": "code", 
            "metadata": {}, 
            "outputs": [
                {
                    "output_type": "stream", 
                    "name": "stdout", 
                    "text": "[1, 2, 3, 4, 5]\n[6, 7, 8, 9, 10]\n"
                }
            ], 
            "source": "# Without numbers, ':' means all\nprint(eg_list[:5])\nprint(eg_list[5:])"
        }, 
        {
            "execution_count": 29, 
            "cell_type": "code", 
            "metadata": {}, 
            "outputs": [
                {
                    "output_type": "stream", 
                    "name": "stdout", 
                    "text": "[[1, 2, 3, 4, 5], [6, 7, 8, 9, 10]]\n"
                }
            ], 
            "source": "# Lists can contain multiple lists and still be called\neg_list = [eg_list[:5],eg_list[5:]]\nprint(eg_list)"
        }, 
        {
            "execution_count": 30, 
            "cell_type": "code", 
            "metadata": {}, 
            "outputs": [
                {
                    "output_type": "stream", 
                    "name": "stdout", 
                    "text": "[6, 7, 8, 9, 10]\n"
                }
            ], 
            "source": "print(eg_list[1])"
        }, 
        {
            "execution_count": 31, 
            "cell_type": "code", 
            "metadata": {}, 
            "outputs": [
                {
                    "output_type": "stream", 
                    "name": "stdout", 
                    "text": "7\n"
                }
            ], 
            "source": "print(eg_list[1][1])"
        }, 
        {
            "execution_count": 32, 
            "cell_type": "code", 
            "metadata": {}, 
            "outputs": [
                {
                    "output_type": "stream", 
                    "name": "stdout", 
                    "text": "1\n"
                }
            ], 
            "source": "# To find the index number of a certain item use .index()\nword_list = ['banana','car','Alabama']\nprint(word_list.index('car'))"
        }, 
        {
            "source": "<a id='Edit_Lists'></a>\n### $Editing$\n***", 
            "cell_type": "markdown", 
            "metadata": {}
        }, 
        {
            "execution_count": 33, 
            "cell_type": "code", 
            "metadata": {}, 
            "outputs": [
                {
                    "output_type": "stream", 
                    "name": "stdout", 
                    "text": "[1, 2, 12, 4, 5, 5]\n"
                }
            ], 
            "source": "eg_list = [1, 2, 12, 4, 5, 5]\nprint(eg_list)"
        }, 
        {
            "execution_count": 34, 
            "cell_type": "code", 
            "metadata": {}, 
            "outputs": [
                {
                    "output_type": "stream", 
                    "name": "stdout", 
                    "text": "[1, 2, 3, 4, 5, 5]\n"
                }
            ], 
            "source": "# Replacing\neg_list[2] = 3\nprint(eg_list)"
        }, 
        {
            "execution_count": 35, 
            "cell_type": "code", 
            "metadata": {}, 
            "outputs": [
                {
                    "output_type": "stream", 
                    "name": "stdout", 
                    "text": "[1, 2, 3, 4, 5]\n"
                }
            ], 
            "source": "# Deleting (this removes the first occurance)\neg_list.remove(5)\nprint(eg_list)"
        }, 
        {
            "execution_count": 36, 
            "cell_type": "code", 
            "metadata": {}, 
            "outputs": [
                {
                    "output_type": "stream", 
                    "name": "stdout", 
                    "text": "[1, 2, 3, 4, 5, 6, 7]\n"
                }
            ], 
            "source": "# Adding values \neg_list.extend([6,7])\nprint(eg_list)"
        }, 
        {
            "execution_count": 37, 
            "cell_type": "code", 
            "metadata": {}, 
            "outputs": [
                {
                    "output_type": "stream", 
                    "name": "stdout", 
                    "text": "[1, 2, 3, 4, 5, 6, 7, [8, 9]]\n"
                }
            ], 
            "source": "# Adding items\neg_list.append([8,9])\nprint(eg_list)"
        }, 
        {
            "source": "<a id='Dup_Lists'></a>\n### $Checking$ $for$ $Duplicates$\n***", 
            "cell_type": "markdown", 
            "metadata": {}
        }, 
        {
            "execution_count": 38, 
            "cell_type": "code", 
            "metadata": {}, 
            "outputs": [], 
            "source": "num1_6 = [1,2,2,3,4,5,6]"
        }, 
        {
            "execution_count": 39, 
            "cell_type": "code", 
            "metadata": {}, 
            "outputs": [], 
            "source": "unique = set(num1_6)"
        }, 
        {
            "execution_count": 40, 
            "cell_type": "code", 
            "metadata": {}, 
            "outputs": [
                {
                    "output_type": "stream", 
                    "name": "stdout", 
                    "text": "6\n7\n"
                }
            ], 
            "source": "print(len(unique))\nprint(len(num1_6))"
        }, 
        {
            "source": "<a id='Sort_Lists'></a>\n### $Sorting$\n***", 
            "cell_type": "markdown", 
            "metadata": {}
        }, 
        {
            "execution_count": 41, 
            "cell_type": "code", 
            "metadata": {}, 
            "outputs": [
                {
                    "output_type": "stream", 
                    "name": "stdout", 
                    "text": "[3, 3, 5, 5, 6, 87, 236]\n"
                }
            ], 
            "source": "eg_list = [3, 5, 5 , 87, 3, 236, 6]\nprint(sorted(eg_list))"
        }, 
        {
            "execution_count": 42, 
            "cell_type": "code", 
            "metadata": {}, 
            "outputs": [
                {
                    "output_type": "stream", 
                    "name": "stdout", 
                    "text": "[236, 87, 6, 5, 5, 3, 3]\n"
                }
            ], 
            "source": "print(sorted(eg_list, reverse=True))"
        }, 
        {
            "source": "<a id='Zip_Lists'></a>\n### $Zipping$\n***", 
            "cell_type": "markdown", 
            "metadata": {}
        }, 
        {
            "execution_count": 43, 
            "cell_type": "code", 
            "metadata": {}, 
            "outputs": [
                {
                    "output_type": "stream", 
                    "name": "stdout", 
                    "text": "[('Buffy', 'Slayer', 'F'), ('Willow', 'Witch', 'F'), ('Xander', 'Comic Relief', 'M')]\n"
                }
            ], 
            "source": "partA = ['Buffy','Willow','Xander']\npartB = ['Slayer','Witch','Comic Relief']\npartC = ['F','F','M']\ncombined = list(zip(partA,partB,partC))\nprint(combined)"
        }, 
        {
            "source": "<a id='Count_Lists'></a>\n### $Counting$ $Occurance$ $of$ $Item$\n***", 
            "cell_type": "markdown", 
            "metadata": {
                "collapsed": true
            }
        }, 
        {
            "execution_count": 44, 
            "cell_type": "code", 
            "metadata": {}, 
            "outputs": [
                {
                    "output_type": "stream", 
                    "name": "stdout", 
                    "text": "2\n"
                }
            ], 
            "source": "eg_list = [1, 2, 3, 4, 4]\nprint(eg_list.count(4))"
        }, 
        {
            "source": "### <p style='text-align: center;'> [Back to Top](#top)</p>\n![alt text](http://heienv.com/wp-content/uploads/2017/03/fancy-line-break.png)", 
            "cell_type": "markdown", 
            "metadata": {}
        }, 
        {
            "source": "<a id='Dicts'></a>\n# <p style='text-align: center;'> $Dictionaries$ </p>", 
            "cell_type": "markdown", 
            "metadata": {}
        }, 
        {
            "source": "<a id='Create_Dicts'></a>\n### $Creating$\n***", 
            "cell_type": "markdown", 
            "metadata": {}
        }, 
        {
            "execution_count": 45, 
            "cell_type": "code", 
            "metadata": {}, 
            "outputs": [
                {
                    "output_type": "stream", 
                    "name": "stdout", 
                    "text": "{'germany': 'berlin', 'spain': 'madrid', 'france': 'paris'}\n"
                }
            ], 
            "source": "# Single Level\ncapitals = {'spain':'madrid','germany':'berlin', 'france':'paris'}\nprint(capitals)"
        }, 
        {
            "execution_count": 46, 
            "cell_type": "code", 
            "metadata": {}, 
            "outputs": [
                {
                    "output_type": "stream", 
                    "name": "stdout", 
                    "text": "{'germany': {'capital': 'berlin', 'pop': 80.62}, 'spain': {'capital': 'madrid', 'pop': 46.77}}\n"
                }
            ], 
            "source": "# Multi Level\ncap_pop = {'spain':{'capital':'madrid', 'pop':46.77}, 'germany':{'capital':'berlin', 'pop':80.62}}\nprint(cap_pop)"
        }, 
        {
            "source": "<a id='Using_Dicts'></a>\n### $Using$\n***", 
            "cell_type": "markdown", 
            "metadata": {}
        }, 
        {
            "execution_count": 47, 
            "cell_type": "code", 
            "metadata": {}, 
            "outputs": [
                {
                    "output_type": "stream", 
                    "name": "stdout", 
                    "text": "{'capital': 'berlin', 'pop': 80.62}\n"
                }
            ], 
            "source": "print(cap_pop ['germany'])"
        }, 
        {
            "execution_count": 48, 
            "cell_type": "code", 
            "metadata": {}, 
            "outputs": [
                {
                    "output_type": "stream", 
                    "name": "stdout", 
                    "text": "80.62\n"
                }
            ], 
            "source": "print(cap_pop['germany']['pop'])"
        }, 
        {
            "execution_count": 49, 
            "cell_type": "code", 
            "metadata": {}, 
            "outputs": [
                {
                    "execution_count": 49, 
                    "metadata": {}, 
                    "data": {
                        "text/plain": "dict_keys(['germany', 'spain', 'france'])"
                    }, 
                    "output_type": "execute_result"
                }
            ], 
            "source": "capitals.keys()"
        }, 
        {
            "execution_count": 50, 
            "cell_type": "code", 
            "metadata": {}, 
            "outputs": [
                {
                    "execution_count": 50, 
                    "metadata": {}, 
                    "data": {
                        "text/plain": "dict_values(['berlin', 'madrid', 'paris'])"
                    }, 
                    "output_type": "execute_result"
                }
            ], 
            "source": "capitals.values()"
        }, 
        {
            "source": "<a id='Edit_Dicts'></a>\n### $Editing$\n***", 
            "cell_type": "markdown", 
            "metadata": {}
        }, 
        {
            "execution_count": 51, 
            "cell_type": "code", 
            "metadata": {}, 
            "outputs": [
                {
                    "output_type": "stream", 
                    "name": "stdout", 
                    "text": "{'germany': 'berlin', 'spain': 'madrid', 'france': 'nice'}\n"
                }
            ], 
            "source": "# New Value\ncapitals['france'] = 'nice'\nprint(capitals)"
        }, 
        {
            "execution_count": 52, 
            "cell_type": "code", 
            "metadata": {}, 
            "outputs": [
                {
                    "output_type": "stream", 
                    "name": "stdout", 
                    "text": "{'germany': 'berlin', 'spain': 'madrid', 'france': 'paris'}\n"
                }
            ], 
            "source": "# Fixing Value\ncapitals['france'] = 'paris'\nprint(capitals)"
        }, 
        {
            "execution_count": 53, 
            "cell_type": "code", 
            "metadata": {}, 
            "outputs": [
                {
                    "output_type": "stream", 
                    "name": "stdout", 
                    "text": "{'spain': 'madrid', 'france': 'paris'}\n"
                }
            ], 
            "source": "# Deleting Value\ndel(capitals['germany'])\nprint(capitals)"
        }, 
        {
            "source": "### <p style='text-align: center;'> [Back to Top](#top)</p>\n![alt text](http://heienv.com/wp-content/uploads/2017/03/fancy-line-break.png)", 
            "cell_type": "markdown", 
            "metadata": {
                "collapsed": true
            }
        }, 
        {
            "source": "<a id='Sets'></a>\n# <p style='text-align: center;'> $Sets$ </p>", 
            "cell_type": "markdown", 
            "metadata": {}
        }, 
        {
            "source": "<a id='Create_Sets'></a>\n### $Creating$\n***", 
            "cell_type": "markdown", 
            "metadata": {}
        }, 
        {
            "execution_count": 54, 
            "cell_type": "code", 
            "metadata": {}, 
            "outputs": [
                {
                    "output_type": "stream", 
                    "name": "stdout", 
                    "text": "{'Thriller', 'AC/DC', 'Back in Black'}\n{'AC/DC', 'The Dark Side of the Moon', 'Back in Black'}\n"
                }
            ], 
            "source": "album_set1 = set([\"Thriller\",'AC/DC', 'Back in Black'] )\nalbum_set2 = set([\"AC/DC\",\"Back in Black\", \"The Dark Side of the Moon\"] )\n\nprint(album_set1)\nprint(album_set2)"
        }, 
        {
            "source": "<img src=\"https://ibm.box.com/shared/static/7ttuf8otui4s6axm23csmb4s3pxz16y2.png\" width=\"500\">", 
            "cell_type": "markdown", 
            "metadata": {}
        }, 
        {
            "source": "<a id='Edit_Sets'></a>\n### $Editing$\n***", 
            "cell_type": "markdown", 
            "metadata": {}
        }, 
        {
            "execution_count": 55, 
            "cell_type": "code", 
            "metadata": {}, 
            "outputs": [
                {
                    "execution_count": 55, 
                    "metadata": {}, 
                    "data": {
                        "text/plain": "{'AC/DC', 'Back in Black', 'NSYNC', 'Thriller'}"
                    }, 
                    "output_type": "execute_result"
                }
            ], 
            "source": "# Adding \nalbum_set1.add('NSYNC')\nalbum_set1"
        }, 
        {
            "execution_count": 56, 
            "cell_type": "code", 
            "metadata": {}, 
            "outputs": [
                {
                    "execution_count": 56, 
                    "metadata": {}, 
                    "data": {
                        "text/plain": "{'AC/DC', 'Back in Black', 'Thriller'}"
                    }, 
                    "output_type": "execute_result"
                }
            ], 
            "source": "# Deleting\nalbum_set1.remove('NSYNC')\nalbum_set1"
        }, 
        {
            "source": "<a id='Explore_Sets'></a>\n### $Exploring$\n***", 
            "cell_type": "markdown", 
            "metadata": {}
        }, 
        {
            "execution_count": 57, 
            "cell_type": "code", 
            "metadata": {}, 
            "outputs": [
                {
                    "execution_count": 57, 
                    "metadata": {}, 
                    "data": {
                        "text/plain": "{'AC/DC', 'Back in Black'}"
                    }, 
                    "output_type": "execute_result"
                }
            ], 
            "source": "album_set1.intersection(album_set2)  "
        }, 
        {
            "source": "<img src=\"https://ibm.box.com/shared/static/s2xfytq43twp6jsvbvr4o2fir7wdablo.png\" width=\"500\">", 
            "cell_type": "markdown", 
            "metadata": {}
        }, 
        {
            "execution_count": 58, 
            "cell_type": "code", 
            "metadata": {}, 
            "outputs": [
                {
                    "execution_count": 58, 
                    "metadata": {}, 
                    "data": {
                        "text/plain": "{'Thriller'}"
                    }, 
                    "output_type": "execute_result"
                }
            ], 
            "source": "album_set1.difference(album_set2)  "
        }, 
        {
            "source": "<img src=\"https://ibm.box.com/shared/static/osmxw1qnb5t9odon2cx94wxhfzlkn1n8.png\" width=\"500\">", 
            "cell_type": "markdown", 
            "metadata": {}
        }, 
        {
            "execution_count": 59, 
            "cell_type": "code", 
            "metadata": {}, 
            "outputs": [
                {
                    "execution_count": 59, 
                    "metadata": {}, 
                    "data": {
                        "text/plain": "{'The Dark Side of the Moon'}"
                    }, 
                    "output_type": "execute_result"
                }
            ], 
            "source": "album_set2.difference(album_set1)"
        }, 
        {
            "source": "<img src=\"https://ibm.box.com/shared/static/klgc09bgpsjudr9v3wtl8yk9s2lya3hl.png\" width=\"500\">", 
            "cell_type": "markdown", 
            "metadata": {}
        }, 
        {
            "execution_count": 60, 
            "cell_type": "code", 
            "metadata": {}, 
            "outputs": [
                {
                    "execution_count": 60, 
                    "metadata": {}, 
                    "data": {
                        "text/plain": "{'AC/DC', 'Back in Black', 'The Dark Side of the Moon', 'Thriller'}"
                    }, 
                    "output_type": "execute_result"
                }
            ], 
            "source": "album_set1.union(album_set2)"
        }, 
        {
            "source": "<img src=\"https://ibm.box.com/shared/static/vkczce5jh50g0oh53xn0ilgriflcrog0.png\" width=\"500\">", 
            "cell_type": "markdown", 
            "metadata": {}
        }, 
        {
            "source": "### <p style='text-align: center;'> [Back to Top](#top)</p>\n![alt text](http://heienv.com/wp-content/uploads/2017/03/fancy-line-break.png)", 
            "cell_type": "markdown", 
            "metadata": {
                "collapsed": true
            }
        }, 
        {
            "source": "<a id='Loops'></a>\n# <p style='text-align: center;'> $Loops$ </p>", 
            "cell_type": "markdown", 
            "metadata": {}
        }, 
        {
            "source": "<a id='While_Loops'></a>\n### $While$\n***", 
            "cell_type": "markdown", 
            "metadata": {}
        }, 
        {
            "execution_count": 61, 
            "cell_type": "code", 
            "metadata": {}, 
            "outputs": [
                {
                    "output_type": "stream", 
                    "name": "stdout", 
                    "text": "i = 0, which is still less than 5\ni = 1, which is still less than 5\ni = 2, which is still less than 5\ni = 3, which is still less than 5\ni = 4, which is still less than 5\n"
                }
            ], 
            "source": "i = 0\nwhile i < 5:\n    print('i = ' + str(i) + ', which is still less than 5')\n    i += 1"
        }, 
        {
            "source": "<a id='For_Loops'></a>\n### $For$\n***", 
            "cell_type": "markdown", 
            "metadata": {}
        }, 
        {
            "execution_count": 62, 
            "cell_type": "code", 
            "metadata": {}, 
            "outputs": [
                {
                    "output_type": "stream", 
                    "name": "stdout", 
                    "text": "5\n6\n7\n8\n9\n"
                }
            ], 
            "source": "# Range\nfor x in range(5,10):\n    print(x)"
        }, 
        {
            "execution_count": 63, 
            "cell_type": "code", 
            "metadata": {}, 
            "outputs": [
                {
                    "output_type": "stream", 
                    "name": "stdout", 
                    "text": "room 0: 11.25\nroom 1: 18.0\nroom 2: 20.0\nroom 3: 10.75\nroom 4: 9.5\n"
                }
            ], 
            "source": "# List\nareas = [11.25, 18.0, 20.0, 10.75, 9.50]\nfor index, room in enumerate(areas) :\n    print(\"room \" + str(index) + \": \" + str(room))"
        }, 
        {
            "execution_count": 64, 
            "cell_type": "code", 
            "metadata": {}, 
            "outputs": [
                {
                    "output_type": "stream", 
                    "name": "stdout", 
                    "text": "madrid is the capital of spain\nparis is the capital of france\n"
                }
            ], 
            "source": "# Dictionary\nfor key, value in capitals.items() :\n    print(value + \" is the capital of \" + key)"
        }, 
        {
            "execution_count": 65, 
            "cell_type": "code", 
            "metadata": {}, 
            "outputs": [
                {
                    "output_type": "stream", 
                    "name": "stdout", 
                    "text": "['B', 'W', 'X']\n"
                }
            ], 
            "source": "# List comprehensions\neg_list = ['Buffy','Willow','Xander']\ninitials = [char[0] for char in eg_list]\nprint(initials)"
        }, 
        {
            "source": "### <p style='text-align: center;'> [Back to Top](#top)</p>\n![alt text](http://heienv.com/wp-content/uploads/2017/03/fancy-line-break.png)", 
            "cell_type": "markdown", 
            "metadata": {}
        }, 
        {
            "source": "<a id='Functions'></a>\n# <p style='text-align: center;'> $Functions$ </p>", 
            "cell_type": "markdown", 
            "metadata": {}
        }, 
        {
            "source": "<a id='Basic_Func'></a>\n### $Basic$\n***", 
            "cell_type": "markdown", 
            "metadata": {}
        }, 
        {
            "execution_count": 66, 
            "cell_type": "code", 
            "metadata": {}, 
            "outputs": [
                {
                    "output_type": "stream", 
                    "name": "stdout", 
                    "text": "Hello Ryan\n"
                }
            ], 
            "source": "def greet(name):\n    '''\n    Greet the person after they enter their name\n    '''\n    print('Hello '+name)\n\ngreet('Ryan')"
        }, 
        {
            "execution_count": 67, 
            "cell_type": "code", 
            "metadata": {}, 
            "outputs": [
                {
                    "output_type": "stream", 
                    "name": "stdout", 
                    "text": "-9\n7\n"
                }
            ], 
            "source": "def multi_out(value1,value2):\n    '''\n    Demonstrating how to set multiple variables \n    '''\n    result1 = value2 * -1\n    result2 = value1 * - 1\n    return(value1,value2)\n\nfirst,second = multi_out(-9,7)\nprint(first)\nprint(second)"
        }, 
        {
            "source": "<a id='If_Func'></a>\n### $If/Elif/Else$\n***", 
            "cell_type": "markdown", 
            "metadata": {}
        }, 
        {
            "execution_count": 68, 
            "cell_type": "code", 
            "metadata": {}, 
            "outputs": [
                {
                    "output_type": "stream", 
                    "name": "stdout", 
                    "text": "Fall\n"
                }
            ], 
            "source": "def season(month):\n    '''\n    Classifies months by season\n    '''\n    if month in('Dec','Jan','Feb'):\n        print('Winter')\n    elif month in('Mar','Apr','May'):\n        print ('Spring')\n    elif month in('Jun','Jul','Aug'):\n        print('Summer')\n    else:\n        print('Fall')\n        \nseason('Nov')"
        }, 
        {
            "source": "<a id='Def_Func'></a>\n### $Default$ $Parameters$\n***", 
            "cell_type": "markdown", 
            "metadata": {}
        }, 
        {
            "execution_count": 69, 
            "cell_type": "code", 
            "metadata": {}, 
            "outputs": [
                {
                    "output_type": "stream", 
                    "name": "stdout", 
                    "text": "4\n4\n"
                }
            ], 
            "source": "def power(number,power=2):\n    '''\n    Raises the number to a power\n    If not power is entered, it takes 2 are the default\n    \n    '''\n    return number ** power \n    \nprint(power(2,2))\nprint(power(2))"
        }, 
        {
            "source": "<a id='Inf_Func'></a>\n### $Infinite$ $Parameters$\n***", 
            "cell_type": "markdown", 
            "metadata": {}
        }, 
        {
            "execution_count": 70, 
            "cell_type": "code", 
            "metadata": {}, 
            "outputs": [
                {
                    "output_type": "stream", 
                    "name": "stdout", 
                    "text": "6\n55\n"
                }
            ], 
            "source": "def add_all(*param):\n    '''\n    Takes as many paramaters as you want\n    \n    '''\n    value = 0 \n    for para in param:\n        value = value + para\n    return value\n\nprint(add_all(1,2,3))\nprint(add_all(1,2,3,4,5,6,7,8,9,10))"
        }, 
        {
            "source": "<a id='Lamb_Func'></a>\n### $Lambda$ $Functions$\n***", 
            "cell_type": "markdown", 
            "metadata": {}
        }, 
        {
            "execution_count": 71, 
            "cell_type": "code", 
            "metadata": {}, 
            "outputs": [
                {
                    "output_type": "stream", 
                    "name": "stdout", 
                    "text": "[1, 4, 9, 16, 25]\n[1, 4, 9, 16, 25]\n"
                }
            ], 
            "source": "nums = [1,2,3,4,5]\n\ndef square_them(numbers):\n    result = []\n    for number in numbers: \n        math = number**2\n        result.append(math)\n    return result\n\nprint(square_them(nums))\nprint(list(map(lambda num: num ** 2,nums)))"
        }, 
        {
            "source": "<a id='Packages'></a>\n### $Packages$\n***", 
            "cell_type": "markdown", 
            "metadata": {}
        }, 
        {
            "execution_count": null, 
            "cell_type": "code", 
            "metadata": {}, 
            "outputs": [], 
            "source": "# Import existing libraries for more methods and functions \nimport PACKAGE as ALIAS\nfrom PACKAGE import FUNCTION"
        }, 
        {
            "execution_count": null, 
            "cell_type": "code", 
            "metadata": {}, 
            "outputs": [], 
            "source": "# Download new packages without the terminal\n!conda install -c conda-forge package --yes"
        }, 
        {
            "source": "### <p style='text-align: center;'> [Back to Top](#top)</p>\n![alt text](http://heienv.com/wp-content/uploads/2017/03/fancy-line-break.png)", 
            "cell_type": "markdown", 
            "metadata": {}
        }, 
        {
            "source": "<a id='Class_Obj'></a>\n# <p style='text-align: center;'> $Classes$ $and$ $Objects$ </p>", 
            "cell_type": "markdown", 
            "metadata": {}
        }, 
        {
            "source": "<img src = \"https://ibm.box.com/shared/static/h2w03relr84lb8ofto2zk0dp9naiykfg.png\" width = 500>", 
            "cell_type": "markdown", 
            "metadata": {}
        }, 
        {
            "source": "<img src = \"https://ibm.box.com/shared/static/25j0jezklf6snhh3ps61d0djzwx8kgwa.png\" width = 600>", 
            "cell_type": "markdown", 
            "metadata": {}
        }, 
        {
            "execution_count": 72, 
            "cell_type": "code", 
            "metadata": {}, 
            "outputs": [], 
            "source": "class Circle(object):\n    \n    def __init__(self,radius=3,color='blue'):\n        \n        self.radius=radius\n        self.color=color \n    \n    def add_radius(self,r):\n        \n        self.radius=self.radius+r\n        return(self.radius)\n    \n    def drawCircle(self):\n        \n        plt.gca().add_patch(plt.Circle((0, 0), radius=self.radius, fc=self.color))\n        plt.axis('scaled')\n        plt.show()  "
        }, 
        {
            "execution_count": 73, 
            "cell_type": "code", 
            "metadata": {}, 
            "outputs": [], 
            "source": "RedCircle=Circle(10,'red')"
        }, 
        {
            "execution_count": 74, 
            "cell_type": "code", 
            "metadata": {}, 
            "outputs": [
                {
                    "execution_count": 74, 
                    "metadata": {}, 
                    "data": {
                        "text/plain": "10"
                    }, 
                    "output_type": "execute_result"
                }
            ], 
            "source": "RedCircle.radius"
        }, 
        {
            "execution_count": 75, 
            "cell_type": "code", 
            "metadata": {}, 
            "outputs": [
                {
                    "execution_count": 75, 
                    "metadata": {}, 
                    "data": {
                        "text/plain": "20"
                    }, 
                    "output_type": "execute_result"
                }
            ], 
            "source": "RedCircle.add_radius(10)\nRedCircle.radius"
        }, 
        {
            "execution_count": 76, 
            "cell_type": "code", 
            "metadata": {}, 
            "outputs": [
                {
                    "execution_count": 76, 
                    "metadata": {}, 
                    "data": {
                        "text/plain": "'red'"
                    }, 
                    "output_type": "execute_result"
                }
            ], 
            "source": "RedCircle.color"
        }, 
        {
            "execution_count": 77, 
            "cell_type": "code", 
            "metadata": {}, 
            "outputs": [
                {
                    "output_type": "display_data", 
                    "data": {
                        "image/png": "[encoded data removed]", 
                        "text/plain": "<matplotlib.figure.Figure at 0x7f0ec22e3cc0>"
                    }, 
                    "metadata": {}
                }
            ], 
            "source": "RedCircle.drawCircle()"
        }, 
        {
            "execution_count": 78, 
            "cell_type": "code", 
            "metadata": {}, 
            "outputs": [], 
            "source": "class Rectangle(object):\n    \n    def __init__(self,width=2,height =3,color='r'):\n        self.height=height \n        self.width=width\n        self.color=color\n    \n    def drawRectangle(self):\n        import matplotlib.pyplot as plt\n        plt.gca().add_patch(plt.Rectangle((0, 0),self.width, self.height ,fc=self.color))\n        plt.axis('scaled')\n        plt.show()"
        }, 
        {
            "execution_count": 79, 
            "cell_type": "code", 
            "metadata": {}, 
            "outputs": [], 
            "source": "SkinnyBlueRectangle= Rectangle(2,10,'blue')"
        }, 
        {
            "execution_count": 80, 
            "cell_type": "code", 
            "metadata": {}, 
            "outputs": [
                {
                    "execution_count": 80, 
                    "metadata": {}, 
                    "data": {
                        "text/plain": "10"
                    }, 
                    "output_type": "execute_result"
                }
            ], 
            "source": "SkinnyBlueRectangle.height"
        }, 
        {
            "execution_count": 81, 
            "cell_type": "code", 
            "metadata": {}, 
            "outputs": [
                {
                    "execution_count": 81, 
                    "metadata": {}, 
                    "data": {
                        "text/plain": "2"
                    }, 
                    "output_type": "execute_result"
                }
            ], 
            "source": "SkinnyBlueRectangle.width"
        }, 
        {
            "execution_count": 82, 
            "cell_type": "code", 
            "metadata": {}, 
            "outputs": [
                {
                    "execution_count": 82, 
                    "metadata": {}, 
                    "data": {
                        "text/plain": "'blue'"
                    }, 
                    "output_type": "execute_result"
                }
            ], 
            "source": "SkinnyBlueRectangle.color"
        }, 
        {
            "execution_count": 83, 
            "cell_type": "code", 
            "metadata": {}, 
            "outputs": [
                {
                    "output_type": "display_data", 
                    "data": {
                        "image/png": "[encoded data removed]", 
                        "text/plain": "<matplotlib.figure.Figure at 0x7f0eba803f28>"
                    }, 
                    "metadata": {}
                }
            ], 
            "source": "SkinnyBlueRectangle.drawRectangle()"
        }, 
        {
            "source": "### <p style='text-align: center;'> [Back to Top](#top)</p>\n![alt text](http://heienv.com/wp-content/uploads/2017/03/fancy-line-break.png)", 
            "cell_type": "markdown", 
            "metadata": {}
        }, 
        {
            "source": "<a id='Date_Time'></a>\n# <p style='text-align: center;'> $DateTime$ </p>", 
            "cell_type": "markdown", 
            "metadata": {}
        }, 
        {
            "execution_count": 84, 
            "cell_type": "code", 
            "metadata": {}, 
            "outputs": [], 
            "source": "from datetime import datetime"
        }, 
        {
            "source": "<a id='Simple_DT'></a>\n### $Basic$\n***", 
            "cell_type": "markdown", 
            "metadata": {}
        }, 
        {
            "execution_count": 85, 
            "cell_type": "code", 
            "metadata": {}, 
            "outputs": [
                {
                    "output_type": "stream", 
                    "name": "stdout", 
                    "text": "2018-06-06 00:00:00\n2018-06-06 00:00:00\n2018-06-06 00:00:00\n"
                }
            ], 
            "source": "# Define dates as strings\ndate_str1 = 'Wednesday, June 6, 2018'\ndate_str2 = '6/6/18'\ndate_str3 = '06-06-2018'\n\n# Define dates as datetime objects\ndate_dt1 = datetime.strptime(date_str1, '%A, %B %d, %Y')\ndate_dt2 = datetime.strptime(date_str2, '%m/%d/%y')\ndate_dt3 = datetime.strptime(date_str3, '%m-%d-%Y')\n\n# Print converted dates\nprint(date_dt1)\nprint(date_dt2)\nprint(date_dt3)"
        }, 
        {
            "source": "<a id='DF_DT'></a>\n### $DataFrame$\n***", 
            "cell_type": "markdown", 
            "metadata": {}
        }, 
        {
            "execution_count": null, 
            "cell_type": "code", 
            "metadata": {}, 
            "outputs": [], 
            "source": "df['date'] =  pd.to_datetime(df['date'],format='%Y-%m-%d')"
        }, 
        {
            "source": "<a id='Codes_DT'></a>\n### $Codes$\n***\n\n|Code|Representation|Example\n|:---------:|:------:|:------:|\n|%a|Abbreviated Weekday|Mon|\n|%A|Full Weekday|Monday|\n|%d|Day of Month|06|\n|%b|Abbreviated Month|Sep|\n|%B|Full Month|September|\n|%m|Number Month|09|\n|%Y|Four-digit Year|2018|\n|%y|Two-digit Year|18|\n|%H|24-Hour Hour|19|\n|%I|12-Hour Hour|07 PM|\n|%p|Am or PM|AM|\n|%M|Minute|06|\n|%S|Second|05|", 
            "cell_type": "markdown", 
            "metadata": {}
        }, 
        {
            "source": "<a id='Selecting_DT'></a>\n### $Selecting$\n***", 
            "cell_type": "markdown", 
            "metadata": {}
        }, 
        {
            "execution_count": null, 
            "cell_type": "code", 
            "metadata": {}, 
            "outputs": [], 
            "source": "print(df['date'][0].month)\nprint(df['date'][0].day)\nprint(df['date'][0].year)"
        }, 
        {
            "source": "<a id='Index_DT'></a>\n### $Indexing$ $by$ $Date$\n***", 
            "cell_type": "markdown", 
            "metadata": {}
        }, 
        {
            "execution_count": null, 
            "cell_type": "code", 
            "metadata": {}, 
            "outputs": [], 
            "source": "df.set_index('date', inplace=True)"
        }, 
        {
            "execution_count": null, 
            "cell_type": "code", 
            "metadata": {}, 
            "outputs": [], 
            "source": "print(df['2017-12-01':'2018-2-15'])\nprint(df['2017-12':'2018-2'])\nprint(df['2017'])"
        }, 
        {
            "source": "### <p style='text-align: center;'> [Back to Top](#top)</p>\n![alt text](http://heienv.com/wp-content/uploads/2017/03/fancy-line-break.png)", 
            "cell_type": "markdown", 
            "metadata": {}
        }, 
        {
            "source": "<a id='Files'></a>\n# <p style='text-align: center;'> $Files$ </p>", 
            "cell_type": "markdown", 
            "metadata": {}
        }, 
        {
            "source": "<a id='Text_Files'></a>\n### $Text$\n***", 
            "cell_type": "markdown", 
            "metadata": {}
        }, 
        {
            "source": "> $Reading$ $In$", 
            "cell_type": "markdown", 
            "metadata": {}
        }, 
        {
            "execution_count": null, 
            "cell_type": "code", 
            "metadata": {}, 
            "outputs": [], 
            "source": "# Whole File \nwith open('file.txt','r') as file:\n    text = file.read()"
        }, 
        {
            "execution_count": null, 
            "cell_type": "code", 
            "metadata": {}, 
            "outputs": [], 
            "source": "# Line by Line\nwith open('file.txt','r') as file:\n    line1 = file.readline()"
        }, 
        {
            "source": "> $Writing$ $To$", 
            "cell_type": "markdown", 
            "metadata": {}
        }, 
        {
            "execution_count": null, 
            "cell_type": "code", 
            "metadata": {}, 
            "outputs": [], 
            "source": "with open('file.txt','w') as writefile:\n    writefile.write(\"This is line A\")"
        }, 
        {
            "execution_count": null, 
            "cell_type": "code", 
            "metadata": {}, 
            "outputs": [], 
            "source": "with open('file.txt','w') as writefile:\n    writefile.write(\"This is line A\\n\")\n    writefile.write(\"This is line B\\n\")"
        }, 
        {
            "execution_count": null, 
            "cell_type": "code", 
            "metadata": {}, 
            "outputs": [], 
            "source": "Lines=[\"This is line A\\n\",\"This is line B\\n\",\"This is line C\\n\"]\n\nwith open('file.txt','w') as writefile:\n    for line in Lines:\n        print(line)\n        writefile.write(line)"
        }, 
        {
            "source": "<a id='Pickled_Files'></a>\n### $Pickeled$ $Files$\n***\n*Files for python objects, like discionaries, that cannot be easily saved in a flat file*", 
            "cell_type": "markdown", 
            "metadata": {}
        }, 
        {
            "execution_count": 86, 
            "cell_type": "code", 
            "metadata": {}, 
            "outputs": [], 
            "source": "import pickle"
        }, 
        {
            "source": "> $Reading$ $in$", 
            "cell_type": "markdown", 
            "metadata": {}
        }, 
        {
            "execution_count": null, 
            "cell_type": "code", 
            "metadata": {}, 
            "outputs": [], 
            "source": "with open('file.pkl','rb') as file:\n    data = pickle.load(file)"
        }, 
        {
            "source": "> $Creating$", 
            "cell_type": "markdown", 
            "metadata": {}
        }, 
        {
            "execution_count": null, 
            "cell_type": "code", 
            "metadata": {}, 
            "outputs": [], 
            "source": "???"
        }, 
        {
            "source": "### <p style='text-align: center;'> [Back to Top](#top)</p>\n![alt text](http://heienv.com/wp-content/uploads/2017/03/fancy-line-break.png)", 
            "cell_type": "markdown", 
            "metadata": {}
        }
    ], 
    "metadata": {
        "kernelspec": {
            "display_name": "Python 3.5", 
            "name": "python3", 
            "language": "python"
        }, 
        "language_info": {
            "mimetype": "text/x-python", 
            "nbconvert_exporter": "python", 
            "version": "3.5.5", 
            "name": "python", 
            "file_extension": ".py", 
            "pygments_lexer": "ipython3", 
            "codemirror_mode": {
                "version": 3, 
                "name": "ipython"
            }
        }
    }, 
    "nbformat": 4
}
