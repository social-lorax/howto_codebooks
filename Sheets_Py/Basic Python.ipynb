{
 "cells": [
  {
   "cell_type": "markdown",
   "id": "e721b080",
   "metadata": {},
   "source": [
    "[Return to Python Page](https://social-lorax.github.io/guides/index_py.html)\n",
    "\n",
    "![](https://github.com/social-lorax/howto_codebooks/blob/master/images/python/logo_python.png?raw=true)\n",
    "\n",
    "![](https://github.com/social-lorax/howto_codebooks/blob/master/images/underlines/python_underline.png?raw=true)"
   ]
  },
  {
   "cell_type": "code",
   "execution_count": 1,
   "id": "bceda957",
   "metadata": {},
   "outputs": [
    {
     "data": {
      "text/html": [
       "<style>\n",
       "table {float:left}\n",
       "</style>\n"
      ],
      "text/plain": [
       "<IPython.core.display.HTML object>"
      ]
     },
     "metadata": {},
     "output_type": "display_data"
    }
   ],
   "source": [
    "%%html\n",
    "<style>\n",
    "table {float:left}\n",
    "</style>"
   ]
  },
  {
   "cell_type": "markdown",
   "id": "d488c11f",
   "metadata": {},
   "source": [
    "# Super Basic \n",
    "\n",
    "### Comments"
   ]
  },
  {
   "cell_type": "code",
   "execution_count": 2,
   "id": "2a63bfae",
   "metadata": {},
   "outputs": [],
   "source": [
    "# This is a comment, it won't do anything"
   ]
  },
  {
   "cell_type": "markdown",
   "id": "899d2167",
   "metadata": {},
   "source": [
    "### Help\n",
    "\n",
    "`help()` defines a function"
   ]
  },
  {
   "cell_type": "code",
   "execution_count": 3,
   "id": "e30f7da5",
   "metadata": {},
   "outputs": [
    {
     "name": "stdout",
     "output_type": "stream",
     "text": [
      "Help on built-in function round in module builtins:\n",
      "\n",
      "round(number, ndigits=None)\n",
      "    Round a number to a given precision in decimal digits.\n",
      "    \n",
      "    The return value is an integer if ndigits is omitted or None.  Otherwise\n",
      "    the return value has the same type as the number.  ndigits may be negative.\n",
      "\n"
     ]
    }
   ],
   "source": [
    "help(round)"
   ]
  },
  {
   "cell_type": "markdown",
   "id": "99296d57",
   "metadata": {},
   "source": [
    "### Data Types "
   ]
  },
  {
   "cell_type": "markdown",
   "id": "706e7ca2",
   "metadata": {},
   "source": [
    "|Type |Definition |Example|\n",
    "|:----|:----------|:------|\n",
    "|`int` = integer |number with no decimal |`1`|\n",
    "|`float` = float|number with decimal |`1.0`|\n",
    "|`str` = string|value-less characters |`\"1\"`|\n",
    "|`bool` = Boolean|binary value |`TRUE`|"
   ]
  },
  {
   "cell_type": "markdown",
   "id": "8764cab1",
   "metadata": {},
   "source": [
    "<br>\n",
    "\n",
    "`type()` checks the type \n",
    "\n",
    "<br> \n",
    "\n",
    "Converting is as easy as: \n",
    "\n",
    "* `int()`\n",
    "* `float()`\n",
    "* `str()`\n",
    "\n",
    "<br> \n",
    "\n",
    "Using a float in an operation will return a float"
   ]
  },
  {
   "cell_type": "code",
   "execution_count": 4,
   "id": "3b69ac69",
   "metadata": {},
   "outputs": [
    {
     "data": {
      "text/plain": [
       "float"
      ]
     },
     "execution_count": 4,
     "metadata": {},
     "output_type": "execute_result"
    }
   ],
   "source": [
    "type(1.0 + 1)"
   ]
  },
  {
   "cell_type": "markdown",
   "id": "2e3ed8ce",
   "metadata": {},
   "source": [
    "Using just integers will result in integers . . ."
   ]
  },
  {
   "cell_type": "code",
   "execution_count": 5,
   "id": "244cea6b",
   "metadata": {},
   "outputs": [
    {
     "data": {
      "text/plain": [
       "int"
      ]
     },
     "execution_count": 5,
     "metadata": {},
     "output_type": "execute_result"
    }
   ],
   "source": [
    "type(1 + 1)"
   ]
  },
  {
   "cell_type": "markdown",
   "id": "415f082b",
   "metadata": {},
   "source": [
    ". . . unless it is division"
   ]
  },
  {
   "cell_type": "code",
   "execution_count": 6,
   "id": "8faae142",
   "metadata": {},
   "outputs": [
    {
     "data": {
      "text/plain": [
       "float"
      ]
     },
     "execution_count": 6,
     "metadata": {},
     "output_type": "execute_result"
    }
   ],
   "source": [
    "type(1 / 1)"
   ]
  },
  {
   "cell_type": "markdown",
   "id": "573de36f",
   "metadata": {},
   "source": [
    "### Boolean Operators"
   ]
  },
  {
   "cell_type": "markdown",
   "id": "36b7a9c3",
   "metadata": {},
   "source": [
    "|Function |Symbol |\n",
    "|:--------|:------|\n",
    "|Equal |`==` |\n",
    "|Not Equal |`!=`|\n",
    "|Greater Than |`>`|\n",
    "|Greater Than or Equal to |`>=`|\n",
    "|Less Than |`<`|\n",
    "|Less Than or Equal to|`<=`|\n",
    "|And |`&`|\n",
    "|Or |`\\|`|"
   ]
  },
  {
   "cell_type": "markdown",
   "id": "8e8e1a44",
   "metadata": {},
   "source": [
    "### Variables \n",
    "\n",
    "`=` sets a variable equal to whatever you want"
   ]
  },
  {
   "cell_type": "code",
   "execution_count": 7,
   "id": "a5fb1d0a",
   "metadata": {},
   "outputs": [],
   "source": [
    "variable = \"whatever you want\""
   ]
  },
  {
   "cell_type": "markdown",
   "id": "645825ab",
   "metadata": {},
   "source": [
    "<br> \n",
    "\n",
    "Setting a variable to a variable copies the value; it is NOT a link"
   ]
  },
  {
   "cell_type": "code",
   "execution_count": 8,
   "id": "5eac75ad",
   "metadata": {},
   "outputs": [
    {
     "name": "stdout",
     "output_type": "stream",
     "text": [
      "see! 1\n"
     ]
    }
   ],
   "source": [
    "a = 1\n",
    "b = a\n",
    "\n",
    "a = 'see!'\n",
    "\n",
    "print(a, b)"
   ]
  },
  {
   "cell_type": "markdown",
   "id": "9ef63a50",
   "metadata": {},
   "source": [
    "### Functions & Methods\n",
    "\n",
    "* `function(object)`\n",
    "* `object.method()`"
   ]
  },
  {
   "cell_type": "code",
   "execution_count": 9,
   "id": "11eb311b",
   "metadata": {},
   "outputs": [],
   "source": [
    "name = 'ryan'"
   ]
  },
  {
   "cell_type": "code",
   "execution_count": 10,
   "id": "0542d194",
   "metadata": {},
   "outputs": [
    {
     "name": "stdout",
     "output_type": "stream",
     "text": [
      "ryan\n"
     ]
    }
   ],
   "source": [
    "print(name)"
   ]
  },
  {
   "cell_type": "code",
   "execution_count": 11,
   "id": "b751fa37",
   "metadata": {},
   "outputs": [
    {
     "data": {
      "text/plain": [
       "'RYAN'"
      ]
     },
     "execution_count": 11,
     "metadata": {},
     "output_type": "execute_result"
    }
   ],
   "source": [
    "name.upper()"
   ]
  },
  {
   "cell_type": "markdown",
   "id": "34c3a542",
   "metadata": {},
   "source": [
    "![](https://github.com/social-lorax/howto_codebooks/blob/master/images/underlines/python_underline.png?raw=true)\n",
    "\n",
    "# Lists \n",
    "\n",
    "### Creating"
   ]
  },
  {
   "cell_type": "code",
   "execution_count": 12,
   "id": "ac2f51d9",
   "metadata": {},
   "outputs": [
    {
     "data": {
      "text/plain": [
       "['whatever', 'you', 'want', 'separated', 'by', 'comas', 4]"
      ]
     },
     "execution_count": 12,
     "metadata": {},
     "output_type": "execute_result"
    }
   ],
   "source": [
    "eg_list = ['whatever', 'you', 'want', 'separated', 'by', 'comas', 4]\n",
    "eg_list"
   ]
  },
  {
   "cell_type": "markdown",
   "id": "5fd424eb",
   "metadata": {},
   "source": [
    "<br> \n",
    "\n",
    "Setting a variable to a list DOES link to the list"
   ]
  },
  {
   "cell_type": "code",
   "execution_count": 13,
   "id": "3f00227e",
   "metadata": {},
   "outputs": [
    {
     "name": "stdout",
     "output_type": "stream",
     "text": [
      "[1, 'see!', 3] [1, 'see!', 3]\n"
     ]
    }
   ],
   "source": [
    "a = [1, 2, 3]\n",
    "b = a\n",
    "\n",
    "a[1] = \"see!\"\n",
    "\n",
    "print(a, b)"
   ]
  },
  {
   "cell_type": "markdown",
   "id": "ed778549",
   "metadata": {},
   "source": [
    "Slicing will override this"
   ]
  },
  {
   "cell_type": "code",
   "execution_count": 14,
   "id": "e373382b",
   "metadata": {},
   "outputs": [
    {
     "name": "stdout",
     "output_type": "stream",
     "text": [
      "[1, 'see!', 3] [1, 2, 3]\n"
     ]
    }
   ],
   "source": [
    "a = [1, 2, 3]\n",
    "b = a[:]\n",
    "\n",
    "a[1] = \"see!\"\n",
    "\n",
    "print(a, b)"
   ]
  },
  {
   "cell_type": "markdown",
   "id": "c5b12d7b",
   "metadata": {},
   "source": [
    "### Indexing\n",
    "\n",
    "![](https://github.com/social-lorax/howto_codebooks/blob/master/images/python/Py_index.jpg?raw=true)"
   ]
  },
  {
   "cell_type": "code",
   "execution_count": 15,
   "id": "9fe3951d",
   "metadata": {},
   "outputs": [],
   "source": [
    "eg_list = [1, 2, 3, 4, 5, 6, 7, 8, 9, 10]"
   ]
  },
  {
   "cell_type": "markdown",
   "id": "247b78e8",
   "metadata": {},
   "source": [
    "<br> \n",
    "\n",
    "Left to right index starts at zero and is positive"
   ]
  },
  {
   "cell_type": "code",
   "execution_count": 16,
   "id": "42b8e7b4",
   "metadata": {},
   "outputs": [
    {
     "data": {
      "text/plain": [
       "2"
      ]
     },
     "execution_count": 16,
     "metadata": {},
     "output_type": "execute_result"
    }
   ],
   "source": [
    "eg_list[1]"
   ]
  },
  {
   "cell_type": "markdown",
   "id": "19c47f2a",
   "metadata": {},
   "source": [
    "<br> \n",
    "\n",
    "Right to left index starts at -1 and is negative"
   ]
  },
  {
   "cell_type": "code",
   "execution_count": 17,
   "id": "2ffae5f0",
   "metadata": {},
   "outputs": [
    {
     "data": {
      "text/plain": [
       "10"
      ]
     },
     "execution_count": 17,
     "metadata": {},
     "output_type": "execute_result"
    }
   ],
   "source": [
    "eg_list[-1]"
   ]
  },
  {
   "cell_type": "markdown",
   "id": "6a8bd7ae",
   "metadata": {},
   "source": [
    "<br> \n",
    "\n",
    "`:`  is used to indicate a range that is inclusive of first and exclusive of second"
   ]
  },
  {
   "cell_type": "code",
   "execution_count": 18,
   "id": "df0a359c",
   "metadata": {},
   "outputs": [
    {
     "data": {
      "text/plain": [
       "[2, 3]"
      ]
     },
     "execution_count": 18,
     "metadata": {},
     "output_type": "execute_result"
    }
   ],
   "source": [
    "eg_list[1:3]"
   ]
  },
  {
   "cell_type": "markdown",
   "id": "78f7e9b2",
   "metadata": {},
   "source": [
    "<br> \n",
    "\n",
    "Without numbers, `:` means all"
   ]
  },
  {
   "cell_type": "code",
   "execution_count": 19,
   "id": "2b84c95c",
   "metadata": {},
   "outputs": [
    {
     "data": {
      "text/plain": [
       "[1, 2, 3, 4, 5, 6, 7, 8, 9, 10]"
      ]
     },
     "execution_count": 19,
     "metadata": {},
     "output_type": "execute_result"
    }
   ],
   "source": [
    "eg_list[:]"
   ]
  },
  {
   "cell_type": "markdown",
   "id": "1099923e",
   "metadata": {},
   "source": [
    "<br>\n",
    "\n",
    "Sublists can be sub-indexed"
   ]
  },
  {
   "cell_type": "code",
   "execution_count": 20,
   "id": "6f7c3299",
   "metadata": {},
   "outputs": [],
   "source": [
    "eg_sublists = [eg_list[:5],eg_list[5:]]"
   ]
  },
  {
   "cell_type": "code",
   "execution_count": 21,
   "id": "106ae5da",
   "metadata": {},
   "outputs": [
    {
     "data": {
      "text/plain": [
       "[6, 7, 8, 9, 10]"
      ]
     },
     "execution_count": 21,
     "metadata": {},
     "output_type": "execute_result"
    }
   ],
   "source": [
    "eg_sublists[1]"
   ]
  },
  {
   "cell_type": "code",
   "execution_count": 22,
   "id": "e7069e9e",
   "metadata": {},
   "outputs": [
    {
     "data": {
      "text/plain": [
       "7"
      ]
     },
     "execution_count": 22,
     "metadata": {},
     "output_type": "execute_result"
    }
   ],
   "source": [
    "eg_sublists[1][1]"
   ]
  },
  {
   "cell_type": "markdown",
   "id": "30792e4c",
   "metadata": {},
   "source": [
    "<br>\n",
    "\n",
    "To find the index number of a certain item use `.index()`"
   ]
  },
  {
   "cell_type": "code",
   "execution_count": 23,
   "id": "265a78c9",
   "metadata": {},
   "outputs": [],
   "source": [
    "word_list = ['banana','car','Alabama']"
   ]
  },
  {
   "cell_type": "code",
   "execution_count": 24,
   "id": "0c5ec747",
   "metadata": {},
   "outputs": [
    {
     "data": {
      "text/plain": [
       "1"
      ]
     },
     "execution_count": 24,
     "metadata": {},
     "output_type": "execute_result"
    }
   ],
   "source": [
    "word_list.index('car')"
   ]
  },
  {
   "cell_type": "markdown",
   "id": "65527057",
   "metadata": {},
   "source": [
    "### Editing\n",
    "\n",
    "*-Replacing*"
   ]
  },
  {
   "cell_type": "code",
   "execution_count": 25,
   "id": "cd8c1c8e",
   "metadata": {},
   "outputs": [
    {
     "data": {
      "text/plain": [
       "[1, 2, 3, 4, 5, 6, 7, 8, 9, 10]"
      ]
     },
     "execution_count": 25,
     "metadata": {},
     "output_type": "execute_result"
    }
   ],
   "source": [
    "eg_list"
   ]
  },
  {
   "cell_type": "code",
   "execution_count": 26,
   "id": "d59559ba",
   "metadata": {},
   "outputs": [
    {
     "data": {
      "text/plain": [
       "[1, 2, 3, 4, 5, 6, 7, 8, 9, 100]"
      ]
     },
     "execution_count": 26,
     "metadata": {},
     "output_type": "execute_result"
    }
   ],
   "source": [
    "eg_list[9] = 100\n",
    "eg_list"
   ]
  },
  {
   "cell_type": "markdown",
   "id": "4998aa0b",
   "metadata": {},
   "source": [
    "<br> \n",
    "\n",
    "*-Deleting*\n",
    "\n",
    "Removes the first, and only the first, occurance"
   ]
  },
  {
   "cell_type": "code",
   "execution_count": 27,
   "id": "0f16d276",
   "metadata": {},
   "outputs": [
    {
     "data": {
      "text/plain": [
       "[1, 2, 3, 4, 5, 6, 7, 8, 9]"
      ]
     },
     "execution_count": 27,
     "metadata": {},
     "output_type": "execute_result"
    }
   ],
   "source": [
    "eg_list.remove(100)\n",
    "eg_list"
   ]
  },
  {
   "cell_type": "markdown",
   "id": "85a52325",
   "metadata": {},
   "source": [
    "<br> \n",
    "\n",
    "*-Adding Values*"
   ]
  },
  {
   "cell_type": "code",
   "execution_count": 28,
   "id": "7d654133",
   "metadata": {},
   "outputs": [
    {
     "data": {
      "text/plain": [
       "[1, 2, 3, 4, 5, 6, 7, 8, 9, 10, 11]"
      ]
     },
     "execution_count": 28,
     "metadata": {},
     "output_type": "execute_result"
    }
   ],
   "source": [
    "eg_list.extend([10,11])\n",
    "eg_list"
   ]
  },
  {
   "cell_type": "markdown",
   "id": "9fb44081",
   "metadata": {},
   "source": [
    "<br> \n",
    "\n",
    "*-Adding Items*"
   ]
  },
  {
   "cell_type": "code",
   "execution_count": 29,
   "id": "7524a13b",
   "metadata": {},
   "outputs": [
    {
     "data": {
      "text/plain": [
       "[1, 2, 3, 4, 5, 6, 7, 8, 9, 10, 11, [11, 10, 9, 8, 7, 6, 5, 4, 3, 2, 1]]"
      ]
     },
     "execution_count": 29,
     "metadata": {},
     "output_type": "execute_result"
    }
   ],
   "source": [
    "eg_list.append([11, 10, 9, 8, 7, 6, 5, 4, 3, 2, 1])\n",
    "eg_list"
   ]
  },
  {
   "cell_type": "markdown",
   "id": "45db6b86",
   "metadata": {},
   "source": [
    "### Sorting"
   ]
  },
  {
   "cell_type": "code",
   "execution_count": 30,
   "id": "68fe9cf0",
   "metadata": {},
   "outputs": [],
   "source": [
    "random_list = [3, 5, 5 , 87, 3, 236, 6]"
   ]
  },
  {
   "cell_type": "code",
   "execution_count": 31,
   "id": "799a801e",
   "metadata": {},
   "outputs": [
    {
     "data": {
      "text/plain": [
       "[3, 3, 5, 5, 6, 87, 236]"
      ]
     },
     "execution_count": 31,
     "metadata": {},
     "output_type": "execute_result"
    }
   ],
   "source": [
    "sorted(random_list)"
   ]
  },
  {
   "cell_type": "code",
   "execution_count": 32,
   "id": "050dd128",
   "metadata": {},
   "outputs": [
    {
     "data": {
      "text/plain": [
       "[236, 87, 6, 5, 5, 3, 3]"
      ]
     },
     "execution_count": 32,
     "metadata": {},
     "output_type": "execute_result"
    }
   ],
   "source": [
    "sorted(random_list, reverse=True)"
   ]
  },
  {
   "cell_type": "markdown",
   "id": "4743c3d2",
   "metadata": {},
   "source": [
    "### Counting"
   ]
  },
  {
   "cell_type": "code",
   "execution_count": 33,
   "id": "edeccc8f",
   "metadata": {},
   "outputs": [
    {
     "data": {
      "text/plain": [
       "2"
      ]
     },
     "execution_count": 33,
     "metadata": {},
     "output_type": "execute_result"
    }
   ],
   "source": [
    "random_list.count(5)"
   ]
  },
  {
   "cell_type": "markdown",
   "id": "d3c5aacc",
   "metadata": {},
   "source": [
    "### Zipping"
   ]
  },
  {
   "cell_type": "code",
   "execution_count": 34,
   "id": "c57d25cc",
   "metadata": {},
   "outputs": [
    {
     "name": "stdout",
     "output_type": "stream",
     "text": [
      "[('Buffy', 'Slayer', 'F'), ('Willow', 'Witch', 'F'), ('Xander', 'Comic Relief', 'M')]\n"
     ]
    }
   ],
   "source": [
    "name = ['Buffy','Willow','Xander']\n",
    "role = ['Slayer','Witch','Comic Relief']\n",
    "gender = ['F','F','M']\n",
    "\n",
    "combined = list(zip(name, role, gender))\n",
    "\n",
    "print(combined)"
   ]
  },
  {
   "cell_type": "markdown",
   "id": "0ccdde97",
   "metadata": {},
   "source": [
    "![](https://github.com/social-lorax/howto_codebooks/blob/master/images/underlines/python_underline.png?raw=true)\n",
    "\n",
    "# Dictionaries \n",
    "\n",
    "### Creating\n",
    "\n",
    "*-Single Level*"
   ]
  },
  {
   "cell_type": "code",
   "execution_count": 35,
   "id": "84b1f528",
   "metadata": {},
   "outputs": [],
   "source": [
    "capitals = {'spain':'madrid','germany':'berlin', 'france':'paris'}"
   ]
  },
  {
   "cell_type": "markdown",
   "id": "4289b24a",
   "metadata": {},
   "source": [
    "<br> \n",
    "\n",
    "*-Multi-level*"
   ]
  },
  {
   "cell_type": "code",
   "execution_count": 36,
   "id": "2bcdaff0",
   "metadata": {},
   "outputs": [],
   "source": [
    "cap_pop = {'spain':{'capital':'madrid', 'pop':46.77}, 'germany':{'capital':'berlin', 'pop':80.62}}"
   ]
  },
  {
   "cell_type": "markdown",
   "id": "3ca563fa",
   "metadata": {},
   "source": [
    "### Using"
   ]
  },
  {
   "cell_type": "code",
   "execution_count": 37,
   "id": "d93994e1",
   "metadata": {},
   "outputs": [
    {
     "data": {
      "text/plain": [
       "{'capital': 'berlin', 'pop': 80.62}"
      ]
     },
     "execution_count": 37,
     "metadata": {},
     "output_type": "execute_result"
    }
   ],
   "source": [
    "cap_pop ['germany']"
   ]
  },
  {
   "cell_type": "code",
   "execution_count": 38,
   "id": "786861fe",
   "metadata": {},
   "outputs": [
    {
     "data": {
      "text/plain": [
       "80.62"
      ]
     },
     "execution_count": 38,
     "metadata": {},
     "output_type": "execute_result"
    }
   ],
   "source": [
    "cap_pop['germany']['pop']"
   ]
  },
  {
   "cell_type": "code",
   "execution_count": 39,
   "id": "ee4f5b3b",
   "metadata": {},
   "outputs": [
    {
     "data": {
      "text/plain": [
       "dict_keys(['spain', 'germany', 'france'])"
      ]
     },
     "execution_count": 39,
     "metadata": {},
     "output_type": "execute_result"
    }
   ],
   "source": [
    "capitals.keys()"
   ]
  },
  {
   "cell_type": "code",
   "execution_count": 40,
   "id": "3c6c71c9",
   "metadata": {},
   "outputs": [
    {
     "data": {
      "text/plain": [
       "dict_values(['madrid', 'berlin', 'paris'])"
      ]
     },
     "execution_count": 40,
     "metadata": {},
     "output_type": "execute_result"
    }
   ],
   "source": [
    "capitals.values()"
   ]
  },
  {
   "cell_type": "markdown",
   "id": "61e510fe",
   "metadata": {},
   "source": [
    "### Editing\n",
    "\n",
    "*-Adding Value*"
   ]
  },
  {
   "cell_type": "code",
   "execution_count": 41,
   "id": "9691bf09",
   "metadata": {},
   "outputs": [],
   "source": [
    "capitals['italy'] = 'milan'"
   ]
  },
  {
   "cell_type": "markdown",
   "id": "80941537",
   "metadata": {},
   "source": [
    "<br> \n",
    "\n",
    "*-Fixing Value*"
   ]
  },
  {
   "cell_type": "code",
   "execution_count": 42,
   "id": "35241c16",
   "metadata": {},
   "outputs": [],
   "source": [
    "capitals['italy'] = 'rome'"
   ]
  },
  {
   "cell_type": "markdown",
   "id": "b928691a",
   "metadata": {},
   "source": [
    "<br> \n",
    "\n",
    "*-Deleting Value*"
   ]
  },
  {
   "cell_type": "code",
   "execution_count": 43,
   "id": "c3bc965f",
   "metadata": {},
   "outputs": [],
   "source": [
    "del(capitals['germany'])"
   ]
  },
  {
   "cell_type": "markdown",
   "id": "b6164b08",
   "metadata": {},
   "source": [
    "![](https://github.com/social-lorax/howto_codebooks/blob/master/images/underlines/python_underline.png?raw=true)\n",
    "\n",
    "# Sets \n",
    "\n",
    "### Creating\n"
   ]
  },
  {
   "cell_type": "code",
   "execution_count": 44,
   "id": "87fefeb9",
   "metadata": {},
   "outputs": [],
   "source": [
    "album_set1 = set(['Thriller', 'AC/DC', 'Back in Black'])\n",
    "album_set2 = set(['AC/DC', 'Back in Black', 'The Dark Side of the Moon'])"
   ]
  },
  {
   "cell_type": "markdown",
   "id": "490da508",
   "metadata": {},
   "source": [
    "### Editing\n",
    "\n",
    "*-Adding*"
   ]
  },
  {
   "cell_type": "code",
   "execution_count": 45,
   "id": "c75be62f",
   "metadata": {},
   "outputs": [],
   "source": [
    "album_set1.add('NSYNC')"
   ]
  },
  {
   "cell_type": "markdown",
   "id": "11d2f3b9",
   "metadata": {},
   "source": [
    "<br> \n",
    "\n",
    "*-Deleting*"
   ]
  },
  {
   "cell_type": "code",
   "execution_count": 46,
   "id": "fcfca138",
   "metadata": {},
   "outputs": [],
   "source": [
    "album_set1.remove('NSYNC')"
   ]
  },
  {
   "cell_type": "markdown",
   "id": "5cf78cb0",
   "metadata": {},
   "source": [
    "### Exploring\n",
    "\n",
    "*-Intersection*\n",
    "\n",
    "<img src=\"https://github.com/social-lorax/howto_codebooks/blob/master/images/python/Py_set2.png?raw=true\" style=\"width: 500px;\">"
   ]
  },
  {
   "cell_type": "code",
   "execution_count": 47,
   "id": "c3e351b6",
   "metadata": {},
   "outputs": [
    {
     "data": {
      "text/plain": [
       "{'AC/DC', 'Back in Black'}"
      ]
     },
     "execution_count": 47,
     "metadata": {},
     "output_type": "execute_result"
    }
   ],
   "source": [
    "album_set1.intersection(album_set2)"
   ]
  },
  {
   "cell_type": "markdown",
   "id": "242c7231",
   "metadata": {},
   "source": [
    "<br> \n",
    "\n",
    "*-Difference*\n",
    "\n",
    "<img src=\"https://github.com/social-lorax/howto_codebooks/blob/master/images/python/Py_set3.png?raw=true\" style=\"width: 500px;\">"
   ]
  },
  {
   "cell_type": "code",
   "execution_count": 48,
   "id": "7f5b7996",
   "metadata": {},
   "outputs": [
    {
     "data": {
      "text/plain": [
       "{'Thriller'}"
      ]
     },
     "execution_count": 48,
     "metadata": {},
     "output_type": "execute_result"
    }
   ],
   "source": [
    "album_set1.difference(album_set2)"
   ]
  },
  {
   "cell_type": "markdown",
   "id": "8617e45a",
   "metadata": {},
   "source": [
    "<img src=\"https://github.com/social-lorax/howto_codebooks/blob/master/images/python/Py_set4.png?raw=true\" style=\"width: 500px;\">"
   ]
  },
  {
   "cell_type": "code",
   "execution_count": 49,
   "id": "7af2340f",
   "metadata": {},
   "outputs": [
    {
     "data": {
      "text/plain": [
       "{'The Dark Side of the Moon'}"
      ]
     },
     "execution_count": 49,
     "metadata": {},
     "output_type": "execute_result"
    }
   ],
   "source": [
    "album_set2.difference(album_set1)"
   ]
  },
  {
   "cell_type": "markdown",
   "id": "76358bdd",
   "metadata": {},
   "source": [
    "<br> \n",
    "\n",
    "*-Union*\n",
    "\n",
    "<img src=\"https://github.com/social-lorax/howto_codebooks/blob/master/images/python/Py_set1.png?raw=true\" style=\"width: 500px;\">"
   ]
  },
  {
   "cell_type": "code",
   "execution_count": 50,
   "id": "2ae7addc",
   "metadata": {},
   "outputs": [
    {
     "data": {
      "text/plain": [
       "{'AC/DC', 'Back in Black', 'The Dark Side of the Moon', 'Thriller'}"
      ]
     },
     "execution_count": 50,
     "metadata": {},
     "output_type": "execute_result"
    }
   ],
   "source": [
    "album_set1.union(album_set2)"
   ]
  },
  {
   "cell_type": "markdown",
   "id": "30082dcf",
   "metadata": {},
   "source": [
    "![](https://github.com/social-lorax/howto_codebooks/blob/master/images/underlines/python_underline.png?raw=true)\n",
    "\n",
    "# Loops \n",
    "\n",
    "### While"
   ]
  },
  {
   "cell_type": "code",
   "execution_count": 51,
   "id": "a6031a5a",
   "metadata": {},
   "outputs": [
    {
     "name": "stdout",
     "output_type": "stream",
     "text": [
      "i = 0, which is still less than 5\n",
      "i = 1, which is still less than 5\n",
      "i = 2, which is still less than 5\n",
      "i = 3, which is still less than 5\n",
      "i = 4, which is still less than 5\n"
     ]
    }
   ],
   "source": [
    "i = 0\n",
    "while i < 5:\n",
    "    print('i = ' + str(i) + ', which is still less than 5')\n",
    "    i += 1"
   ]
  },
  {
   "cell_type": "markdown",
   "id": "dddd7006",
   "metadata": {},
   "source": [
    "### For\n",
    "\n",
    "*-Range*"
   ]
  },
  {
   "cell_type": "code",
   "execution_count": 52,
   "id": "1130e809",
   "metadata": {},
   "outputs": [
    {
     "name": "stdout",
     "output_type": "stream",
     "text": [
      "5\n",
      "6\n",
      "7\n",
      "8\n",
      "9\n"
     ]
    }
   ],
   "source": [
    "for x in range(5,10):\n",
    "    print(x)"
   ]
  },
  {
   "cell_type": "markdown",
   "id": "84b89302",
   "metadata": {},
   "source": [
    "<br> \n",
    "\n",
    "*-List*"
   ]
  },
  {
   "cell_type": "code",
   "execution_count": 53,
   "id": "b76ee07e",
   "metadata": {},
   "outputs": [
    {
     "name": "stdout",
     "output_type": "stream",
     "text": [
      "room 0: 11.25\n",
      "room 1: 18.0\n",
      "room 2: 20.0\n",
      "room 3: 10.75\n",
      "room 4: 9.5\n"
     ]
    }
   ],
   "source": [
    "areas = [11.25, 18.0, 20.0, 10.75, 9.50]\n",
    "\n",
    "for index, room in enumerate(areas) :\n",
    "    print(\"room \" + str(index) + \": \" + str(room))"
   ]
  },
  {
   "cell_type": "markdown",
   "id": "6f87e168",
   "metadata": {},
   "source": [
    "<br> \n",
    "\n",
    "*-Dictionary*"
   ]
  },
  {
   "cell_type": "code",
   "execution_count": 54,
   "id": "f9e5d59b",
   "metadata": {},
   "outputs": [
    {
     "name": "stdout",
     "output_type": "stream",
     "text": [
      "madrid is the capital of spain\n",
      "paris is the capital of france\n",
      "rome is the capital of italy\n"
     ]
    }
   ],
   "source": [
    "for key, value in capitals.items() :\n",
    "    print(value + \" is the capital of \" + key)"
   ]
  },
  {
   "cell_type": "markdown",
   "id": "6f06d019",
   "metadata": {},
   "source": [
    "<br> \n",
    "\n",
    "*-List Comprehension*"
   ]
  },
  {
   "cell_type": "code",
   "execution_count": 55,
   "id": "9fb56a1e",
   "metadata": {},
   "outputs": [
    {
     "data": {
      "text/plain": [
       "['B', 'W', 'X']"
      ]
     },
     "execution_count": 55,
     "metadata": {},
     "output_type": "execute_result"
    }
   ],
   "source": [
    "eg_list = ['Buffy','Willow','Xander']\n",
    "initials = [char[0] for char in eg_list]\n",
    "\n",
    "initials"
   ]
  },
  {
   "cell_type": "markdown",
   "id": "95f6e672",
   "metadata": {},
   "source": [
    "![](https://github.com/social-lorax/howto_codebooks/blob/master/images/underlines/python_underline.png?raw=true)\n",
    "\n",
    "# Functions \n",
    "\n",
    "### Packages \n",
    "\n",
    "*-Import Existing*"
   ]
  },
  {
   "cell_type": "code",
   "execution_count": null,
   "id": "34745e6d",
   "metadata": {},
   "outputs": [],
   "source": [
    "import PACKAGE as ALIAS\n",
    "from PACKAGE import FUNCTION"
   ]
  },
  {
   "cell_type": "markdown",
   "id": "311007d2",
   "metadata": {},
   "source": [
    "<br> \n",
    "\n",
    "*-Downloading New*"
   ]
  },
  {
   "cell_type": "code",
   "execution_count": null,
   "id": "1b647a16",
   "metadata": {},
   "outputs": [],
   "source": [
    "!conda install -c conda-forge PACKAGE --yes\n",
    "!pip install PACKAGE"
   ]
  },
  {
   "cell_type": "markdown",
   "id": "bab20c37",
   "metadata": {},
   "source": [
    "### Creating New Functions "
   ]
  },
  {
   "cell_type": "code",
   "execution_count": null,
   "id": "024d7a3c",
   "metadata": {},
   "outputs": [],
   "source": [
    "def function_name(variable):\n",
    "  '''\n",
    "  Description of the function\n",
    "  \n",
    "  '''\n",
    " \n",
    "  function\n",
    "\n",
    "function_name(variable)"
   ]
  },
  {
   "cell_type": "code",
   "execution_count": 56,
   "id": "b8c023dc",
   "metadata": {},
   "outputs": [
    {
     "name": "stdout",
     "output_type": "stream",
     "text": [
      "Hello Ryan\n"
     ]
    }
   ],
   "source": [
    "def greet(name):\n",
    "    '''\n",
    "    Greet the person after they enter their name\n",
    "    \n",
    "    '''\n",
    "    \n",
    "    print('Hello '+ name)\n",
    "\n",
    "greet('Ryan')"
   ]
  },
  {
   "cell_type": "code",
   "execution_count": 57,
   "id": "cdcbc7aa",
   "metadata": {},
   "outputs": [
    {
     "name": "stdout",
     "output_type": "stream",
     "text": [
      "9 -70\n"
     ]
    }
   ],
   "source": [
    "def multi_out(var1, var2):\n",
    "    '''\n",
    "    Demonstrating how to set multiple variables \n",
    "    '''\n",
    "    result1 = var1 * -1\n",
    "    result2 = var2 * -10\n",
    "    return(result1,result2)\n",
    "\n",
    "first, second = multi_out(-9,7)\n",
    "\n",
    "print(first, second)"
   ]
  },
  {
   "cell_type": "markdown",
   "id": "fbc52207",
   "metadata": {},
   "source": [
    "### If/Elif/Else"
   ]
  },
  {
   "cell_type": "code",
   "execution_count": null,
   "id": "bd756e31",
   "metadata": {},
   "outputs": [],
   "source": [
    "def function_name(variable):\n",
    "  '''\n",
    "  Description of the function\n",
    "\n",
    "  '''\n",
    " \n",
    "  if logical:\n",
    "    function\n",
    "  elif logical:\n",
    "    function\n",
    "  else:\n",
    "    function"
   ]
  },
  {
   "cell_type": "code",
   "execution_count": 58,
   "id": "e866b498",
   "metadata": {},
   "outputs": [
    {
     "name": "stdout",
     "output_type": "stream",
     "text": [
      "Fall\n"
     ]
    }
   ],
   "source": [
    "def season(month):\n",
    "    '''\n",
    "    Classifies months by season\n",
    "    \n",
    "    '''\n",
    "    \n",
    "    if month in('Dec','Jan','Feb'):\n",
    "        print('Winter')\n",
    "    elif month in('Mar','Apr','May'):\n",
    "        print ('Spring')\n",
    "    elif month in('Jun','Jul','Aug'):\n",
    "        print('Summer')\n",
    "    else:\n",
    "        print('Fall')\n",
    "        \n",
    "season('Nov')"
   ]
  },
  {
   "cell_type": "markdown",
   "id": "53cfdef1",
   "metadata": {},
   "source": [
    "### Default Parameters"
   ]
  },
  {
   "cell_type": "code",
   "execution_count": null,
   "id": "8798c368",
   "metadata": {},
   "outputs": [],
   "source": [
    "def function_name(defaultvar=default):\n",
    "  '''\n",
    "  Description of the function\n",
    "  \n",
    "  '''\n",
    "  \n",
    "  function\n",
    "  \n",
    "function_name()\n",
    "function_name(override_variable)"
   ]
  },
  {
   "cell_type": "code",
   "execution_count": 59,
   "id": "4fd60973",
   "metadata": {},
   "outputs": [],
   "source": [
    "def power(number,power=2):\n",
    "    '''\n",
    "    Raises  number to a power\n",
    "    If no power is entered, it takes 2 as the default\n",
    "    \n",
    "    '''\n",
    "    \n",
    "    return number ** power "
   ]
  },
  {
   "cell_type": "code",
   "execution_count": 60,
   "id": "f33b4c5d",
   "metadata": {},
   "outputs": [
    {
     "data": {
      "text/plain": [
       "4"
      ]
     },
     "execution_count": 60,
     "metadata": {},
     "output_type": "execute_result"
    }
   ],
   "source": [
    "power(2)"
   ]
  },
  {
   "cell_type": "code",
   "execution_count": 61,
   "id": "3f3c7dad",
   "metadata": {},
   "outputs": [
    {
     "data": {
      "text/plain": [
       "16"
      ]
     },
     "execution_count": 61,
     "metadata": {},
     "output_type": "execute_result"
    }
   ],
   "source": [
    "power(2, 4)"
   ]
  },
  {
   "cell_type": "markdown",
   "id": "f4dc2e68",
   "metadata": {},
   "source": [
    "### Infinite Parameters"
   ]
  },
  {
   "cell_type": "code",
   "execution_count": null,
   "id": "f8747db2",
   "metadata": {},
   "outputs": [],
   "source": [
    "def function_name(*val):\n",
    "  '''\n",
    "  Description of the function\n",
    "  \n",
    "  '''\n",
    "  \n",
    "  function\n",
    "  \n",
    "function_name(1)\n",
    "function_name(1, 2)\n",
    "function_name(1, 2, ..., n)"
   ]
  },
  {
   "cell_type": "code",
   "execution_count": 62,
   "id": "c7e33dea",
   "metadata": {},
   "outputs": [],
   "source": [
    "def add_all(*param):\n",
    "    '''\n",
    "    Adds as many paramaters as you want\n",
    "    \n",
    "    '''\n",
    "    \n",
    "    value = 0 \n",
    "    for para in param:\n",
    "        value = value + para\n",
    "    return value"
   ]
  },
  {
   "cell_type": "code",
   "execution_count": 63,
   "id": "dcbb6ff0",
   "metadata": {},
   "outputs": [
    {
     "name": "stdout",
     "output_type": "stream",
     "text": [
      "6\n"
     ]
    }
   ],
   "source": [
    "print(add_all(1,2,3))"
   ]
  },
  {
   "cell_type": "code",
   "execution_count": 64,
   "id": "be2b2985",
   "metadata": {},
   "outputs": [
    {
     "name": "stdout",
     "output_type": "stream",
     "text": [
      "55\n"
     ]
    }
   ],
   "source": [
    "print(add_all(1,2,3,4,5,6,7,8,9,10))"
   ]
  },
  {
   "cell_type": "markdown",
   "id": "a1320c42",
   "metadata": {},
   "source": [
    "### Lambda Functions"
   ]
  },
  {
   "cell_type": "code",
   "execution_count": null,
   "id": "fe3afdab",
   "metadata": {},
   "outputs": [],
   "source": [
    "lambda var: function"
   ]
  },
  {
   "cell_type": "code",
   "execution_count": 65,
   "id": "116bbcd6",
   "metadata": {},
   "outputs": [
    {
     "data": {
      "text/plain": [
       "[1, 4, 9, 16, 25]"
      ]
     },
     "execution_count": 65,
     "metadata": {},
     "output_type": "execute_result"
    }
   ],
   "source": [
    "nums = [1,2,3,4,5]\n",
    "\n",
    "list(map(lambda num: num ** 2,nums))"
   ]
  },
  {
   "cell_type": "markdown",
   "id": "4cb9c7e1",
   "metadata": {},
   "source": [
    "![](https://github.com/social-lorax/howto_codebooks/blob/master/images/underlines/python_underline.png?raw=true)\n",
    "\n",
    "[Return to Python Page](https://social-lorax.github.io/guides/index_py.html)"
   ]
  }
 ],
 "metadata": {
  "kernelspec": {
   "display_name": "Python [conda env:root] *",
   "language": "python",
   "name": "conda-root-py"
  },
  "language_info": {
   "codemirror_mode": {
    "name": "ipython",
    "version": 3
   },
   "file_extension": ".py",
   "mimetype": "text/x-python",
   "name": "python",
   "nbconvert_exporter": "python",
   "pygments_lexer": "ipython3",
   "version": "3.8.8"
  }
 },
 "nbformat": 4,
 "nbformat_minor": 5
}
