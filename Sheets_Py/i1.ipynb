{
 "cells": [
  {
   "cell_type": "markdown",
   "id": "55759748",
   "metadata": {},
   "source": [
    "[Return to Python Page](https://social-lorax.github.io/guides/index_py.html)\n",
    "\n",
    "# Abstract \n",
    "\n",
    "1. **Motivation**: why there's a problem/why it's important\n",
    "2. **What**: problem statement/hypothesis\n",
    "3. **How**: approach/methodology\n",
    "4. **Expectation**: what is the expected outcome of the analysis\n",
    "5. **Implications**: what does it all mean\n",
    "\n",
    "![](https://github.com/social-lorax/howto_codebooks/blob/master/images/index/underline.gif?raw=true)"
   ]
  }
 ],
 "metadata": {
  "kernelspec": {
   "display_name": "Python [conda env:PUI]",
   "language": "python",
   "name": "conda-env-PUI-py"
  },
  "language_info": {
   "codemirror_mode": {
    "name": "ipython",
    "version": 3
   },
   "file_extension": ".py",
   "mimetype": "text/x-python",
   "name": "python",
   "nbconvert_exporter": "python",
   "pygments_lexer": "ipython3",
   "version": "3.8.10"
  }
 },
 "nbformat": 4,
 "nbformat_minor": 5
}
