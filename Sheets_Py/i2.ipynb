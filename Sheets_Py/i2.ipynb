{
 "cells": [
  {
   "cell_type": "markdown",
   "id": "d3a4116d",
   "metadata": {},
   "source": [
    "[Return to Python Page](https://social-lorax.github.io/guides/index_py.html)\n",
    "\n",
    "![](https://github.com/social-lorax/howto_codebooks/blob/master/images/python/i2_main.png?raw=true)\n",
    "\n",
    "![](https://github.com/social-lorax/howto_codebooks/blob/master/images/index/underline.gif?raw=true)\n",
    "\n",
    "[Importing Data](https://social-lorax.github.io/guides/py_import.html)\n",
    "\n",
    "[Pandas](https://social-lorax.github.io/guides/py_pandas.html)"
   ]
  }
 ],
 "metadata": {
  "kernelspec": {
   "display_name": "Python [conda env:PUI]",
   "language": "python",
   "name": "conda-env-PUI-py"
  },
  "language_info": {
   "codemirror_mode": {
    "name": "ipython",
    "version": 3
   },
   "file_extension": ".py",
   "mimetype": "text/x-python",
   "name": "python",
   "nbconvert_exporter": "python",
   "pygments_lexer": "ipython3",
   "version": "3.8.10"
  }
 },
 "nbformat": 4,
 "nbformat_minor": 5
}
