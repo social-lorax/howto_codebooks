{
 "cells": [
  {
   "cell_type": "markdown",
   "id": "7de1dd9a",
   "metadata": {},
   "source": [
    "[Return to Main Page](https://social-lorax.github.io/guides/index.html)\n",
    "\n",
    "![](https://github.com/social-lorax/howto_codebooks/blob/master/images/python/logo_python.png?raw=true)\n",
    "\n",
    "![](https://github.com/social-lorax/howto_codebooks/blob/master/images/index/underline.gif?raw=true)"
   ]
  },
  {
   "cell_type": "markdown",
   "id": "555ef5ea",
   "metadata": {},
   "source": [
    "# Program\n",
    "\n",
    "[Basic Python](https://social-lorax.github.io/guides/Basic%20Python.html)"
   ]
  }
 ],
 "metadata": {
  "kernelspec": {
   "display_name": "Python [conda env:root] *",
   "language": "python",
   "name": "conda-root-py"
  },
  "language_info": {
   "codemirror_mode": {
    "name": "ipython",
    "version": 3
   },
   "file_extension": ".py",
   "mimetype": "text/x-python",
   "name": "python",
   "nbconvert_exporter": "python",
   "pygments_lexer": "ipython3",
   "version": "3.8.8"
  }
 },
 "nbformat": 4,
 "nbformat_minor": 5
}
