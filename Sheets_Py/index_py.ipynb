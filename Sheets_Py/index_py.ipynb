{
 "cells": [
  {
   "cell_type": "markdown",
   "id": "1a4ce691",
   "metadata": {},
   "source": [
    "[Return to Main Page](https://social-lorax.github.io/guides/index.html)\n",
    "\n",
    "![](https://github.com/social-lorax/howto_codebooks/blob/master/images/python/logo_python.png?raw=true)\n",
    "\n",
    "![](https://github.com/social-lorax/howto_codebooks/blob/master/images/index/underline.gif?raw=true)"
   ]
  },
  {
   "cell_type": "markdown",
   "id": "5f4f885d",
   "metadata": {},
   "source": [
    "![](https://github.com/social-lorax/howto_codebooks/blob/master/images/python/i1.png?raw=true)\n",
    "[<img src=\"https://github.com/social-lorax/howto_codebooks/blob/master/images/python/i2.png?raw=true\">](https://social-lorax.github.io/guides/i2.html)\n",
    "[<img src=\"https://github.com/social-lorax/howto_codebooks/blob/master/images/python/i3.png?raw=true\">](https://social-lorax.github.io/guides/i3.html)\n",
    "[<img src=\"https://github.com/social-lorax/howto_codebooks/blob/master/images/python/i4.png?raw=true\">](https://social-lorax.github.io/guides/i4.html)\n",
    "[<img src=\"https://github.com/social-lorax/howto_codebooks/blob/master/images/python/i5.png?raw=true\">](https://social-lorax.github.io/guides/i5.html)\n",
    "[<img src=\"https://github.com/social-lorax/howto_codebooks/blob/master/images/python/i6.png?raw=true\">](https://social-lorax.github.io/guides/i6.html)\n",
    "[<img src=\"https://github.com/social-lorax/howto_codebooks/blob/master/images/python/i7.png?raw=true\">](https://social-lorax.github.io/guides/i7.html)"
   ]
  },
  {
   "cell_type": "markdown",
   "id": "8929884f",
   "metadata": {},
   "source": [
    "![](https://github.com/social-lorax/howto_codebooks/blob/master/images/index/underline.gif?raw=true)\n",
    "\n",
    "# Program\n",
    "\n",
    "[Basic Python](https://social-lorax.github.io/guides/Basic%20Python.html)\n",
    "\n",
    "![](https://github.com/social-lorax/howto_codebooks/blob/master/images/index/underline.gif?raw=true)\n",
    "\n",
    "# Resources\n",
    "\n",
    "<img src=\"https://github.com/social-lorax/howto_codebooks/blob/master/images/python/p4ds.jpg?raw=true\" style=\"width: 500px;\" align=\"left\">"
   ]
  },
  {
   "cell_type": "markdown",
   "id": "0f2b2100",
   "metadata": {},
   "source": [
    "[Link to book](https://bedford-computing.co.uk/learning/wp-content/uploads/2015/10/Python-for-Data-Analysis.pdf)"
   ]
  }
 ],
 "metadata": {
  "kernelspec": {
   "display_name": "Python [conda env:root] *",
   "language": "python",
   "name": "conda-root-py"
  },
  "language_info": {
   "codemirror_mode": {
    "name": "ipython",
    "version": 3
   },
   "file_extension": ".py",
   "mimetype": "text/x-python",
   "name": "python",
   "nbconvert_exporter": "python",
   "pygments_lexer": "ipython3",
   "version": "3.8.8"
  }
 },
 "nbformat": 4,
 "nbformat_minor": 5
}
