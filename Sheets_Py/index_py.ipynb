{
 "cells": [
  {
   "cell_type": "markdown",
   "id": "8929884f",
   "metadata": {},
   "source": [
    "[Return to Main Page](https://social-lorax.github.io/guides/index.html)\n",
    "\n",
    "![](https://github.com/social-lorax/howto_codebooks/blob/master/images/python/logo_python.png?raw=true)\n",
    "\n",
    "![](https://github.com/social-lorax/howto_codebooks/blob/master/images/index/underline.gif?raw=true)\n",
    "\n",
    "# Program\n",
    "\n",
    "[Basic Python](https://social-lorax.github.io/guides/Basic%20Python.html)\n",
    "\n",
    "![](https://github.com/social-lorax/howto_codebooks/blob/master/images/index/underline.gif?raw=true)\n",
    "\n",
    "# Resources\n",
    "\n",
    "<img src=\"https://github.com/social-lorax/howto_codebooks/blob/master/images/python/pds_handbook.jpg?raw=true\" style=\"width: 500px;\" align=\"left\">"
   ]
  },
  {
   "cell_type": "markdown",
   "id": "0f2b2100",
   "metadata": {},
   "source": [
    "[Link to book](https://jakevdp.github.io/PythonDataScienceHandbook/)"
   ]
  },
  {
   "cell_type": "markdown",
   "id": "af0cd7b7",
   "metadata": {},
   "source": [
    "<br> \n",
    "\n",
    "<img src=\"https://github.com/social-lorax/howto_codebooks/blob/master/images/python/p4ds.jpg?raw=true\" style=\"width: 500px;\" align=\"left\">"
   ]
  },
  {
   "cell_type": "markdown",
   "id": "787b3c6b",
   "metadata": {},
   "source": [
    "[Link to book](https://bedford-computing.co.uk/learning/wp-content/uploads/2015/10/Python-for-Data-Analysis.pdf)"
   ]
  }
 ],
 "metadata": {
  "kernelspec": {
   "display_name": "Python [conda env:root] *",
   "language": "python",
   "name": "conda-root-py"
  },
  "language_info": {
   "codemirror_mode": {
    "name": "ipython",
    "version": 3
   },
   "file_extension": ".py",
   "mimetype": "text/x-python",
   "name": "python",
   "nbconvert_exporter": "python",
   "pygments_lexer": "ipython3",
   "version": "3.8.8"
  }
 },
 "nbformat": 4,
 "nbformat_minor": 5
}
