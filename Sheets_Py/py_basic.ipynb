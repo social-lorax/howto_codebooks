{
 "cells": [
  {
   "cell_type": "markdown",
   "id": "0622fc8c",
   "metadata": {},
   "source": [
    "[Return to Python Page](https://social-lorax.github.io/guides/index_py.html)\n",
    "\n",
    "![](https://github.com/social-lorax/howto_codebooks/blob/master/images/python/logo_python.png?raw=true)\n",
    "\n",
    "![](https://github.com/social-lorax/howto_codebooks/blob/master/images/underlines/python_underline.png?raw=true)"
   ]
  },
  {
   "cell_type": "code",
   "execution_count": 1,
   "id": "f02d7b03",
   "metadata": {},
   "outputs": [
    {
     "data": {
      "text/html": [
       "<style>\n",
       "table {float:left}\n",
       "</style>\n"
      ],
      "text/plain": [
       "<IPython.core.display.HTML object>"
      ]
     },
     "metadata": {},
     "output_type": "display_data"
    }
   ],
   "source": [
    "%%html\n",
    "<style>\n",
    "table {float:left}\n",
    "</style>"
   ]
  },
  {
   "cell_type": "markdown",
   "id": "940bb9b4",
   "metadata": {},
   "source": [
    "# Super Basic \n",
    "\n",
    "### Comments"
   ]
  },
  {
   "cell_type": "code",
   "execution_count": 2,
   "id": "421d8a21",
   "metadata": {},
   "outputs": [],
   "source": [
    "# This is a comment, it won't do anything"
   ]
  },
  {
   "cell_type": "markdown",
   "id": "c5a3495d",
   "metadata": {},
   "source": [
    "### Help\n",
    "\n",
    "`help()` defines a function"
   ]
  },
  {
   "cell_type": "code",
   "execution_count": 3,
   "id": "db69051a",
   "metadata": {},
   "outputs": [
    {
     "name": "stdout",
     "output_type": "stream",
     "text": [
      "Help on built-in function round in module builtins:\n",
      "\n",
      "round(number, ndigits=None)\n",
      "    Round a number to a given precision in decimal digits.\n",
      "    \n",
      "    The return value is an integer if ndigits is omitted or None.  Otherwise\n",
      "    the return value has the same type as the number.  ndigits may be negative.\n",
      "\n"
     ]
    }
   ],
   "source": [
    "help(round)"
   ]
  },
  {
   "cell_type": "markdown",
   "id": "495bd5c7",
   "metadata": {},
   "source": [
    "### Data Types "
   ]
  },
  {
   "cell_type": "markdown",
   "id": "66ccf9d1",
   "metadata": {},
   "source": [
    "|Type |Definition |Example|\n",
    "|:----|:----------|:------|\n",
    "|`int` = integer |number with no decimal |`1`|\n",
    "|`float` = float|number with decimal |`1.0`|\n",
    "|`str` = string|value-less characters |`\"1\"`|\n",
    "|`bool` = Boolean|binary value |`TRUE`|"
   ]
  },
  {
   "cell_type": "markdown",
   "id": "12040893",
   "metadata": {},
   "source": [
    "`type()` checks the type \n",
    "\n",
    "<br> \n",
    "\n",
    "Converting is as easy as: \n",
    "\n",
    "* `int()`\n",
    "* `float()`\n",
    "* `str()`\n",
    "\n",
    "<br> \n",
    "\n",
    "Using a float in an operation will return a float"
   ]
  },
  {
   "cell_type": "code",
   "execution_count": 4,
   "id": "4d13c783",
   "metadata": {},
   "outputs": [
    {
     "data": {
      "text/plain": [
       "float"
      ]
     },
     "execution_count": 4,
     "metadata": {},
     "output_type": "execute_result"
    }
   ],
   "source": [
    "type(1.0 + 1)"
   ]
  },
  {
   "cell_type": "markdown",
   "id": "e057cf76",
   "metadata": {},
   "source": [
    "Using just integers will result in integers . . ."
   ]
  },
  {
   "cell_type": "code",
   "execution_count": 5,
   "id": "97c020dd",
   "metadata": {},
   "outputs": [
    {
     "data": {
      "text/plain": [
       "int"
      ]
     },
     "execution_count": 5,
     "metadata": {},
     "output_type": "execute_result"
    }
   ],
   "source": [
    "type(1 + 1)"
   ]
  },
  {
   "cell_type": "markdown",
   "id": "8f464588",
   "metadata": {},
   "source": [
    ". . . unless it is division"
   ]
  },
  {
   "cell_type": "code",
   "execution_count": 6,
   "id": "962f6e66",
   "metadata": {},
   "outputs": [
    {
     "data": {
      "text/plain": [
       "float"
      ]
     },
     "execution_count": 6,
     "metadata": {},
     "output_type": "execute_result"
    }
   ],
   "source": [
    "type(1 / 1)"
   ]
  },
  {
   "cell_type": "markdown",
   "id": "8ac2a2eb",
   "metadata": {},
   "source": [
    "### Boolean Operators"
   ]
  },
  {
   "cell_type": "markdown",
   "id": "12b8a3f9",
   "metadata": {},
   "source": [
    "|Function |Symbol |\n",
    "|:--------|:------|\n",
    "|Equal |`==` |\n",
    "|Not Equal |`!=`|\n",
    "|Greater Than |`>`|\n",
    "|Greater Than or Equal to |`>=`|\n",
    "|Less Than |`<`|\n",
    "|Less Than or Equal to|`<=`|\n",
    "|And |`&`|\n",
    "|Or |`\\|`|"
   ]
  },
  {
   "cell_type": "markdown",
   "id": "2ce388c3",
   "metadata": {},
   "source": [
    "### Variables \n",
    "\n",
    "`=` sets a variable equal to whatever you want"
   ]
  },
  {
   "cell_type": "code",
   "execution_count": 7,
   "id": "0536ed44",
   "metadata": {},
   "outputs": [],
   "source": [
    "variable = \"whatever you want\""
   ]
  },
  {
   "cell_type": "markdown",
   "id": "8561180f",
   "metadata": {},
   "source": [
    "<br> \n",
    "\n",
    "Setting a variable to a variable copies the value; it is NOT a link"
   ]
  },
  {
   "cell_type": "code",
   "execution_count": 8,
   "id": "25f24de4",
   "metadata": {},
   "outputs": [
    {
     "name": "stdout",
     "output_type": "stream",
     "text": [
      "see! 1\n"
     ]
    }
   ],
   "source": [
    "a = 1\n",
    "b = a\n",
    "\n",
    "a = 'see!'\n",
    "\n",
    "print(a, b)"
   ]
  },
  {
   "cell_type": "markdown",
   "id": "6d23ab27",
   "metadata": {},
   "source": [
    "### Functions & Methods\n",
    "\n",
    "* `function(object)`\n",
    "* `object.method()`"
   ]
  },
  {
   "cell_type": "code",
   "execution_count": 9,
   "id": "b6f4a146",
   "metadata": {},
   "outputs": [],
   "source": [
    "name = 'ryan'"
   ]
  },
  {
   "cell_type": "code",
   "execution_count": 10,
   "id": "d88018c5",
   "metadata": {},
   "outputs": [
    {
     "name": "stdout",
     "output_type": "stream",
     "text": [
      "ryan\n"
     ]
    }
   ],
   "source": [
    "print(name)"
   ]
  },
  {
   "cell_type": "code",
   "execution_count": 11,
   "id": "9fa30514",
   "metadata": {},
   "outputs": [
    {
     "data": {
      "text/plain": [
       "'RYAN'"
      ]
     },
     "execution_count": 11,
     "metadata": {},
     "output_type": "execute_result"
    }
   ],
   "source": [
    "name.upper()"
   ]
  },
  {
   "cell_type": "markdown",
   "id": "d82fa1f5",
   "metadata": {},
   "source": [
    "<br> \n",
    "\n",
    "### Math\n",
    "\n",
    "|Function |Code |Example |\n",
    "|:--------|:----|:-------|\n",
    "|Addition |`+`  |`4+2`   |\n",
    "|Subtration |`-` |`4-2`  |\n",
    "|Multiplication |`*` |`4*2` |\n",
    "|Division |`/`  |`4/2`   |\n",
    "|Exponents |`**` |`4**2` |"
   ]
  },
  {
   "cell_type": "markdown",
   "id": "23049959",
   "metadata": {},
   "source": [
    "![](https://github.com/social-lorax/howto_codebooks/blob/master/images/underlines/python_underline.png?raw=true)\n",
    "\n",
    "# Lists \n",
    "\n",
    "### Creating"
   ]
  },
  {
   "cell_type": "code",
   "execution_count": 12,
   "id": "d9237dba",
   "metadata": {},
   "outputs": [
    {
     "data": {
      "text/plain": [
       "['whatever', 'you', 'want', 'separated', 'by', 'comas', 4]"
      ]
     },
     "execution_count": 12,
     "metadata": {},
     "output_type": "execute_result"
    }
   ],
   "source": [
    "eg_list = ['whatever', 'you', 'want', 'separated', 'by', 'comas', 4]\n",
    "eg_list"
   ]
  },
  {
   "cell_type": "markdown",
   "id": "2add0e7a",
   "metadata": {},
   "source": [
    "<br> \n",
    "\n",
    "Setting a variable to a list DOES link to the list"
   ]
  },
  {
   "cell_type": "code",
   "execution_count": 13,
   "id": "6bf67f53",
   "metadata": {},
   "outputs": [
    {
     "name": "stdout",
     "output_type": "stream",
     "text": [
      "[1, 'see!', 3] [1, 'see!', 3]\n"
     ]
    }
   ],
   "source": [
    "a = [1, 2, 3]\n",
    "b = a\n",
    "\n",
    "a[1] = \"see!\"\n",
    "\n",
    "print(a, b)"
   ]
  },
  {
   "cell_type": "markdown",
   "id": "7f5b645f",
   "metadata": {},
   "source": [
    "Slicing will override this"
   ]
  },
  {
   "cell_type": "code",
   "execution_count": 14,
   "id": "472cec5d",
   "metadata": {},
   "outputs": [
    {
     "name": "stdout",
     "output_type": "stream",
     "text": [
      "[1, 'see!', 3] [1, 2, 3]\n"
     ]
    }
   ],
   "source": [
    "a = [1, 2, 3]\n",
    "b = a[:]\n",
    "\n",
    "a[1] = \"see!\"\n",
    "\n",
    "print(a, b)"
   ]
  },
  {
   "cell_type": "markdown",
   "id": "0826df03",
   "metadata": {},
   "source": [
    "### Indexing\n",
    "\n",
    "![](https://github.com/social-lorax/howto_codebooks/blob/master/images/python/Py_index.jpg?raw=true)"
   ]
  },
  {
   "cell_type": "code",
   "execution_count": 15,
   "id": "dc6789f0",
   "metadata": {},
   "outputs": [],
   "source": [
    "eg_list = [1, 2, 3, 4, 5, 6, 7, 8, 9, 10]"
   ]
  },
  {
   "cell_type": "markdown",
   "id": "150724be",
   "metadata": {},
   "source": [
    "<br> \n",
    "\n",
    "Left to right index starts at zero and is positive"
   ]
  },
  {
   "cell_type": "code",
   "execution_count": 16,
   "id": "df1e6bcd",
   "metadata": {},
   "outputs": [
    {
     "data": {
      "text/plain": [
       "2"
      ]
     },
     "execution_count": 16,
     "metadata": {},
     "output_type": "execute_result"
    }
   ],
   "source": [
    "eg_list[1]"
   ]
  },
  {
   "cell_type": "markdown",
   "id": "583cce36",
   "metadata": {},
   "source": [
    "<br> \n",
    "\n",
    "Right to left index starts at -1 and is negative"
   ]
  },
  {
   "cell_type": "code",
   "execution_count": 17,
   "id": "b1fa7400",
   "metadata": {},
   "outputs": [
    {
     "data": {
      "text/plain": [
       "10"
      ]
     },
     "execution_count": 17,
     "metadata": {},
     "output_type": "execute_result"
    }
   ],
   "source": [
    "eg_list[-1]"
   ]
  },
  {
   "cell_type": "markdown",
   "id": "3fa85573",
   "metadata": {},
   "source": [
    "<br> \n",
    "\n",
    "`:`  is used to indicate a range that is inclusive of first and exclusive of second"
   ]
  },
  {
   "cell_type": "code",
   "execution_count": 18,
   "id": "9becf452",
   "metadata": {},
   "outputs": [
    {
     "data": {
      "text/plain": [
       "[2, 3]"
      ]
     },
     "execution_count": 18,
     "metadata": {},
     "output_type": "execute_result"
    }
   ],
   "source": [
    "eg_list[1:3]"
   ]
  },
  {
   "cell_type": "markdown",
   "id": "ad5ac996",
   "metadata": {},
   "source": [
    "<br> \n",
    "\n",
    "Without numbers, `:` means all"
   ]
  },
  {
   "cell_type": "code",
   "execution_count": 19,
   "id": "acb84580",
   "metadata": {},
   "outputs": [
    {
     "data": {
      "text/plain": [
       "[1, 2, 3, 4, 5, 6, 7, 8, 9, 10]"
      ]
     },
     "execution_count": 19,
     "metadata": {},
     "output_type": "execute_result"
    }
   ],
   "source": [
    "eg_list[:]"
   ]
  },
  {
   "cell_type": "markdown",
   "id": "539fcb19",
   "metadata": {},
   "source": [
    "<br>\n",
    "\n",
    "Sublists can be sub-indexed"
   ]
  },
  {
   "cell_type": "code",
   "execution_count": 20,
   "id": "468301d8",
   "metadata": {},
   "outputs": [],
   "source": [
    "eg_sublists = [eg_list[:5],eg_list[5:]]"
   ]
  },
  {
   "cell_type": "code",
   "execution_count": 21,
   "id": "c839e436",
   "metadata": {},
   "outputs": [
    {
     "data": {
      "text/plain": [
       "[6, 7, 8, 9, 10]"
      ]
     },
     "execution_count": 21,
     "metadata": {},
     "output_type": "execute_result"
    }
   ],
   "source": [
    "eg_sublists[1]"
   ]
  },
  {
   "cell_type": "code",
   "execution_count": 22,
   "id": "f37553f5",
   "metadata": {},
   "outputs": [
    {
     "data": {
      "text/plain": [
       "7"
      ]
     },
     "execution_count": 22,
     "metadata": {},
     "output_type": "execute_result"
    }
   ],
   "source": [
    "eg_sublists[1][1]"
   ]
  },
  {
   "cell_type": "markdown",
   "id": "e619e453",
   "metadata": {},
   "source": [
    "<br>\n",
    "\n",
    "To find the index number of a certain item use `.index()`"
   ]
  },
  {
   "cell_type": "code",
   "execution_count": 23,
   "id": "f9f14697",
   "metadata": {},
   "outputs": [],
   "source": [
    "word_list = ['banana','car','Alabama']"
   ]
  },
  {
   "cell_type": "code",
   "execution_count": 24,
   "id": "48a4c653",
   "metadata": {},
   "outputs": [
    {
     "data": {
      "text/plain": [
       "1"
      ]
     },
     "execution_count": 24,
     "metadata": {},
     "output_type": "execute_result"
    }
   ],
   "source": [
    "word_list.index('car')"
   ]
  },
  {
   "cell_type": "markdown",
   "id": "f4e94420",
   "metadata": {},
   "source": [
    "### Editing\n",
    "\n",
    "*-Replacing*"
   ]
  },
  {
   "cell_type": "code",
   "execution_count": 25,
   "id": "a05181cc",
   "metadata": {},
   "outputs": [
    {
     "data": {
      "text/plain": [
       "[1, 2, 3, 4, 5, 6, 7, 8, 9, 10]"
      ]
     },
     "execution_count": 25,
     "metadata": {},
     "output_type": "execute_result"
    }
   ],
   "source": [
    "eg_list"
   ]
  },
  {
   "cell_type": "code",
   "execution_count": 26,
   "id": "b4b4e8e3",
   "metadata": {},
   "outputs": [
    {
     "data": {
      "text/plain": [
       "[1, 2, 3, 4, 5, 6, 7, 8, 9, 100]"
      ]
     },
     "execution_count": 26,
     "metadata": {},
     "output_type": "execute_result"
    }
   ],
   "source": [
    "eg_list[9] = 100\n",
    "eg_list"
   ]
  },
  {
   "cell_type": "markdown",
   "id": "1d4b5747",
   "metadata": {},
   "source": [
    "<br> \n",
    "\n",
    "*-Deleting*\n",
    "\n",
    "Removes the first, and only the first, occurance"
   ]
  },
  {
   "cell_type": "code",
   "execution_count": 27,
   "id": "f2ec55fd",
   "metadata": {},
   "outputs": [
    {
     "data": {
      "text/plain": [
       "[1, 2, 3, 4, 5, 6, 7, 8, 9]"
      ]
     },
     "execution_count": 27,
     "metadata": {},
     "output_type": "execute_result"
    }
   ],
   "source": [
    "eg_list.remove(100)\n",
    "eg_list"
   ]
  },
  {
   "cell_type": "markdown",
   "id": "437836cd",
   "metadata": {},
   "source": [
    "<br> \n",
    "\n",
    "*-Adding Values*"
   ]
  },
  {
   "cell_type": "code",
   "execution_count": 28,
   "id": "ba78871c",
   "metadata": {},
   "outputs": [
    {
     "data": {
      "text/plain": [
       "[1, 2, 3, 4, 5, 6, 7, 8, 9, 10, 11]"
      ]
     },
     "execution_count": 28,
     "metadata": {},
     "output_type": "execute_result"
    }
   ],
   "source": [
    "eg_list.extend([10,11])\n",
    "eg_list"
   ]
  },
  {
   "cell_type": "markdown",
   "id": "ee20bf23",
   "metadata": {},
   "source": [
    "<br> \n",
    "\n",
    "*-Adding Items*"
   ]
  },
  {
   "cell_type": "code",
   "execution_count": 29,
   "id": "37f0c2bd",
   "metadata": {},
   "outputs": [
    {
     "data": {
      "text/plain": [
       "[1, 2, 3, 4, 5, 6, 7, 8, 9, 10, 11, [11, 10, 9, 8, 7, 6, 5, 4, 3, 2, 1]]"
      ]
     },
     "execution_count": 29,
     "metadata": {},
     "output_type": "execute_result"
    }
   ],
   "source": [
    "eg_list.append([11, 10, 9, 8, 7, 6, 5, 4, 3, 2, 1])\n",
    "eg_list"
   ]
  },
  {
   "cell_type": "markdown",
   "id": "116ccd6f",
   "metadata": {},
   "source": [
    "### Sorting"
   ]
  },
  {
   "cell_type": "code",
   "execution_count": 30,
   "id": "6d1db9d4",
   "metadata": {},
   "outputs": [],
   "source": [
    "random_list = [3, 5, 5 , 87, 3, 236, 6]"
   ]
  },
  {
   "cell_type": "code",
   "execution_count": 31,
   "id": "ae18b0e5",
   "metadata": {},
   "outputs": [
    {
     "data": {
      "text/plain": [
       "[3, 3, 5, 5, 6, 87, 236]"
      ]
     },
     "execution_count": 31,
     "metadata": {},
     "output_type": "execute_result"
    }
   ],
   "source": [
    "sorted(random_list)"
   ]
  },
  {
   "cell_type": "code",
   "execution_count": 32,
   "id": "0f93bc79",
   "metadata": {},
   "outputs": [
    {
     "data": {
      "text/plain": [
       "[236, 87, 6, 5, 5, 3, 3]"
      ]
     },
     "execution_count": 32,
     "metadata": {},
     "output_type": "execute_result"
    }
   ],
   "source": [
    "sorted(random_list, reverse=True)"
   ]
  },
  {
   "cell_type": "markdown",
   "id": "c27a7dc8",
   "metadata": {},
   "source": [
    "### Counting"
   ]
  },
  {
   "cell_type": "code",
   "execution_count": 33,
   "id": "129a28e9",
   "metadata": {},
   "outputs": [
    {
     "data": {
      "text/plain": [
       "2"
      ]
     },
     "execution_count": 33,
     "metadata": {},
     "output_type": "execute_result"
    }
   ],
   "source": [
    "random_list.count(5)"
   ]
  },
  {
   "cell_type": "markdown",
   "id": "fd2505f8",
   "metadata": {},
   "source": [
    "### Zipping"
   ]
  },
  {
   "cell_type": "code",
   "execution_count": 34,
   "id": "a1b4fd0e",
   "metadata": {},
   "outputs": [
    {
     "name": "stdout",
     "output_type": "stream",
     "text": [
      "[('Buffy', 'Slayer', 'F'), ('Willow', 'Witch', 'F'), ('Xander', 'Comic Relief', 'M')]\n"
     ]
    }
   ],
   "source": [
    "name = ['Buffy','Willow','Xander']\n",
    "role = ['Slayer','Witch','Comic Relief']\n",
    "gender = ['F','F','M']\n",
    "\n",
    "combined = list(zip(name, role, gender))\n",
    "\n",
    "print(combined)"
   ]
  },
  {
   "cell_type": "markdown",
   "id": "560c89a2",
   "metadata": {},
   "source": [
    "![](https://github.com/social-lorax/howto_codebooks/blob/master/images/underlines/python_underline.png?raw=true)\n",
    "\n",
    "# Dictionaries \n",
    "\n",
    "### Creating\n",
    "\n",
    "*-Single Level*"
   ]
  },
  {
   "cell_type": "code",
   "execution_count": 35,
   "id": "3a0db882",
   "metadata": {},
   "outputs": [],
   "source": [
    "capitals = {'spain':'madrid','germany':'berlin', 'france':'paris'}"
   ]
  },
  {
   "cell_type": "markdown",
   "id": "a01a7c2e",
   "metadata": {},
   "source": [
    "<br> \n",
    "\n",
    "*-Multi-level*"
   ]
  },
  {
   "cell_type": "code",
   "execution_count": 36,
   "id": "e838158c",
   "metadata": {},
   "outputs": [],
   "source": [
    "cap_pop = {'spain':{'capital':'madrid', 'pop':46.77}, 'germany':{'capital':'berlin', 'pop':80.62}}"
   ]
  },
  {
   "cell_type": "markdown",
   "id": "4298265b",
   "metadata": {},
   "source": [
    "### Using"
   ]
  },
  {
   "cell_type": "code",
   "execution_count": 37,
   "id": "239a101a",
   "metadata": {},
   "outputs": [
    {
     "data": {
      "text/plain": [
       "{'capital': 'berlin', 'pop': 80.62}"
      ]
     },
     "execution_count": 37,
     "metadata": {},
     "output_type": "execute_result"
    }
   ],
   "source": [
    "cap_pop ['germany']"
   ]
  },
  {
   "cell_type": "code",
   "execution_count": 38,
   "id": "e4f5253f",
   "metadata": {},
   "outputs": [
    {
     "data": {
      "text/plain": [
       "80.62"
      ]
     },
     "execution_count": 38,
     "metadata": {},
     "output_type": "execute_result"
    }
   ],
   "source": [
    "cap_pop['germany']['pop']"
   ]
  },
  {
   "cell_type": "code",
   "execution_count": 39,
   "id": "1452bbf1",
   "metadata": {},
   "outputs": [
    {
     "data": {
      "text/plain": [
       "dict_keys(['spain', 'germany', 'france'])"
      ]
     },
     "execution_count": 39,
     "metadata": {},
     "output_type": "execute_result"
    }
   ],
   "source": [
    "capitals.keys()"
   ]
  },
  {
   "cell_type": "code",
   "execution_count": 40,
   "id": "a03cfa8e",
   "metadata": {},
   "outputs": [
    {
     "data": {
      "text/plain": [
       "dict_values(['madrid', 'berlin', 'paris'])"
      ]
     },
     "execution_count": 40,
     "metadata": {},
     "output_type": "execute_result"
    }
   ],
   "source": [
    "capitals.values()"
   ]
  },
  {
   "cell_type": "markdown",
   "id": "c2769e5b",
   "metadata": {},
   "source": [
    "### Editing\n",
    "\n",
    "*-Adding Value*"
   ]
  },
  {
   "cell_type": "code",
   "execution_count": 41,
   "id": "28debab6",
   "metadata": {},
   "outputs": [],
   "source": [
    "capitals['italy'] = 'milan'"
   ]
  },
  {
   "cell_type": "markdown",
   "id": "97dd9401",
   "metadata": {},
   "source": [
    "<br> \n",
    "\n",
    "*-Fixing Value*"
   ]
  },
  {
   "cell_type": "code",
   "execution_count": 42,
   "id": "a12d58c9",
   "metadata": {},
   "outputs": [],
   "source": [
    "capitals['italy'] = 'rome'"
   ]
  },
  {
   "cell_type": "markdown",
   "id": "d99cf1fd",
   "metadata": {},
   "source": [
    "<br> \n",
    "\n",
    "*-Deleting Value*"
   ]
  },
  {
   "cell_type": "code",
   "execution_count": 43,
   "id": "85a0ac01",
   "metadata": {},
   "outputs": [],
   "source": [
    "del(capitals['germany'])"
   ]
  },
  {
   "cell_type": "markdown",
   "id": "d5b3c394",
   "metadata": {},
   "source": [
    "![](https://github.com/social-lorax/howto_codebooks/blob/master/images/underlines/python_underline.png?raw=true)\n",
    "\n",
    "# Sets \n",
    "\n",
    "### Creating\n"
   ]
  },
  {
   "cell_type": "code",
   "execution_count": 44,
   "id": "0e170951",
   "metadata": {},
   "outputs": [],
   "source": [
    "album_set1 = set(['Thriller', 'AC/DC', 'Back in Black'])\n",
    "album_set2 = set(['AC/DC', 'Back in Black', 'The Dark Side of the Moon'])"
   ]
  },
  {
   "cell_type": "markdown",
   "id": "dc85a613",
   "metadata": {},
   "source": [
    "### Editing\n",
    "\n",
    "*-Adding*"
   ]
  },
  {
   "cell_type": "code",
   "execution_count": 45,
   "id": "4d280311",
   "metadata": {},
   "outputs": [],
   "source": [
    "album_set1.add('NSYNC')"
   ]
  },
  {
   "cell_type": "markdown",
   "id": "251eaca2",
   "metadata": {},
   "source": [
    "<br> \n",
    "\n",
    "*-Deleting*"
   ]
  },
  {
   "cell_type": "code",
   "execution_count": 46,
   "id": "7a1137a9",
   "metadata": {},
   "outputs": [],
   "source": [
    "album_set1.remove('NSYNC')"
   ]
  },
  {
   "cell_type": "markdown",
   "id": "d919c0ba",
   "metadata": {},
   "source": [
    "### Exploring\n",
    "\n",
    "*-Intersection*\n",
    "\n",
    "<img src=\"https://github.com/social-lorax/howto_codebooks/blob/master/images/python/Py_set2.png?raw=true\" style=\"width: 500px;\">"
   ]
  },
  {
   "cell_type": "code",
   "execution_count": 47,
   "id": "e5f7a48a",
   "metadata": {},
   "outputs": [
    {
     "data": {
      "text/plain": [
       "{'AC/DC', 'Back in Black'}"
      ]
     },
     "execution_count": 47,
     "metadata": {},
     "output_type": "execute_result"
    }
   ],
   "source": [
    "album_set1.intersection(album_set2)"
   ]
  },
  {
   "cell_type": "markdown",
   "id": "f5cc1236",
   "metadata": {},
   "source": [
    "<br> \n",
    "\n",
    "*-Difference*\n",
    "\n",
    "<img src=\"https://github.com/social-lorax/howto_codebooks/blob/master/images/python/Py_set3.png?raw=true\" style=\"width: 500px;\">"
   ]
  },
  {
   "cell_type": "code",
   "execution_count": 48,
   "id": "89ea6929",
   "metadata": {},
   "outputs": [
    {
     "data": {
      "text/plain": [
       "{'Thriller'}"
      ]
     },
     "execution_count": 48,
     "metadata": {},
     "output_type": "execute_result"
    }
   ],
   "source": [
    "album_set1.difference(album_set2)"
   ]
  },
  {
   "cell_type": "markdown",
   "id": "4acfd73d",
   "metadata": {},
   "source": [
    "<img src=\"https://github.com/social-lorax/howto_codebooks/blob/master/images/python/Py_set4.png?raw=true\" style=\"width: 500px;\">"
   ]
  },
  {
   "cell_type": "code",
   "execution_count": 49,
   "id": "a8283c57",
   "metadata": {},
   "outputs": [
    {
     "data": {
      "text/plain": [
       "{'The Dark Side of the Moon'}"
      ]
     },
     "execution_count": 49,
     "metadata": {},
     "output_type": "execute_result"
    }
   ],
   "source": [
    "album_set2.difference(album_set1)"
   ]
  },
  {
   "cell_type": "markdown",
   "id": "ea854904",
   "metadata": {},
   "source": [
    "<br> \n",
    "\n",
    "*-Union*\n",
    "\n",
    "<img src=\"https://github.com/social-lorax/howto_codebooks/blob/master/images/python/Py_set1.png?raw=true\" style=\"width: 500px;\">"
   ]
  },
  {
   "cell_type": "code",
   "execution_count": 50,
   "id": "ceb7c694",
   "metadata": {},
   "outputs": [
    {
     "data": {
      "text/plain": [
       "{'AC/DC', 'Back in Black', 'The Dark Side of the Moon', 'Thriller'}"
      ]
     },
     "execution_count": 50,
     "metadata": {},
     "output_type": "execute_result"
    }
   ],
   "source": [
    "album_set1.union(album_set2)"
   ]
  },
  {
   "cell_type": "markdown",
   "id": "ae10e4d9",
   "metadata": {},
   "source": [
    "![](https://github.com/social-lorax/howto_codebooks/blob/master/images/underlines/python_underline.png?raw=true)\n",
    "\n",
    "# Loops \n",
    "\n",
    "### While"
   ]
  },
  {
   "cell_type": "code",
   "execution_count": 51,
   "id": "7a568f41",
   "metadata": {},
   "outputs": [
    {
     "name": "stdout",
     "output_type": "stream",
     "text": [
      "i = 0, which is still less than 5\n",
      "i = 1, which is still less than 5\n",
      "i = 2, which is still less than 5\n",
      "i = 3, which is still less than 5\n",
      "i = 4, which is still less than 5\n"
     ]
    }
   ],
   "source": [
    "i = 0\n",
    "while i < 5:\n",
    "    print('i = ' + str(i) + ', which is still less than 5')\n",
    "    i += 1"
   ]
  },
  {
   "cell_type": "markdown",
   "id": "53e44f91",
   "metadata": {},
   "source": [
    "### For\n",
    "\n",
    "*-Range*"
   ]
  },
  {
   "cell_type": "code",
   "execution_count": 52,
   "id": "906b3a42",
   "metadata": {},
   "outputs": [
    {
     "name": "stdout",
     "output_type": "stream",
     "text": [
      "5\n",
      "6\n",
      "7\n",
      "8\n",
      "9\n"
     ]
    }
   ],
   "source": [
    "for x in range(5,10):\n",
    "    print(x)"
   ]
  },
  {
   "cell_type": "markdown",
   "id": "2560d3f3",
   "metadata": {},
   "source": [
    "<br> \n",
    "\n",
    "*-List*"
   ]
  },
  {
   "cell_type": "code",
   "execution_count": 53,
   "id": "47098c35",
   "metadata": {},
   "outputs": [
    {
     "name": "stdout",
     "output_type": "stream",
     "text": [
      "room 0: 11.25\n",
      "room 1: 18.0\n",
      "room 2: 20.0\n",
      "room 3: 10.75\n",
      "room 4: 9.5\n"
     ]
    }
   ],
   "source": [
    "areas = [11.25, 18.0, 20.0, 10.75, 9.50]\n",
    "\n",
    "for index, room in enumerate(areas) :\n",
    "    print(\"room \" + str(index) + \": \" + str(room))"
   ]
  },
  {
   "cell_type": "markdown",
   "id": "b1f3b95d",
   "metadata": {},
   "source": [
    "<br> \n",
    "\n",
    "*-Dictionary*"
   ]
  },
  {
   "cell_type": "code",
   "execution_count": 54,
   "id": "a3a2c856",
   "metadata": {},
   "outputs": [
    {
     "name": "stdout",
     "output_type": "stream",
     "text": [
      "madrid is the capital of spain\n",
      "paris is the capital of france\n",
      "rome is the capital of italy\n"
     ]
    }
   ],
   "source": [
    "for key, value in capitals.items() :\n",
    "    print(value + \" is the capital of \" + key)"
   ]
  },
  {
   "cell_type": "markdown",
   "id": "653525fb",
   "metadata": {},
   "source": [
    "<br> \n",
    "\n",
    "*-List Comprehension*"
   ]
  },
  {
   "cell_type": "code",
   "execution_count": 55,
   "id": "01f0a5d8",
   "metadata": {},
   "outputs": [
    {
     "data": {
      "text/plain": [
       "['B', 'W', 'X']"
      ]
     },
     "execution_count": 55,
     "metadata": {},
     "output_type": "execute_result"
    }
   ],
   "source": [
    "eg_list = ['Buffy','Willow','Xander']\n",
    "initials = [char[0] for char in eg_list]\n",
    "\n",
    "initials"
   ]
  },
  {
   "cell_type": "markdown",
   "id": "5ea5d21c",
   "metadata": {},
   "source": [
    "![](https://github.com/social-lorax/howto_codebooks/blob/master/images/underlines/python_underline.png?raw=true)\n",
    "\n",
    "# Functions \n",
    "\n",
    "### Packages \n",
    "\n",
    "*-Import Existing*"
   ]
  },
  {
   "cell_type": "code",
   "execution_count": null,
   "id": "be626d34",
   "metadata": {},
   "outputs": [],
   "source": [
    "import PACKAGE as ALIAS\n",
    "from PACKAGE import FUNCTION"
   ]
  },
  {
   "cell_type": "markdown",
   "id": "4743ae84",
   "metadata": {},
   "source": [
    "<br> \n",
    "\n",
    "*-Downloading New*"
   ]
  },
  {
   "cell_type": "code",
   "execution_count": null,
   "id": "ffe29cdb",
   "metadata": {},
   "outputs": [],
   "source": [
    "!conda install -c conda-forge PACKAGE --yes\n",
    "!pip install PACKAGE"
   ]
  },
  {
   "cell_type": "markdown",
   "id": "6b97e869",
   "metadata": {},
   "source": [
    "### Creating New Functions "
   ]
  },
  {
   "cell_type": "code",
   "execution_count": null,
   "id": "b2da0c86",
   "metadata": {},
   "outputs": [],
   "source": [
    "def function_name(variable):\n",
    "  '''\n",
    "  Description of the function\n",
    "  '''\n",
    " \n",
    "  function\n",
    "\n",
    "function_name(variable)"
   ]
  },
  {
   "cell_type": "code",
   "execution_count": 56,
   "id": "da26200e",
   "metadata": {},
   "outputs": [
    {
     "name": "stdout",
     "output_type": "stream",
     "text": [
      "Hello Ryan\n"
     ]
    }
   ],
   "source": [
    "def greet(name):\n",
    "    '''\n",
    "    Greet the person after they enter their name\n",
    "    '''\n",
    "    \n",
    "    print('Hello '+ name)\n",
    "\n",
    "greet('Ryan')"
   ]
  },
  {
   "cell_type": "code",
   "execution_count": 57,
   "id": "08cf80aa",
   "metadata": {},
   "outputs": [
    {
     "name": "stdout",
     "output_type": "stream",
     "text": [
      "9 -70\n"
     ]
    }
   ],
   "source": [
    "def multi_out(var1, var2):\n",
    "    '''\n",
    "    Demonstrating how to set multiple variables \n",
    "    '''\n",
    "    \n",
    "    result1 = var1 * -1\n",
    "    result2 = var2 * -10\n",
    "    return(result1,result2)\n",
    "\n",
    "first, second = multi_out(-9,7)\n",
    "\n",
    "print(first, second)"
   ]
  },
  {
   "cell_type": "markdown",
   "id": "78fd9cf2",
   "metadata": {},
   "source": [
    "### If/Elif/Else"
   ]
  },
  {
   "cell_type": "code",
   "execution_count": null,
   "id": "1de26500",
   "metadata": {},
   "outputs": [],
   "source": [
    "def function_name(variable):\n",
    "  '''\n",
    "  Description of the function\n",
    "  '''\n",
    "\n",
    "  if logical:\n",
    "    function\n",
    "  elif logical:\n",
    "    function\n",
    "  else:\n",
    "    function"
   ]
  },
  {
   "cell_type": "code",
   "execution_count": 58,
   "id": "083d06fe",
   "metadata": {},
   "outputs": [
    {
     "name": "stdout",
     "output_type": "stream",
     "text": [
      "Fall\n"
     ]
    }
   ],
   "source": [
    "def season(month):\n",
    "    '''\n",
    "    Classifies months by season\n",
    "    '''\n",
    "    \n",
    "    if month in('Dec','Jan','Feb'):\n",
    "        print('Winter')\n",
    "    elif month in('Mar','Apr','May'):\n",
    "        print ('Spring')\n",
    "    elif month in('Jun','Jul','Aug'):\n",
    "        print('Summer')\n",
    "    else:\n",
    "        print('Fall')\n",
    "        \n",
    "season('Nov')"
   ]
  },
  {
   "cell_type": "markdown",
   "id": "a408cb5c",
   "metadata": {},
   "source": [
    "### Default Parameters"
   ]
  },
  {
   "cell_type": "code",
   "execution_count": null,
   "id": "2cff2296",
   "metadata": {},
   "outputs": [],
   "source": [
    "def function_name(defaultvar=default):\n",
    "  '''\n",
    "  Description of the function\n",
    "  '''\n",
    "  \n",
    "  function\n",
    "  \n",
    "function_name()\n",
    "function_name(override_variable)"
   ]
  },
  {
   "cell_type": "code",
   "execution_count": 59,
   "id": "acc3a518",
   "metadata": {},
   "outputs": [],
   "source": [
    "def power(number,power=2):\n",
    "    '''\n",
    "    Raises  number to a power\n",
    "    If no power is entered, it takes 2 as the default\n",
    "    '''\n",
    "    \n",
    "    return number ** power "
   ]
  },
  {
   "cell_type": "code",
   "execution_count": 60,
   "id": "f3abff5e",
   "metadata": {},
   "outputs": [
    {
     "data": {
      "text/plain": [
       "4"
      ]
     },
     "execution_count": 60,
     "metadata": {},
     "output_type": "execute_result"
    }
   ],
   "source": [
    "power(2)"
   ]
  },
  {
   "cell_type": "code",
   "execution_count": 61,
   "id": "5d7a3f0c",
   "metadata": {},
   "outputs": [
    {
     "data": {
      "text/plain": [
       "16"
      ]
     },
     "execution_count": 61,
     "metadata": {},
     "output_type": "execute_result"
    }
   ],
   "source": [
    "power(2, 4)"
   ]
  },
  {
   "cell_type": "markdown",
   "id": "5e7083d1",
   "metadata": {},
   "source": [
    "### Infinite Parameters"
   ]
  },
  {
   "cell_type": "code",
   "execution_count": null,
   "id": "33c4d104",
   "metadata": {},
   "outputs": [],
   "source": [
    "def function_name(*val):\n",
    "  '''\n",
    "  Description of the function\n",
    "  '''\n",
    "  \n",
    "  function\n",
    "  \n",
    "function_name(1)\n",
    "function_name(1, 2)\n",
    "function_name(1, 2, ..., n)"
   ]
  },
  {
   "cell_type": "code",
   "execution_count": 62,
   "id": "adaa0534",
   "metadata": {},
   "outputs": [],
   "source": [
    "def add_all(*param):\n",
    "    '''\n",
    "    Adds as many paramaters as you want\n",
    "    '''\n",
    "    \n",
    "    value = 0 \n",
    "    for para in param:\n",
    "        value = value + para\n",
    "    return value"
   ]
  },
  {
   "cell_type": "code",
   "execution_count": 63,
   "id": "79ceba5c",
   "metadata": {},
   "outputs": [
    {
     "name": "stdout",
     "output_type": "stream",
     "text": [
      "6\n"
     ]
    }
   ],
   "source": [
    "print(add_all(1,2,3))"
   ]
  },
  {
   "cell_type": "code",
   "execution_count": 64,
   "id": "04155eed",
   "metadata": {},
   "outputs": [
    {
     "name": "stdout",
     "output_type": "stream",
     "text": [
      "55\n"
     ]
    }
   ],
   "source": [
    "print(add_all(1,2,3,4,5,6,7,8,9,10))"
   ]
  },
  {
   "cell_type": "markdown",
   "id": "443c1dd6",
   "metadata": {},
   "source": [
    "<br> \n",
    "\n",
    "### Error Messages"
   ]
  },
  {
   "cell_type": "code",
   "execution_count": null,
   "id": "10208c58",
   "metadata": {},
   "outputs": [],
   "source": [
    "def function_name(variable):\n",
    "  '''\n",
    "  Description of the function\n",
    "  '''\n",
    "\n",
    "  try:\n",
    "    function\n",
    "  except:\n",
    "    print(error)"
   ]
  },
  {
   "cell_type": "code",
   "execution_count": 65,
   "id": "144c00f5",
   "metadata": {},
   "outputs": [],
   "source": [
    "def add_all(*param):\n",
    "    '''\n",
    "    Adds as many paramaters as you want\n",
    "    '''\n",
    "    \n",
    "    value = 0 \n",
    "    \n",
    "    try: \n",
    "        for para in param:\n",
    "            value = value + para\n",
    "    except: \n",
    "        print(\"Must enter numbers, not strings\")\n",
    "        value = \"NaN\"\n",
    "        \n",
    "    return(value)"
   ]
  },
  {
   "cell_type": "code",
   "execution_count": 66,
   "id": "17269d0b",
   "metadata": {},
   "outputs": [
    {
     "data": {
      "text/plain": [
       "6"
      ]
     },
     "execution_count": 66,
     "metadata": {},
     "output_type": "execute_result"
    }
   ],
   "source": [
    "add_all(1,2,3)"
   ]
  },
  {
   "cell_type": "code",
   "execution_count": 67,
   "id": "ea749139",
   "metadata": {},
   "outputs": [
    {
     "name": "stdout",
     "output_type": "stream",
     "text": [
      "Must enter numbers, not strings\n"
     ]
    },
    {
     "data": {
      "text/plain": [
       "'NaN'"
      ]
     },
     "execution_count": 67,
     "metadata": {},
     "output_type": "execute_result"
    }
   ],
   "source": [
    "add_all(1,2,\"3\")"
   ]
  },
  {
   "cell_type": "markdown",
   "id": "91830c85",
   "metadata": {},
   "source": [
    "### Lambda Functions"
   ]
  },
  {
   "cell_type": "code",
   "execution_count": null,
   "id": "8ad95e0f",
   "metadata": {},
   "outputs": [],
   "source": [
    "lambda var: function"
   ]
  },
  {
   "cell_type": "code",
   "execution_count": 68,
   "id": "ce814d58",
   "metadata": {},
   "outputs": [
    {
     "data": {
      "text/plain": [
       "[1, 4, 9, 16, 25]"
      ]
     },
     "execution_count": 68,
     "metadata": {},
     "output_type": "execute_result"
    }
   ],
   "source": [
    "nums = [1,2,3,4,5]\n",
    "\n",
    "list(map(lambda num: num ** 2, nums))"
   ]
  },
  {
   "cell_type": "markdown",
   "id": "2a3b3fed",
   "metadata": {},
   "source": [
    "![](https://github.com/social-lorax/howto_codebooks/blob/master/images/underlines/python_underline.png?raw=true)\n",
    "\n",
    "[Return to Python Page](https://social-lorax.github.io/guides/index_py.html)"
   ]
  }
 ],
 "metadata": {
  "kernelspec": {
   "display_name": "Python [conda env:root] *",
   "language": "python",
   "name": "conda-root-py"
  },
  "language_info": {
   "codemirror_mode": {
    "name": "ipython",
    "version": 3
   },
   "file_extension": ".py",
   "mimetype": "text/x-python",
   "name": "python",
   "nbconvert_exporter": "python",
   "pygments_lexer": "ipython3",
   "version": "3.8.8"
  }
 },
 "nbformat": 4,
 "nbformat_minor": 5
}
