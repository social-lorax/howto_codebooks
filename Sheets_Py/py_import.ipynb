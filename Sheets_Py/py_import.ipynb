{
 "cells": [
  {
   "cell_type": "markdown",
   "id": "f84076f6",
   "metadata": {},
   "source": [
    "[Return to Data Page](https://social-lorax.github.io/guides/i2.html)"
   ]
  },
  {
   "cell_type": "code",
   "execution_count": null,
   "id": "2de50a7d",
   "metadata": {},
   "outputs": [],
   "source": [
    "#pip install pandas "
   ]
  },
  {
   "cell_type": "code",
   "execution_count": null,
   "id": "b32e6a74",
   "metadata": {},
   "outputs": [],
   "source": [
    "#pip install gapminder"
   ]
  },
  {
   "cell_type": "code",
   "execution_count": 1,
   "id": "6e2be09c",
   "metadata": {},
   "outputs": [],
   "source": [
    "import pandas as pd \n",
    "%matplotlib inline\n",
    "\n",
    "from  gapminder import gapminder"
   ]
  },
  {
   "cell_type": "markdown",
   "id": "dc1ddbb8",
   "metadata": {},
   "source": [
    "# Data in Python\n",
    "\n",
    "### Equity\n",
    "\n",
    "* Where does this data come from?\n",
    "* Why was this data collected?\n",
    "* How was this data generated?\n",
    "* Is this data demographically representative?\n",
    "* Who is included and who is excluded from this data?\n",
    "* Whose voices, lives, and experiences are missing?\n",
    "* How much can this data be disaggregated by race, gender, ethnicity, etc.?\n",
    "* Are the categories mutually exclusive and fully inclusive?\n",
    "* Are there “other” categories and, if so, who does that include?\n",
    "* Who stands to benefit from this data?\n",
    "* Who might be harmed by the collection or publication of this data?\n",
    "\n",
    "(See more in Urban Institute’s [Do No Harm Guide](https://www.urban.org/research/publication/do-no-harm-guide-applying-equity-awareness-data-visualization/view/full_report))\n",
    "\n",
    "![](https://github.com/social-lorax/howto_codebooks/blob/master/images/underlines/python_underline.png?raw=true)\n",
    "\n",
    "# Importing \n",
    "\n",
    "`pandas` covers the basics like csv files"
   ]
  },
  {
   "cell_type": "code",
   "execution_count": null,
   "id": "d55ffd32",
   "metadata": {},
   "outputs": [],
   "source": [
    "pd.read_csv(\"path/to/file.csv\")"
   ]
  },
  {
   "cell_type": "code",
   "execution_count": null,
   "id": "7ae89fe9",
   "metadata": {},
   "outputs": [],
   "source": [
    "pd.read_csv(\"url\")"
   ]
  },
  {
   "cell_type": "markdown",
   "id": "f9b017d1",
   "metadata": {},
   "source": [
    "<br> \n",
    "\n",
    "`pandas` can also deal with excel files"
   ]
  },
  {
   "cell_type": "code",
   "execution_count": null,
   "id": "3937f40c",
   "metadata": {},
   "outputs": [],
   "source": [
    "#pip install xlrd"
   ]
  },
  {
   "cell_type": "code",
   "execution_count": null,
   "id": "f901867b",
   "metadata": {},
   "outputs": [],
   "source": [
    "pd.read_excel(\"path/to/file.xlxs\")"
   ]
  },
  {
   "cell_type": "markdown",
   "id": "0c139e6f",
   "metadata": {},
   "source": [
    "![](https://github.com/social-lorax/howto_codebooks/blob/master/images/underlines/python_underline.png?raw=true)\n",
    "\n",
    "# Creating \n"
   ]
  },
  {
   "cell_type": "code",
   "execution_count": 2,
   "id": "65c920db",
   "metadata": {},
   "outputs": [
    {
     "data": {
      "text/html": [
       "<div>\n",
       "<style scoped>\n",
       "    .dataframe tbody tr th:only-of-type {\n",
       "        vertical-align: middle;\n",
       "    }\n",
       "\n",
       "    .dataframe tbody tr th {\n",
       "        vertical-align: top;\n",
       "    }\n",
       "\n",
       "    .dataframe thead th {\n",
       "        text-align: right;\n",
       "    }\n",
       "</style>\n",
       "<table border=\"1\" class=\"dataframe\">\n",
       "  <thead>\n",
       "    <tr style=\"text-align: right;\">\n",
       "      <th></th>\n",
       "      <th>County</th>\n",
       "      <th>Captial</th>\n",
       "      <th>Population_mil</th>\n",
       "    </tr>\n",
       "  </thead>\n",
       "  <tbody>\n",
       "    <tr>\n",
       "      <th>0</th>\n",
       "      <td>United States</td>\n",
       "      <td>Washington D.C.</td>\n",
       "      <td>328.20</td>\n",
       "    </tr>\n",
       "    <tr>\n",
       "      <th>1</th>\n",
       "      <td>Canada</td>\n",
       "      <td>Ottawa</td>\n",
       "      <td>37.59</td>\n",
       "    </tr>\n",
       "    <tr>\n",
       "      <th>2</th>\n",
       "      <td>Mexico</td>\n",
       "      <td>Ciudad de Mexico</td>\n",
       "      <td>127.60</td>\n",
       "    </tr>\n",
       "  </tbody>\n",
       "</table>\n",
       "</div>"
      ],
      "text/plain": [
       "          County           Captial  Population_mil\n",
       "0  United States   Washington D.C.          328.20\n",
       "1         Canada            Ottawa           37.59\n",
       "2         Mexico  Ciudad de Mexico          127.60"
      ]
     },
     "execution_count": 2,
     "metadata": {},
     "output_type": "execute_result"
    }
   ],
   "source": [
    "data_dict = {\"County\": [\"United States\", \"Canada\", \"Mexico\"],\n",
    "             \"Captial\": [\"Washington D.C.\", \"Ottawa\", \"Ciudad de Mexico\"],\n",
    "             \"Population_mil\": [328.2, 37.59, 127.6]}\n",
    "\n",
    "pd.DataFrame(data_dict)"
   ]
  },
  {
   "cell_type": "markdown",
   "id": "fd855366",
   "metadata": {},
   "source": [
    "![](https://github.com/social-lorax/howto_codebooks/blob/master/images/underlines/python_underline.png?raw=true)\n",
    "\n",
    "# Exporting \n"
   ]
  },
  {
   "cell_type": "code",
   "execution_count": null,
   "id": "5523d01c",
   "metadata": {},
   "outputs": [],
   "source": [
    "df.DataFrame.to_csv(index = False)"
   ]
  },
  {
   "cell_type": "markdown",
   "id": "8197ffc6",
   "metadata": {},
   "source": [
    "![](https://github.com/social-lorax/howto_codebooks/blob/master/images/underlines/python_underline.png?raw=true)"
   ]
  }
 ],
 "metadata": {
  "kernelspec": {
   "display_name": "Python [conda env:root] *",
   "language": "python",
   "name": "conda-root-py"
  },
  "language_info": {
   "codemirror_mode": {
    "name": "ipython",
    "version": 3
   },
   "file_extension": ".py",
   "mimetype": "text/x-python",
   "name": "python",
   "nbconvert_exporter": "python",
   "pygments_lexer": "ipython3",
   "version": "3.8.8"
  }
 },
 "nbformat": 4,
 "nbformat_minor": 5
}
