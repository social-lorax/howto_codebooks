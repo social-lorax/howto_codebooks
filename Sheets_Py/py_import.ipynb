{
 "cells": [
  {
   "cell_type": "markdown",
   "id": "f84076f6",
   "metadata": {},
   "source": [
    "[Return to Data Page](https://social-lorax.github.io/guides/i2.html)"
   ]
  },
  {
   "cell_type": "code",
   "execution_count": 1,
   "id": "2de50a7d",
   "metadata": {},
   "outputs": [],
   "source": [
    "#pip install pandas "
   ]
  },
  {
   "cell_type": "code",
   "execution_count": 2,
   "id": "6e2be09c",
   "metadata": {},
   "outputs": [],
   "source": [
    "import pandas as pd \n",
    "import numpy as np\n",
    "%matplotlib inline"
   ]
  },
  {
   "cell_type": "markdown",
   "id": "dc1ddbb8",
   "metadata": {},
   "source": [
    "# Data in Python\n",
    "\n",
    "### Equity\n",
    "\n",
    "* Where does this data come from?\n",
    "* Why was this data collected?\n",
    "* How was this data generated?\n",
    "* Is this data demographically representative?\n",
    "* Who is included and who is excluded from this data?\n",
    "* Whose voices, lives, and experiences are missing?\n",
    "* How much can this data be disaggregated by race, gender, ethnicity, etc.?\n",
    "* Are the categories mutually exclusive and fully inclusive?\n",
    "* Are there “other” categories and, if so, who does that include?\n",
    "* Who stands to benefit from this data?\n",
    "* Who might be harmed by the collection or publication of this data?\n",
    "\n",
    "(See more in Urban Institute’s [Do No Harm Guide](https://www.urban.org/research/publication/do-no-harm-guide-applying-equity-awareness-data-visualization/view/full_report))\n",
    "\n",
    "![](https://github.com/social-lorax/howto_codebooks/blob/master/images/underlines/python_underline.png?raw=true)\n",
    "\n",
    "# Importing \n",
    "\n",
    "`pandas` covers the basics like csv files"
   ]
  },
  {
   "cell_type": "code",
   "execution_count": null,
   "id": "d55ffd32",
   "metadata": {},
   "outputs": [],
   "source": [
    "pd.read_csv(\"path/to/file.csv\")"
   ]
  },
  {
   "cell_type": "code",
   "execution_count": null,
   "id": "7ae89fe9",
   "metadata": {},
   "outputs": [],
   "source": [
    "pd.read_csv(\"url\")"
   ]
  },
  {
   "cell_type": "markdown",
   "id": "f9b017d1",
   "metadata": {},
   "source": [
    "<br> \n",
    "\n",
    "`pandas` can also deal with excel files"
   ]
  },
  {
   "cell_type": "code",
   "execution_count": null,
   "id": "3937f40c",
   "metadata": {},
   "outputs": [],
   "source": [
    "#pip install xlrd"
   ]
  },
  {
   "cell_type": "code",
   "execution_count": null,
   "id": "f901867b",
   "metadata": {},
   "outputs": [],
   "source": [
    "pd.read_excel(\"path/to/file.xlxs\")"
   ]
  },
  {
   "cell_type": "markdown",
   "id": "0c139e6f",
   "metadata": {},
   "source": [
    "![](https://github.com/social-lorax/howto_codebooks/blob/master/images/underlines/python_underline.png?raw=true)\n",
    "\n",
    "# Creating \n"
   ]
  },
  {
   "cell_type": "code",
   "execution_count": 3,
   "id": "65c920db",
   "metadata": {},
   "outputs": [
    {
     "data": {
      "text/html": [
       "<div>\n",
       "<style scoped>\n",
       "    .dataframe tbody tr th:only-of-type {\n",
       "        vertical-align: middle;\n",
       "    }\n",
       "\n",
       "    .dataframe tbody tr th {\n",
       "        vertical-align: top;\n",
       "    }\n",
       "\n",
       "    .dataframe thead th {\n",
       "        text-align: right;\n",
       "    }\n",
       "</style>\n",
       "<table border=\"1\" class=\"dataframe\">\n",
       "  <thead>\n",
       "    <tr style=\"text-align: right;\">\n",
       "      <th></th>\n",
       "      <th>County</th>\n",
       "      <th>Captial</th>\n",
       "      <th>Population_mil</th>\n",
       "    </tr>\n",
       "  </thead>\n",
       "  <tbody>\n",
       "    <tr>\n",
       "      <th>0</th>\n",
       "      <td>United States</td>\n",
       "      <td>Washington D.C.</td>\n",
       "      <td>328.20</td>\n",
       "    </tr>\n",
       "    <tr>\n",
       "      <th>1</th>\n",
       "      <td>Canada</td>\n",
       "      <td>Ottawa</td>\n",
       "      <td>37.59</td>\n",
       "    </tr>\n",
       "    <tr>\n",
       "      <th>2</th>\n",
       "      <td>Mexico</td>\n",
       "      <td>Ciudad de Mexico</td>\n",
       "      <td>127.60</td>\n",
       "    </tr>\n",
       "  </tbody>\n",
       "</table>\n",
       "</div>"
      ],
      "text/plain": [
       "          County           Captial  Population_mil\n",
       "0  United States   Washington D.C.          328.20\n",
       "1         Canada            Ottawa           37.59\n",
       "2         Mexico  Ciudad de Mexico          127.60"
      ]
     },
     "execution_count": 3,
     "metadata": {},
     "output_type": "execute_result"
    }
   ],
   "source": [
    "data_dict = {\"County\": [\"United States\", \"Canada\", \"Mexico\"],\n",
    "             \"Captial\": [\"Washington D.C.\", \"Ottawa\", \"Ciudad de Mexico\"],\n",
    "             \"Population_mil\": [328.2, 37.59, 127.6]}\n",
    "\n",
    "pd.DataFrame(data_dict)"
   ]
  },
  {
   "cell_type": "markdown",
   "id": "fd855366",
   "metadata": {},
   "source": [
    "![](https://github.com/social-lorax/howto_codebooks/blob/master/images/underlines/python_underline.png?raw=true)\n",
    "\n",
    "# Exporting "
   ]
  },
  {
   "cell_type": "code",
   "execution_count": null,
   "id": "5523d01c",
   "metadata": {},
   "outputs": [],
   "source": [
    "df.DataFrame.to_csv(index = False)"
   ]
  },
  {
   "cell_type": "markdown",
   "id": "f2f19880",
   "metadata": {},
   "source": [
    "![](https://github.com/social-lorax/howto_codebooks/blob/master/images/underlines/python_underline.png?raw=true)\n",
    "\n",
    "# APIs "
   ]
  },
  {
   "cell_type": "code",
   "execution_count": 4,
   "id": "280671e6",
   "metadata": {},
   "outputs": [],
   "source": [
    "import requests #the module for making HTTP requests in Python; provides GET funcionality\n",
    "\n",
    "try: #spelling depends on enviroment version \n",
    "    import urllib2 as urllib #URL handling module\n",
    "except ImportError:\n",
    "    import urllib.request as urllib\n",
    "    \n",
    "import json\n",
    "import glob #Unix style pathname pattern expansion\n",
    "import sys"
   ]
  },
  {
   "cell_type": "markdown",
   "id": "d318ec8e",
   "metadata": {},
   "source": [
    "### NYC Open Data"
   ]
  },
  {
   "cell_type": "code",
   "execution_count": 5,
   "id": "89fd38de",
   "metadata": {},
   "outputs": [
    {
     "data": {
      "text/plain": [
       "{'vendorid': '1',\n",
       " 'tpep_pickup_datetime': '2018-02-26T05:07:58.000',\n",
       " 'tpep_dropoff_datetime': '2018-02-26T05:31:54.000',\n",
       " 'passenger_count': '1',\n",
       " 'trip_distance': '15.90',\n",
       " 'ratecodeid': '1',\n",
       " 'store_and_fwd_flag': 'N',\n",
       " 'pulocationid': '149',\n",
       " 'dolocationid': '132',\n",
       " 'payment_type': '1',\n",
       " 'fare_amount': '43',\n",
       " 'extra': '0.5',\n",
       " 'mta_tax': '0.5',\n",
       " 'tip_amount': '7',\n",
       " 'tolls_amount': '0',\n",
       " 'improvement_surcharge': '0.3',\n",
       " 'total_amount': '51.3'}"
      ]
     },
     "execution_count": 5,
     "metadata": {},
     "output_type": "execute_result"
    }
   ],
   "source": [
    "parameter = {'pulocationid':149, 'dolocationid':132}\n",
    "url =  \"https://data.cityofnewyork.us/resource/t29m-gskq.json\"\n",
    "r = requests.get(url = url, params=parameter)\n",
    "data = r.json()\n",
    "\n",
    "data[1]"
   ]
  },
  {
   "cell_type": "code",
   "execution_count": 6,
   "id": "1ff35a8e",
   "metadata": {},
   "outputs": [],
   "source": [
    "def getFare(df):\n",
    "    \n",
    "    fares = [] # list for storing fares\n",
    "    \n",
    "    for index, row in df.iterrows(): # iterating through all rows of sample points\n",
    "        \n",
    "        # specify parameters for making request\n",
    "        parameters = {'pulocationid':int(row['Start_Zone']), 'dolocationid':int(row['End_Zone'])}\n",
    "        \n",
    "        url =  \"https://data.cityofnewyork.us/resource/t29m-gskq.json\"\n",
    "        r = requests.get(url = url, params=parameters)\n",
    "        data = r.json()\n",
    "        \n",
    "        odFare = []\n",
    "        \n",
    "        for obs in data: # iterating through each returned observation for the returned data \n",
    "            \n",
    "            # making sanity checks and appending fares to 'odFare' list\n",
    "            try:\n",
    "                fare = float(obs['fare_amount'])\n",
    "\n",
    "                if (fare < 300 and fare > 2.5 ):\n",
    "                    odFare.append(fare)\n",
    "                    \n",
    "            except: \n",
    "                pass\n",
    "            \n",
    "        # appending the mean of travel times retrieved above to the 'fares' list\n",
    "        fares.append(np.mean(odFare))\n",
    "        \n",
    "    return fares"
   ]
  },
  {
   "cell_type": "code",
   "execution_count": 7,
   "id": "23c5ff4c",
   "metadata": {},
   "outputs": [
    {
     "data": {
      "text/html": [
       "<div>\n",
       "<style scoped>\n",
       "    .dataframe tbody tr th:only-of-type {\n",
       "        vertical-align: middle;\n",
       "    }\n",
       "\n",
       "    .dataframe tbody tr th {\n",
       "        vertical-align: top;\n",
       "    }\n",
       "\n",
       "    .dataframe thead th {\n",
       "        text-align: right;\n",
       "    }\n",
       "</style>\n",
       "<table border=\"1\" class=\"dataframe\">\n",
       "  <thead>\n",
       "    <tr style=\"text-align: right;\">\n",
       "      <th></th>\n",
       "      <th>Trip</th>\n",
       "      <th>Start_Zone</th>\n",
       "      <th>End_Zone</th>\n",
       "      <th>Avg_Fare</th>\n",
       "    </tr>\n",
       "  </thead>\n",
       "  <tbody>\n",
       "    <tr>\n",
       "      <th>0</th>\n",
       "      <td>Home to JFK</td>\n",
       "      <td>149</td>\n",
       "      <td>132</td>\n",
       "      <td>42.875</td>\n",
       "    </tr>\n",
       "    <tr>\n",
       "      <th>1</th>\n",
       "      <td>Home to LaGuardia</td>\n",
       "      <td>149</td>\n",
       "      <td>138</td>\n",
       "      <td>62.125</td>\n",
       "    </tr>\n",
       "  </tbody>\n",
       "</table>\n",
       "</div>"
      ],
      "text/plain": [
       "                Trip  Start_Zone  End_Zone  Avg_Fare\n",
       "0        Home to JFK         149       132    42.875\n",
       "1  Home to LaGuardia         149       138    62.125"
      ]
     },
     "execution_count": 7,
     "metadata": {},
     "output_type": "execute_result"
    }
   ],
   "source": [
    "data_dict = {\"Trip\": [\"Home to JFK\", \"Home to LaGuardia\"],\n",
    "             \"Start_Zone\": [149, 149],\n",
    "             \"End_Zone\": [132, 138]}\n",
    "\n",
    "ods = pd.DataFrame(data_dict)\n",
    "\n",
    "ods[\"Avg_Fare\"] = getFare(ods)\n",
    "\n",
    "ods"
   ]
  },
  {
   "cell_type": "markdown",
   "id": "8197ffc6",
   "metadata": {},
   "source": [
    "![](https://github.com/social-lorax/howto_codebooks/blob/master/images/underlines/python_underline.png?raw=true)"
   ]
  }
 ],
 "metadata": {
  "kernelspec": {
   "display_name": "Python [conda env:PUI]",
   "language": "python",
   "name": "conda-env-PUI-py"
  },
  "language_info": {
   "codemirror_mode": {
    "name": "ipython",
    "version": 3
   },
   "file_extension": ".py",
   "mimetype": "text/x-python",
   "name": "python",
   "nbconvert_exporter": "python",
   "pygments_lexer": "ipython3",
   "version": "3.8.10"
  }
 },
 "nbformat": 4,
 "nbformat_minor": 5
}
