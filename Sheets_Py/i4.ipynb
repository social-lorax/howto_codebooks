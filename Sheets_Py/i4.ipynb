{
 "cells": [
  {
   "cell_type": "markdown",
   "id": "96a0eae1",
   "metadata": {},
   "source": [
    "[Return to Main Page](https://social-lorax.github.io/guides/index.html)\n",
    "\n",
    "![](https://github.com/social-lorax/howto_codebooks/blob/master/images/python/i4_main.png?raw=true)\n",
    "\n",
    "![](https://github.com/social-lorax/howto_codebooks/blob/master/images/index/underline.gif?raw=true)"
   ]
  },
  {
   "cell_type": "code",
   "execution_count": null,
   "id": "b51f9869",
   "metadata": {},
   "outputs": [],
   "source": []
  }
 ],
 "metadata": {
  "kernelspec": {
   "display_name": "Python [conda env:PUI]",
   "language": "python",
   "name": "conda-env-PUI-py"
  },
  "language_info": {
   "codemirror_mode": {
    "name": "ipython",
    "version": 3
   },
   "file_extension": ".py",
   "mimetype": "text/x-python",
   "name": "python",
   "nbconvert_exporter": "python",
   "pygments_lexer": "ipython3",
   "version": "3.8.10"
  }
 },
 "nbformat": 4,
 "nbformat_minor": 5
}
