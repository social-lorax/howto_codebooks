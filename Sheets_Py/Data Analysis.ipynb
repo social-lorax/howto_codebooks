{
 "cells": [
  {
   "cell_type": "markdown",
   "metadata": {},
   "source": [
    "# Set-Up\n",
    "\n",
    "## Anaconda\n",
    "\n",
    "Anaconda is a program to manage (install, upgrade, or uninstall) packages and environments to use with Python. It's simple to install packages with Anaconda and create virtual environments to work on multiple projects conveniently.\n",
    "\n",
    "### Create a Conda environment for each project\n",
    "\n",
    "conda create -n [environment name] [python version] [packages]\n",
    "\n",
    "`conda create -n example_envi python=3.7 pandas`\n",
    "\n",
    "### Open Conda environment\n",
    "\n",
    "`conda activate example_envi`\n",
    "\n",
    "### Install packages\n",
    "`conda install numpy pandas matplotlib`\n",
    "\n",
    "`pip install non_anaconda_package`\n",
    "\n",
    "### Share environment\n",
    "`conda env export > environment.yaml`\n",
    "\n",
    "`pip freeze > requirements.txt`"
   ]
  },
  {
   "cell_type": "markdown",
   "metadata": {},
   "source": [
    "# Data Analysis"
   ]
  },
  {
   "cell_type": "markdown",
   "metadata": {},
   "source": [
    "## Question"
   ]
  },
  {
   "cell_type": "markdown",
   "metadata": {},
   "source": [
    "## Wrangle"
   ]
  },
  {
   "cell_type": "markdown",
   "metadata": {},
   "source": [
    "## Explore"
   ]
  },
  {
   "cell_type": "markdown",
   "metadata": {},
   "source": [
    "## Draw Conclusions "
   ]
  },
  {
   "cell_type": "markdown",
   "metadata": {},
   "source": [
    "## Communicate"
   ]
  },
  {
   "cell_type": "code",
   "execution_count": null,
   "metadata": {},
   "outputs": [],
   "source": []
  }
 ],
 "metadata": {
  "kernelspec": {
   "display_name": "Python 3",
   "language": "python",
   "name": "python3"
  }
 },
 "nbformat": 4,
 "nbformat_minor": 2
}
