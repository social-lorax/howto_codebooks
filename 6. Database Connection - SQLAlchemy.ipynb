{
    "nbformat_minor": 2, 
    "cells": [
        {
            "source": "![Alt text](https://www.fullstackpython.com/img/logos/sqlalchemy.jpg)", 
            "cell_type": "markdown", 
            "metadata": {}
        }, 
        {
            "execution_count": 1, 
            "cell_type": "code", 
            "metadata": {}, 
            "outputs": [], 
            "source": "from sqlalchemy import create_engine\nfrom sqlalchemy import MetaData, Table\nfrom sqlalchemy import select"
        }, 
        {
            "source": "# $Connecting$\n***", 
            "cell_type": "markdown", 
            "metadata": {}
        }, 
        {
            "execution_count": 2, 
            "cell_type": "code", 
            "metadata": {}, 
            "outputs": [], 
            "source": "engine = create_engine('sqlite:///Chinook_Sqlite.sqlite')\nconnection = engine.connect()"
        }, 
        {
            "source": "# $Reflecting$\n***", 
            "cell_type": "markdown", 
            "metadata": {}
        }, 
        {
            "execution_count": 3, 
            "cell_type": "code", 
            "metadata": {}, 
            "outputs": [
                {
                    "output_type": "stream", 
                    "name": "stdout", 
                    "text": "['Album', 'Artist', 'Customer', 'Employee', 'Genre', 'Invoice', 'InvoiceLine', 'MediaType', 'Playlist', 'PlaylistTrack', 'Track']\n"
                }
            ], 
            "source": "# Print tables in database \nprint(engine.table_names())"
        }, 
        {
            "execution_count": 4, 
            "cell_type": "code", 
            "metadata": {}, 
            "outputs": [
                {
                    "output_type": "stream", 
                    "name": "stdout", 
                    "text": "['CustomerId', 'FirstName', 'LastName', 'Company', 'Address', 'City', 'State', 'Country', 'PostalCode', 'Phone', 'Fax', 'Email', 'SupportRepId']\n"
                }
            ], 
            "source": "# Select a table and print the columns\nmetadata = MetaData()\ntable = Table('Customer', metadata, autoload=True, autoload_with=engine) \nprint(table.columns.keys())"
        }, 
        {
            "source": "# $Querying$\n***", 
            "cell_type": "markdown", 
            "metadata": {}
        }, 
        {
            "source": "### $With$ $SQL$", 
            "cell_type": "markdown", 
            "metadata": {}
        }, 
        {
            "execution_count": 5, 
            "cell_type": "code", 
            "metadata": {}, 
            "outputs": [], 
            "source": "stmt = 'SELECT * FROM Customer'\nresults1 = connection.execute(stmt)"
        }, 
        {
            "source": "### ***With Pythonic Language***", 
            "cell_type": "markdown", 
            "metadata": {}
        }, 
        {
            "execution_count": 6, 
            "cell_type": "code", 
            "metadata": {}, 
            "outputs": [], 
            "source": "# Requires reflecting\nstmt = select([table])\nresults2 = connection.execute(stmt)"
        }, 
        {
            "source": "# $Extracting$\n***", 
            "cell_type": "markdown", 
            "metadata": {}
        }, 
        {
            "execution_count": 7, 
            "cell_type": "code", 
            "metadata": {}, 
            "outputs": [
                {
                    "output_type": "stream", 
                    "name": "stdout", 
                    "text": "(1, 'Lu\u00eds', 'Gon\u00e7alves', 'Embraer - Empresa Brasileira de Aeron\u00e1utica S.A.', 'Av. Brigadeiro Faria Lima, 2170', 'S\u00e3o Jos\u00e9 dos Campos', 'SP', 'Brazil', '12227-000', '+55 (12) 3923-5555', '+55 (12) 3923-5566', 'luisg@embraer.com.br', 3)\n"
                }
            ], 
            "source": "# All rows\ndata = results1.fetchall()\nprint(data[0])"
        }, 
        {
            "execution_count": 8, 
            "cell_type": "code", 
            "metadata": {}, 
            "outputs": [
                {
                    "output_type": "stream", 
                    "name": "stdout", 
                    "text": "[(1, 'Lu\u00eds', 'Gon\u00e7alves', 'Embraer - Empresa Brasileira de Aeron\u00e1utica S.A.', 'Av. Brigadeiro Faria Lima, 2170', 'S\u00e3o Jos\u00e9 dos Campos', 'SP', 'Brazil', '12227-000', '+55 (12) 3923-5555', '+55 (12) 3923-5566', 'luisg@embraer.com.br', 3), (2, 'Leonie', 'K\u00f6hler', None, 'Theodor-Heuss-Stra\u00dfe 34', 'Stuttgart', None, 'Germany', '70174', '+49 0711 2842222', None, 'leonekohler@surfeu.de', 5), (3, 'Fran\u00e7ois', 'Tremblay', None, '1498 rue B\u00e9langer', 'Montr\u00e9al', 'QC', 'Canada', 'H2G 1A7', '+1 (514) 721-4711', None, 'ftremblay@gmail.com', 3), (4, 'Bj\u00f8rn', 'Hansen', None, 'Ullev\u00e5lsveien 14', 'Oslo', None, 'Norway', '0171', '+47 22 44 22 22', None, 'bjorn.hansen@yahoo.no', 4), (5, 'Franti\u0161ek', 'Wichterlov\u00e1', 'JetBrains s.r.o.', 'Klanova 9/506', 'Prague', None, 'Czech Republic', '14700', '+420 2 4172 5555', '+420 2 4172 5555', 'frantisekw@jetbrains.com', 4), (6, 'Helena', 'Hol\u00fd', None, 'Rilsk\u00e1 3174/6', 'Prague', None, 'Czech Republic', '14300', '+420 2 4177 0449', None, 'hholy@gmail.com', 5), (7, 'Astrid', 'Gruber', None, 'Rotenturmstra\u00dfe 4, 1010 Innere Stadt', 'Vienne', None, 'Austria', '1010', '+43 01 5134505', None, 'astrid.gruber@apple.at', 5), (8, 'Daan', 'Peeters', None, 'Gr\u00e9trystraat 63', 'Brussels', None, 'Belgium', '1000', '+32 02 219 03 03', None, 'daan_peeters@apple.be', 4), (9, 'Kara', 'Nielsen', None, 'S\u00f8nder Boulevard 51', 'Copenhagen', None, 'Denmark', '1720', '+453 3331 9991', None, 'kara.nielsen@jubii.dk', 4), (10, 'Eduardo', 'Martins', 'Woodstock Discos', 'Rua Dr. Falc\u00e3o Filho, 155', 'S\u00e3o Paulo', 'SP', 'Brazil', '01007-010', '+55 (11) 3033-5446', '+55 (11) 3033-4564', 'eduardo@woodstock.com.br', 4)]\n"
                }
            ], 
            "source": "# Some rows \nsample = results2.fetchmany(10)\nprint(sample)"
        }, 
        {
            "source": "# $DataFraming$\n***", 
            "cell_type": "markdown", 
            "metadata": {}
        }, 
        {
            "execution_count": 9, 
            "cell_type": "code", 
            "metadata": {}, 
            "outputs": [
                {
                    "execution_count": 9, 
                    "metadata": {}, 
                    "data": {
                        "text/html": "<div>\n<style scoped>\n    .dataframe tbody tr th:only-of-type {\n        vertical-align: middle;\n    }\n\n    .dataframe tbody tr th {\n        vertical-align: top;\n    }\n\n    .dataframe thead th {\n        text-align: right;\n    }\n</style>\n<table border=\"1\" class=\"dataframe\">\n  <thead>\n    <tr style=\"text-align: right;\">\n      <th></th>\n      <th>CustomerId</th>\n      <th>FirstName</th>\n      <th>LastName</th>\n      <th>Company</th>\n      <th>Address</th>\n      <th>City</th>\n      <th>State</th>\n      <th>Country</th>\n      <th>PostalCode</th>\n      <th>Phone</th>\n      <th>Fax</th>\n      <th>Email</th>\n      <th>SupportRepId</th>\n    </tr>\n  </thead>\n  <tbody>\n    <tr>\n      <th>0</th>\n      <td>1</td>\n      <td>Lu\u00eds</td>\n      <td>Gon\u00e7alves</td>\n      <td>Embraer - Empresa Brasileira de Aeron\u00e1utica S.A.</td>\n      <td>Av. Brigadeiro Faria Lima, 2170</td>\n      <td>S\u00e3o Jos\u00e9 dos Campos</td>\n      <td>SP</td>\n      <td>Brazil</td>\n      <td>12227-000</td>\n      <td>+55 (12) 3923-5555</td>\n      <td>+55 (12) 3923-5566</td>\n      <td>luisg@embraer.com.br</td>\n      <td>3</td>\n    </tr>\n    <tr>\n      <th>1</th>\n      <td>2</td>\n      <td>Leonie</td>\n      <td>K\u00f6hler</td>\n      <td>None</td>\n      <td>Theodor-Heuss-Stra\u00dfe 34</td>\n      <td>Stuttgart</td>\n      <td>None</td>\n      <td>Germany</td>\n      <td>70174</td>\n      <td>+49 0711 2842222</td>\n      <td>None</td>\n      <td>leonekohler@surfeu.de</td>\n      <td>5</td>\n    </tr>\n    <tr>\n      <th>2</th>\n      <td>3</td>\n      <td>Fran\u00e7ois</td>\n      <td>Tremblay</td>\n      <td>None</td>\n      <td>1498 rue B\u00e9langer</td>\n      <td>Montr\u00e9al</td>\n      <td>QC</td>\n      <td>Canada</td>\n      <td>H2G 1A7</td>\n      <td>+1 (514) 721-4711</td>\n      <td>None</td>\n      <td>ftremblay@gmail.com</td>\n      <td>3</td>\n    </tr>\n    <tr>\n      <th>3</th>\n      <td>4</td>\n      <td>Bj\u00f8rn</td>\n      <td>Hansen</td>\n      <td>None</td>\n      <td>Ullev\u00e5lsveien 14</td>\n      <td>Oslo</td>\n      <td>None</td>\n      <td>Norway</td>\n      <td>0171</td>\n      <td>+47 22 44 22 22</td>\n      <td>None</td>\n      <td>bjorn.hansen@yahoo.no</td>\n      <td>4</td>\n    </tr>\n    <tr>\n      <th>4</th>\n      <td>5</td>\n      <td>Franti\u0161ek</td>\n      <td>Wichterlov\u00e1</td>\n      <td>JetBrains s.r.o.</td>\n      <td>Klanova 9/506</td>\n      <td>Prague</td>\n      <td>None</td>\n      <td>Czech Republic</td>\n      <td>14700</td>\n      <td>+420 2 4172 5555</td>\n      <td>+420 2 4172 5555</td>\n      <td>frantisekw@jetbrains.com</td>\n      <td>4</td>\n    </tr>\n  </tbody>\n</table>\n</div>", 
                        "text/plain": "   CustomerId  FirstName     LastName  \\\n0           1       Lu\u00eds    Gon\u00e7alves   \n1           2     Leonie       K\u00f6hler   \n2           3   Fran\u00e7ois     Tremblay   \n3           4      Bj\u00f8rn       Hansen   \n4           5  Franti\u0161ek  Wichterlov\u00e1   \n\n                                            Company  \\\n0  Embraer - Empresa Brasileira de Aeron\u00e1utica S.A.   \n1                                              None   \n2                                              None   \n3                                              None   \n4                                  JetBrains s.r.o.   \n\n                           Address                 City State         Country  \\\n0  Av. Brigadeiro Faria Lima, 2170  S\u00e3o Jos\u00e9 dos Campos    SP          Brazil   \n1          Theodor-Heuss-Stra\u00dfe 34            Stuttgart  None         Germany   \n2                1498 rue B\u00e9langer             Montr\u00e9al    QC          Canada   \n3                 Ullev\u00e5lsveien 14                 Oslo  None          Norway   \n4                    Klanova 9/506               Prague  None  Czech Republic   \n\n  PostalCode               Phone                 Fax  \\\n0  12227-000  +55 (12) 3923-5555  +55 (12) 3923-5566   \n1      70174    +49 0711 2842222                None   \n2    H2G 1A7   +1 (514) 721-4711                None   \n3       0171     +47 22 44 22 22                None   \n4      14700    +420 2 4172 5555    +420 2 4172 5555   \n\n                      Email  SupportRepId  \n0      luisg@embraer.com.br             3  \n1     leonekohler@surfeu.de             5  \n2       ftremblay@gmail.com             3  \n3     bjorn.hansen@yahoo.no             4  \n4  frantisekw@jetbrains.com             4  "
                    }, 
                    "output_type": "execute_result"
                }
            ], 
            "source": "import pandas as pd\n\ndf = pd.DataFrame(data)\ndf.columns = results1.keys()\ndf.head()"
        }, 
        {
            "source": "# $Closing the Connection$\n***", 
            "cell_type": "markdown", 
            "metadata": {}
        }, 
        {
            "execution_count": 10, 
            "cell_type": "code", 
            "metadata": {}, 
            "outputs": [], 
            "source": "connection.close()"
        }, 
        {
            "source": "![alt text](http://heienv.com/wp-content/uploads/2017/03/fancy-line-break.png)", 
            "cell_type": "markdown", 
            "metadata": {}
        }, 
        {
            "source": "![Alt Text](https://connpass-tokyo.s3.amazonaws.com/event/23921/e10670013b344729b00b22f12f842bca.png)", 
            "cell_type": "markdown", 
            "metadata": {}
        }, 
        {
            "source": "![image.png](http://i63.tinypic.com/264gn7q.png)\n![alt text](http://heienv.com/wp-content/uploads/2017/03/fancy-line-break.png)", 
            "cell_type": "markdown", 
            "attachments": {}, 
            "metadata": {}
        }, 
        {
            "source": "<h3><center>$Basic$ $Select$</center></h3>\n\n|.|.|.|  \n|:---|:---|:---|  \n|**SELECT** *column names*<br>**FROM** *table name*;|Select data from a table|**SELECT*** LastName, FirstName<br>**FROM** Persons|       \n|**SELECT** \\*<br>**FROM** *table name*;|Select all data from a table|**SELECT** \\*<br>**FROM** Persons|\n|**SELECT DISTINCT** *column names*<br>**FROM** *table name*;|Select only distinct (different) data from a table|**SELECT DISTINCT** LastName<br>**FROM** Persons;|\n|**SELECT AggFunc**(*column name*)<br>**FROM** *table name*;|Perform a function on the data before returning it<br><br>- Average: **AVG**()<br>- Count: **COUNT**()<br>- Highest value: **MAX**()<br>- Lowest value: **MIN**()<br>- Sum: **SUM**()<br><br>**COUNT**(\\*) = number of rows<br>**COUNT**(*column name*) = number of non-nulls in that column<br>**COUNT**(**DISTINCT** *column name*) = number of distinct values in that column<br><br>Date elements can be extracted from date columns using **YEAR**(),**MONTH**(),etc.|**SELECT AVG**(Age)<br>**FROM** Persons;|\n\n\n![alt text](http://heienv.com/wp-content/uploads/2017/03/fancy-line-break.png)", 
            "cell_type": "markdown", 
            "metadata": {}
        }, 
        {
            "source": "<h3><center>$Where$ $Clauses$</center></h3>\n\n|.|.|.\n|:---|:---|:---|\n|**SELECT** *column names*<br>**FROM** *table name*<br>**WHERE** *value*<br>**AND** *value*<br>**OR** *value*<br>**AND**(...**OR**...)<br>etc.|Select specific data from a table<br> <br>- Equal  to:   =<br>- Not equal to:   <><br>- Greater than:   ><br>- Less than:   <<br>- Greater or equal to:   >=<br>- Less or equal to:   <=|**SELECT** \\*<br>**FROM** Persons<br>**WHERE** sex='female';<br><br>**SELECT** \\*<br>**FROM** Persons<br>**WHERE** FirstName='Ryan'<br>**AND** LastName='Brenner';<br><br>**SELECT** \\*<br>**FROM** Persons<br>**WHERE** (FirstName='Ryan' **OR** FirstName='Bryan')<br>**AND** LastName='Brenner';|\n|**SELECT** *column names*<br>**FROM** *table name*<br>**WHERE** *value* **BETWEEN** *a* **AND** *b*;|Select a specific, inclusive range|**SELECT** \\*<br>**FROM** Persons<br>**WHERE** Year **BETWEEN** 1990 **AND** 1999;|\n|**SELECT** *column names*<br>**FROM** *table name*<br>**WHERE** *value* **LIKE** *pattern*;|Search for a pattern<br><br>- Single wild card: \\_<br>- Unlimited wild card: %|**SELECT** \\*<br>**FROM** Persons<br>**WHERE** FirstName **LIKE** 'Br_an';<br><br>**SELECT** \\*<br>**FROM** Persons<br>**WHERE** FirstName **LIKE** 'Kath%';<br><br>**SELECT** \\*<br>**FROM** Persons<br>**WHERE** FirstName **LIKE** '%iel';|\n|**SELECT** *column names*<br>**FROM** *table name*<br>**WHERE** **LCASE**(*column name*) *value*|Prevents case from missing selections of strings|**SELECT** \\*<br>**FROM** Persons<br>**WHERE** **LCASE**(LastName)='mcdonald';|\n|**SELECT** *column names*<br>**FROM** *table name*<br>**WHERE** *column name* **IS/IS NOT NULL**|Search for nulls or avoid them|**SELECT** \\*<br>**FROM** Persons<br>**WHERE** MiddleName **IS NULL**;<br><br>**SELECT** \\*<br>**FROM** Persons<br>**WHERE** MiddleName **IS NOT NULL**;|\n|**SELECT** *column names*<br>**FROM** *table name*<br>**WHERE** *column name* **IN**(*value 1, value 2, etc.*);|Select exact values faster than multiple **AND**s|**SELECT** \\*<br>**FROM** Persons<br>**WHERE** LastName **IN**(Brenner, Connolly, Stevens);|\n\n![alt text](http://heienv.com/wp-content/uploads/2017/03/fancy-line-break.png)", 
            "cell_type": "markdown", 
            "metadata": {}
        }, 
        {
            "source": "<h3><center>$Ordering$</center></h3>\n\n|.|.|.|\n|:---|:---|:---|\n|**SELECT** *column names*<br>**FROM** *table name*<br>**ORDERED BY** *row* **ASC/DESC**;|Select data ordered in a certain way|**SELECT** \\*<br>**FROM** Persons<br>**ORDERED BY** LastName;<br><br>**SELECT** \\*<br>**FROM** Persons<br>**ORDERED BY** Year **DESC**;<br><br>**SELECT** \\*<br>**FROM** Persons<br>**ORDERED BY** LastName **DESC**,FirstName **ASC**;|\n\n![alt text](http://heienv.com/wp-content/uploads/2017/03/fancy-line-break.png)", 
            "cell_type": "markdown", 
            "metadata": {}
        }, 
        {
            "source": "<h3><center>$Grouping$</center></h3>\n\n|.|.|.|\n|:---|:---|:---|\n|**SELECT** *column names*,**AggFunc**(*column names*)<br>**FROM** *table name*<br>**GROUP BY** *column name*;|Run aggregate functions by group|**SELECT** Company,**SUM**(Amount)<br>**FROM** Sales<br>**GROUP BY** Company;|\n|**SELECT** *column names*,**AggFunc**(*column names*)<br>**FROM** *table name*<br>**GROUP BY** *column name*<br>**HAVING AggFunc**(*column names*) *condition*;|Select based on the aggregated grouping|**SELECT** Company,**SUM**(Amount)<br>**FROM** Sales<br>**GROUP BY** Company<br>**HAVING SUM**(Amount)>100000;|\n\n![alt text](http://heienv.com/wp-content/uploads/2017/03/fancy-line-break.png)", 
            "cell_type": "markdown", 
            "metadata": {}
        }, 
        {
            "source": "<h3><center>$Aliases$</center></h3>\n\n|.|.|.|\n|:---|:---|:---|\n|**SELECT** *column name* **AS** *new name*<br>**FROM** *table name*;|Create a column alias|**SELECT** LastName **AS** Family,FirstName **AS** Name<br>**FROM** Persons;|\n|**SELECT** *column name*<br>**FROM** *table name* **AS** *new name*;|Create a table alias|**SELECT** \\*<br>**FROM** Persons **AS** Employees;|\n|**SELECT** *column names*,<br>**CASE**<br></t>**WHEN** *condition 1* **THEN** *result 1*<br></t>**WHEN** *condition 2* **THEN** *result 2*<br></t>etc.|Create masks for given conditions|**SELECT** County,Population,<br>**CASE**<br></t>**WHEN** Population >= 400000 **THEN** 'Large'<br></t>**WHEN** Population >= 100000 **AND** Population < 400000 **THEN** 'Medium'<br></t>**WHEN** Population < 100000 **THEN** 'Small'\n\n![alt text](http://heienv.com/wp-content/uploads/2017/03/fancy-line-break.png)", 
            "cell_type": "markdown", 
            "metadata": {}
        }, 
        {
            "source": "<h3><center>$Joins$</center></h3>\n\n|.|.|.|\n|:---|:---|:---|\n|**SELECT** a.*column1*,b.*column2*,etc.<br>**FROM** *table 1* **AS** a<br>**INNER/FULL/LEFT/RIGHT JOIN** *table 2* **AS** b **ON** a.*key* = b.*key*;|![](https://i.stack.imgur.com/iJUMl.png)|**SELECT** a.Name,b.Product<br>**FROM** Employee **AS** a<br>**INNER JOIN** Orders **AS** b **ON** a.Employee_ID = b.Employee_ID;<br><br>**SELECT** a.Name,b.Product,c.Price<br>**FROM** Employee **AS** a<br>**RIGHT JOIN** Orders **AS** b **ON** a.Employee_ID = b.Employee_ID;**LEFT JOIN** Inventory **AS** c **ON** b.Product_ID = c.BINNUM;|\n            \n![alt text](http://heienv.com/wp-content/uploads/2017/03/fancy-line-break.png)", 
            "cell_type": "markdown", 
            "metadata": {}
        }, 
        {
            "source": "<h3><center>$Aliases$</center></h3>\n\n|.|.|.|\n|:---|:---|:---|\n            \n![alt text](http://heienv.com/wp-content/uploads/2017/03/fancy-line-break.png)", 
            "cell_type": "markdown", 
            "metadata": {}
        }, 
        {
            "source": "<h3><center>$Aliases$</center></h3>\n\n|.|.|.|\n|:---|:---|:---|\n            \n![alt text](http://heienv.com/wp-content/uploads/2017/03/fancy-line-break.png)", 
            "cell_type": "markdown", 
            "metadata": {}
        }, 
        {
            "source": "<h3><center>$Aliases$</center></h3>\n\n|.|.|.|\n|:---|:---|:---|\n            \n![alt text](http://heienv.com/wp-content/uploads/2017/03/fancy-line-break.png)", 
            "cell_type": "markdown", 
            "metadata": {}
        }
    ], 
    "metadata": {
        "kernelspec": {
            "display_name": "Python 3.5", 
            "name": "python3", 
            "language": "python"
        }, 
        "language_info": {
            "mimetype": "text/x-python", 
            "nbconvert_exporter": "python", 
            "version": "3.5.5", 
            "name": "python", 
            "file_extension": ".py", 
            "pygments_lexer": "ipython3", 
            "codemirror_mode": {
                "version": 3, 
                "name": "ipython"
            }
        }
    }, 
    "nbformat": 4
}